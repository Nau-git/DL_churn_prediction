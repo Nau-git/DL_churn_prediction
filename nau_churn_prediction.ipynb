{
 "cells": [
  {
   "cell_type": "markdown",
   "metadata": {},
   "source": [
    "# 1 - Introduction"
   ]
  },
  {
   "cell_type": "markdown",
   "metadata": {},
   "source": [
    "Hi, I'm Naufal. This is the notebook for my first deep learning project. The dataset can be accessed here https://www.kaggle.com/datasets/blastchar/telco-customer-churn. I will design a deep learning model to predict if a customer will churn or not based on the provided information."
   ]
  },
  {
   "cell_type": "markdown",
   "metadata": {},
   "source": [
    "---\n",
    "# 2 - Import Libraries"
   ]
  },
  {
   "cell_type": "code",
   "execution_count": 1,
   "metadata": {},
   "outputs": [],
   "source": [
    "import warnings\n",
    "warnings.filterwarnings('ignore')\n",
    "\n",
    "import pandas as pd\n",
    "import numpy as np\n",
    "import matplotlib.pyplot as plt\n",
    "import seaborn as sns\n",
    "import tensorflow as tf\n",
    "import keras_tuner as kt\n",
    "import pickle\n",
    "\n",
    "from tensorflow.keras.models import Model, Sequential\n",
    "from tensorflow.keras.layers import Input, InputLayer, Dense, Dropout, BatchNormalization\n",
    "\n",
    "from sklearn.model_selection import train_test_split \n",
    "from sklearn.pipeline import Pipeline, make_pipeline\n",
    "from sklearn.decomposition import PCA\n",
    "from sklearn.preprocessing import MinMaxScaler, LabelEncoder, StandardScaler, OneHotEncoder\n",
    "from sklearn.metrics import f1_score, classification_report"
   ]
  },
  {
   "cell_type": "markdown",
   "metadata": {},
   "source": [
    "---\n",
    "# 3 - Data Loading"
   ]
  },
  {
   "cell_type": "code",
   "execution_count": 2,
   "metadata": {},
   "outputs": [],
   "source": [
    "# set display options\n",
    "pd.set_option('display.max_columns', None)"
   ]
  },
  {
   "cell_type": "code",
   "execution_count": 3,
   "metadata": {},
   "outputs": [
    {
     "name": "stdout",
     "output_type": "stream",
     "text": [
      "Shape of the dataset (row, column) :  (7043, 21)\n"
     ]
    },
    {
     "data": {
      "text/html": [
       "<div>\n",
       "<style scoped>\n",
       "    .dataframe tbody tr th:only-of-type {\n",
       "        vertical-align: middle;\n",
       "    }\n",
       "\n",
       "    .dataframe tbody tr th {\n",
       "        vertical-align: top;\n",
       "    }\n",
       "\n",
       "    .dataframe thead th {\n",
       "        text-align: right;\n",
       "    }\n",
       "</style>\n",
       "<table border=\"1\" class=\"dataframe\">\n",
       "  <thead>\n",
       "    <tr style=\"text-align: right;\">\n",
       "      <th></th>\n",
       "      <th>customerID</th>\n",
       "      <th>gender</th>\n",
       "      <th>SeniorCitizen</th>\n",
       "      <th>Partner</th>\n",
       "      <th>Dependents</th>\n",
       "      <th>tenure</th>\n",
       "      <th>PhoneService</th>\n",
       "      <th>MultipleLines</th>\n",
       "      <th>InternetService</th>\n",
       "      <th>OnlineSecurity</th>\n",
       "      <th>OnlineBackup</th>\n",
       "      <th>DeviceProtection</th>\n",
       "      <th>TechSupport</th>\n",
       "      <th>StreamingTV</th>\n",
       "      <th>StreamingMovies</th>\n",
       "      <th>Contract</th>\n",
       "      <th>PaperlessBilling</th>\n",
       "      <th>PaymentMethod</th>\n",
       "      <th>MonthlyCharges</th>\n",
       "      <th>TotalCharges</th>\n",
       "      <th>Churn</th>\n",
       "    </tr>\n",
       "  </thead>\n",
       "  <tbody>\n",
       "    <tr>\n",
       "      <th>0</th>\n",
       "      <td>7590-VHVEG</td>\n",
       "      <td>Female</td>\n",
       "      <td>0</td>\n",
       "      <td>Yes</td>\n",
       "      <td>No</td>\n",
       "      <td>1</td>\n",
       "      <td>No</td>\n",
       "      <td>No phone service</td>\n",
       "      <td>DSL</td>\n",
       "      <td>No</td>\n",
       "      <td>Yes</td>\n",
       "      <td>No</td>\n",
       "      <td>No</td>\n",
       "      <td>No</td>\n",
       "      <td>No</td>\n",
       "      <td>Month-to-month</td>\n",
       "      <td>Yes</td>\n",
       "      <td>Electronic check</td>\n",
       "      <td>29.85</td>\n",
       "      <td>29.85</td>\n",
       "      <td>No</td>\n",
       "    </tr>\n",
       "    <tr>\n",
       "      <th>1</th>\n",
       "      <td>5575-GNVDE</td>\n",
       "      <td>Male</td>\n",
       "      <td>0</td>\n",
       "      <td>No</td>\n",
       "      <td>No</td>\n",
       "      <td>34</td>\n",
       "      <td>Yes</td>\n",
       "      <td>No</td>\n",
       "      <td>DSL</td>\n",
       "      <td>Yes</td>\n",
       "      <td>No</td>\n",
       "      <td>Yes</td>\n",
       "      <td>No</td>\n",
       "      <td>No</td>\n",
       "      <td>No</td>\n",
       "      <td>One year</td>\n",
       "      <td>No</td>\n",
       "      <td>Mailed check</td>\n",
       "      <td>56.95</td>\n",
       "      <td>1889.5</td>\n",
       "      <td>No</td>\n",
       "    </tr>\n",
       "    <tr>\n",
       "      <th>2</th>\n",
       "      <td>3668-QPYBK</td>\n",
       "      <td>Male</td>\n",
       "      <td>0</td>\n",
       "      <td>No</td>\n",
       "      <td>No</td>\n",
       "      <td>2</td>\n",
       "      <td>Yes</td>\n",
       "      <td>No</td>\n",
       "      <td>DSL</td>\n",
       "      <td>Yes</td>\n",
       "      <td>Yes</td>\n",
       "      <td>No</td>\n",
       "      <td>No</td>\n",
       "      <td>No</td>\n",
       "      <td>No</td>\n",
       "      <td>Month-to-month</td>\n",
       "      <td>Yes</td>\n",
       "      <td>Mailed check</td>\n",
       "      <td>53.85</td>\n",
       "      <td>108.15</td>\n",
       "      <td>Yes</td>\n",
       "    </tr>\n",
       "    <tr>\n",
       "      <th>3</th>\n",
       "      <td>7795-CFOCW</td>\n",
       "      <td>Male</td>\n",
       "      <td>0</td>\n",
       "      <td>No</td>\n",
       "      <td>No</td>\n",
       "      <td>45</td>\n",
       "      <td>No</td>\n",
       "      <td>No phone service</td>\n",
       "      <td>DSL</td>\n",
       "      <td>Yes</td>\n",
       "      <td>No</td>\n",
       "      <td>Yes</td>\n",
       "      <td>Yes</td>\n",
       "      <td>No</td>\n",
       "      <td>No</td>\n",
       "      <td>One year</td>\n",
       "      <td>No</td>\n",
       "      <td>Bank transfer (automatic)</td>\n",
       "      <td>42.30</td>\n",
       "      <td>1840.75</td>\n",
       "      <td>No</td>\n",
       "    </tr>\n",
       "    <tr>\n",
       "      <th>4</th>\n",
       "      <td>9237-HQITU</td>\n",
       "      <td>Female</td>\n",
       "      <td>0</td>\n",
       "      <td>No</td>\n",
       "      <td>No</td>\n",
       "      <td>2</td>\n",
       "      <td>Yes</td>\n",
       "      <td>No</td>\n",
       "      <td>Fiber optic</td>\n",
       "      <td>No</td>\n",
       "      <td>No</td>\n",
       "      <td>No</td>\n",
       "      <td>No</td>\n",
       "      <td>No</td>\n",
       "      <td>No</td>\n",
       "      <td>Month-to-month</td>\n",
       "      <td>Yes</td>\n",
       "      <td>Electronic check</td>\n",
       "      <td>70.70</td>\n",
       "      <td>151.65</td>\n",
       "      <td>Yes</td>\n",
       "    </tr>\n",
       "  </tbody>\n",
       "</table>\n",
       "</div>"
      ],
      "text/plain": [
       "   customerID  gender  SeniorCitizen Partner Dependents  tenure PhoneService  \\\n",
       "0  7590-VHVEG  Female              0     Yes         No       1           No   \n",
       "1  5575-GNVDE    Male              0      No         No      34          Yes   \n",
       "2  3668-QPYBK    Male              0      No         No       2          Yes   \n",
       "3  7795-CFOCW    Male              0      No         No      45           No   \n",
       "4  9237-HQITU  Female              0      No         No       2          Yes   \n",
       "\n",
       "      MultipleLines InternetService OnlineSecurity OnlineBackup  \\\n",
       "0  No phone service             DSL             No          Yes   \n",
       "1                No             DSL            Yes           No   \n",
       "2                No             DSL            Yes          Yes   \n",
       "3  No phone service             DSL            Yes           No   \n",
       "4                No     Fiber optic             No           No   \n",
       "\n",
       "  DeviceProtection TechSupport StreamingTV StreamingMovies        Contract  \\\n",
       "0               No          No          No              No  Month-to-month   \n",
       "1              Yes          No          No              No        One year   \n",
       "2               No          No          No              No  Month-to-month   \n",
       "3              Yes         Yes          No              No        One year   \n",
       "4               No          No          No              No  Month-to-month   \n",
       "\n",
       "  PaperlessBilling              PaymentMethod  MonthlyCharges TotalCharges  \\\n",
       "0              Yes           Electronic check           29.85        29.85   \n",
       "1               No               Mailed check           56.95       1889.5   \n",
       "2              Yes               Mailed check           53.85       108.15   \n",
       "3               No  Bank transfer (automatic)           42.30      1840.75   \n",
       "4              Yes           Electronic check           70.70       151.65   \n",
       "\n",
       "  Churn  \n",
       "0    No  \n",
       "1    No  \n",
       "2   Yes  \n",
       "3    No  \n",
       "4   Yes  "
      ]
     },
     "execution_count": 3,
     "metadata": {},
     "output_type": "execute_result"
    }
   ],
   "source": [
    "data = pd.read_csv('telco_churn.csv')\n",
    "data1 = data.copy()\n",
    "print('Shape of the dataset (row, column) : ', data.shape)\n",
    "data.head()"
   ]
  },
  {
   "cell_type": "markdown",
   "metadata": {},
   "source": [
    "### Column explanation"
   ]
  },
  {
   "cell_type": "markdown",
   "metadata": {},
   "source": [
    "* **CustomerID**: A unique ID that identifies each customer.\n",
    "\n",
    "* **Gender**: The customer’s gender: Male, Female\n",
    "\n",
    "* **SeniorCitizen**: Indicates if the customer is 65 or older: 1 = Yes, 0 = No\n",
    "\n",
    "* **Partner**: Indicates if the customer has a partner: Yes, No\n",
    "\n",
    "* **Dependents**: Indicates if the customer lives with any dependents: Yes, No. Dependents could be children, parents, grandparents, etc.\n",
    "\n",
    "* **Tenure**: Indicates the total amount of months that the customer has been with the company by the end of the quarter specified above.\n",
    "\n",
    "* **PhoneService**: Indicates if the customer subscribes to home phone service with the company: Yes, No\n",
    "\n",
    "* **MultipleLines**: Indicates if the customer subscribes to multiple telephone lines with the company: Yes, No, No phone service\n",
    "\n",
    "* **InternetService**: Indicates if the customer subscribes to Internet service with the company: No, DSL, Fiber Optic.\n",
    "\n",
    "* **OnlineSecurity**: Indicates if the customer subscribes to an additional online security service provided by the company: Yes, No\n",
    "\n",
    "* **OnlineBackup**: Indicates if the customer subscribes to an additional online backup service provided by the company: Yes, No\n",
    "\n",
    "* **DeviceProtection**: Indicates if the customer subscribes to an additional device protection plan for their Internet equipment provided by the company: Yes, No\n",
    "\n",
    "* **TechSupport**: Indicates if the customer subscribes to an additional technical support plan from the company with reduced wait times: Yes, No\n",
    "\n",
    "* **StreamingTV**: Indicates if the customer uses their Internet service to stream television programing from a third party provider: Yes, No. The company does not charge an additional fee for this service.\n",
    "\n",
    "* **StreamingMovies**: Indicates if the customer uses their Internet service to stream movies from a third party provider: Yes, No. The company does not charge an additional fee for this service.\n",
    "\n",
    "* **Contract**: Indicates the customer’s current contract type: Month-to-Month, One Year, Two Year.\n",
    "\n",
    "* **PaperlessBilling**: Indicates if the customer has chosen paperless billing: Yes, No\n",
    "\n",
    "* **PaymentMethod**: Indicates how the customer pays their bill: Bank Withdrawal, Credit Card, Mailed Check\n",
    "\n",
    "* **MonthlyCharge**: Indicates the customer’s current total monthly charge for all their services from the company.\n",
    "\n",
    "* **TotalCharges**: Indicates the customer’s total charges, calculated to the end of the quarter specified above.\n",
    "\n",
    "* **Churn**: Yes = the customer left the company this quarter. No = the customer remained with the company."
   ]
  },
  {
   "cell_type": "code",
   "execution_count": 4,
   "metadata": {},
   "outputs": [
    {
     "name": "stdout",
     "output_type": "stream",
     "text": [
      "Number of missing value in the dataset :  0\n"
     ]
    }
   ],
   "source": [
    "print('Number of missing value in the dataset : ',data.isnull().sum().sum())"
   ]
  },
  {
   "cell_type": "code",
   "execution_count": 5,
   "metadata": {},
   "outputs": [
    {
     "name": "stdout",
     "output_type": "stream",
     "text": [
      "<class 'pandas.core.frame.DataFrame'>\n",
      "RangeIndex: 7043 entries, 0 to 7042\n",
      "Data columns (total 21 columns):\n",
      " #   Column            Non-Null Count  Dtype  \n",
      "---  ------            --------------  -----  \n",
      " 0   customerID        7043 non-null   object \n",
      " 1   gender            7043 non-null   object \n",
      " 2   SeniorCitizen     7043 non-null   int64  \n",
      " 3   Partner           7043 non-null   object \n",
      " 4   Dependents        7043 non-null   object \n",
      " 5   tenure            7043 non-null   int64  \n",
      " 6   PhoneService      7043 non-null   object \n",
      " 7   MultipleLines     7043 non-null   object \n",
      " 8   InternetService   7043 non-null   object \n",
      " 9   OnlineSecurity    7043 non-null   object \n",
      " 10  OnlineBackup      7043 non-null   object \n",
      " 11  DeviceProtection  7043 non-null   object \n",
      " 12  TechSupport       7043 non-null   object \n",
      " 13  StreamingTV       7043 non-null   object \n",
      " 14  StreamingMovies   7043 non-null   object \n",
      " 15  Contract          7043 non-null   object \n",
      " 16  PaperlessBilling  7043 non-null   object \n",
      " 17  PaymentMethod     7043 non-null   object \n",
      " 18  MonthlyCharges    7043 non-null   float64\n",
      " 19  TotalCharges      7043 non-null   object \n",
      " 20  Churn             7043 non-null   object \n",
      "dtypes: float64(1), int64(2), object(18)\n",
      "memory usage: 1.1+ MB\n"
     ]
    }
   ],
   "source": [
    "data.info()"
   ]
  },
  {
   "cell_type": "markdown",
   "metadata": {},
   "source": [
    "There are 21 columns in the dataset and most of them are categorical. The numerical columns are: SeniorCitizen, tenure, and MonthlyCharge."
   ]
  },
  {
   "cell_type": "code",
   "execution_count": 6,
   "metadata": {},
   "outputs": [
    {
     "data": {
      "text/plain": [
       "0    5901\n",
       "1    1142\n",
       "Name: SeniorCitizen, dtype: int64"
      ]
     },
     "execution_count": 6,
     "metadata": {},
     "output_type": "execute_result"
    }
   ],
   "source": [
    "data.SeniorCitizen.value_counts()"
   ]
  },
  {
   "cell_type": "markdown",
   "metadata": {},
   "source": [
    "Turns out that SeniorCitizen is filled only with 0 and 1. Kinda similar to the other categorical columns which are filled with Yes and No."
   ]
  },
  {
   "cell_type": "markdown",
   "metadata": {},
   "source": [
    "For some reason, TotalCharges is filled with categorical values, instead of numerical. So, we will do a conversion."
   ]
  },
  {
   "cell_type": "code",
   "execution_count": 7,
   "metadata": {},
   "outputs": [],
   "source": [
    "# Convert string to numeric\n",
    "data['TotalCharges'] = pd.to_numeric(data['TotalCharges'], errors='coerce')"
   ]
  },
  {
   "cell_type": "markdown",
   "metadata": {},
   "source": [
    "Churn is our target variable. The model will be built to predict the churn of the customer."
   ]
  },
  {
   "cell_type": "markdown",
   "metadata": {},
   "source": [
    "---\n",
    "# 4 - Exploratory Data Analysis (EDA)"
   ]
  },
  {
   "cell_type": "markdown",
   "metadata": {},
   "source": [
    "### Descriptive Statistics"
   ]
  },
  {
   "cell_type": "code",
   "execution_count": 8,
   "metadata": {},
   "outputs": [
    {
     "data": {
      "text/html": [
       "<div>\n",
       "<style scoped>\n",
       "    .dataframe tbody tr th:only-of-type {\n",
       "        vertical-align: middle;\n",
       "    }\n",
       "\n",
       "    .dataframe tbody tr th {\n",
       "        vertical-align: top;\n",
       "    }\n",
       "\n",
       "    .dataframe thead th {\n",
       "        text-align: right;\n",
       "    }\n",
       "</style>\n",
       "<table border=\"1\" class=\"dataframe\">\n",
       "  <thead>\n",
       "    <tr style=\"text-align: right;\">\n",
       "      <th></th>\n",
       "      <th>count</th>\n",
       "      <th>mean</th>\n",
       "      <th>std</th>\n",
       "      <th>min</th>\n",
       "      <th>25%</th>\n",
       "      <th>50%</th>\n",
       "      <th>75%</th>\n",
       "      <th>max</th>\n",
       "    </tr>\n",
       "  </thead>\n",
       "  <tbody>\n",
       "    <tr>\n",
       "      <th>SeniorCitizen</th>\n",
       "      <td>7043.0</td>\n",
       "      <td>0.162147</td>\n",
       "      <td>0.368612</td>\n",
       "      <td>0.00</td>\n",
       "      <td>0.00</td>\n",
       "      <td>0.000</td>\n",
       "      <td>0.0000</td>\n",
       "      <td>1.00</td>\n",
       "    </tr>\n",
       "    <tr>\n",
       "      <th>tenure</th>\n",
       "      <td>7043.0</td>\n",
       "      <td>32.371149</td>\n",
       "      <td>24.559481</td>\n",
       "      <td>0.00</td>\n",
       "      <td>9.00</td>\n",
       "      <td>29.000</td>\n",
       "      <td>55.0000</td>\n",
       "      <td>72.00</td>\n",
       "    </tr>\n",
       "    <tr>\n",
       "      <th>MonthlyCharges</th>\n",
       "      <td>7043.0</td>\n",
       "      <td>64.761692</td>\n",
       "      <td>30.090047</td>\n",
       "      <td>18.25</td>\n",
       "      <td>35.50</td>\n",
       "      <td>70.350</td>\n",
       "      <td>89.8500</td>\n",
       "      <td>118.75</td>\n",
       "    </tr>\n",
       "    <tr>\n",
       "      <th>TotalCharges</th>\n",
       "      <td>7032.0</td>\n",
       "      <td>2283.300441</td>\n",
       "      <td>2266.771362</td>\n",
       "      <td>18.80</td>\n",
       "      <td>401.45</td>\n",
       "      <td>1397.475</td>\n",
       "      <td>3794.7375</td>\n",
       "      <td>8684.80</td>\n",
       "    </tr>\n",
       "  </tbody>\n",
       "</table>\n",
       "</div>"
      ],
      "text/plain": [
       "                 count         mean          std    min     25%       50%  \\\n",
       "SeniorCitizen   7043.0     0.162147     0.368612   0.00    0.00     0.000   \n",
       "tenure          7043.0    32.371149    24.559481   0.00    9.00    29.000   \n",
       "MonthlyCharges  7043.0    64.761692    30.090047  18.25   35.50    70.350   \n",
       "TotalCharges    7032.0  2283.300441  2266.771362  18.80  401.45  1397.475   \n",
       "\n",
       "                      75%      max  \n",
       "SeniorCitizen      0.0000     1.00  \n",
       "tenure            55.0000    72.00  \n",
       "MonthlyCharges    89.8500   118.75  \n",
       "TotalCharges    3794.7375  8684.80  "
      ]
     },
     "execution_count": 8,
     "metadata": {},
     "output_type": "execute_result"
    }
   ],
   "source": [
    "data.describe().T"
   ]
  },
  {
   "cell_type": "markdown",
   "metadata": {},
   "source": [
    "* On average, the customers have been with the company for 32 months.\n",
    "* The average monthly charge is about $65.00."
   ]
  },
  {
   "cell_type": "code",
   "execution_count": 9,
   "metadata": {},
   "outputs": [
    {
     "data": {
      "text/html": [
       "<div>\n",
       "<style scoped>\n",
       "    .dataframe tbody tr th:only-of-type {\n",
       "        vertical-align: middle;\n",
       "    }\n",
       "\n",
       "    .dataframe tbody tr th {\n",
       "        vertical-align: top;\n",
       "    }\n",
       "\n",
       "    .dataframe thead th {\n",
       "        text-align: right;\n",
       "    }\n",
       "</style>\n",
       "<table border=\"1\" class=\"dataframe\">\n",
       "  <thead>\n",
       "    <tr style=\"text-align: right;\">\n",
       "      <th></th>\n",
       "      <th>count</th>\n",
       "      <th>unique</th>\n",
       "      <th>top</th>\n",
       "      <th>freq</th>\n",
       "    </tr>\n",
       "  </thead>\n",
       "  <tbody>\n",
       "    <tr>\n",
       "      <th>customerID</th>\n",
       "      <td>7043</td>\n",
       "      <td>7043</td>\n",
       "      <td>7590-VHVEG</td>\n",
       "      <td>1</td>\n",
       "    </tr>\n",
       "    <tr>\n",
       "      <th>gender</th>\n",
       "      <td>7043</td>\n",
       "      <td>2</td>\n",
       "      <td>Male</td>\n",
       "      <td>3555</td>\n",
       "    </tr>\n",
       "    <tr>\n",
       "      <th>Partner</th>\n",
       "      <td>7043</td>\n",
       "      <td>2</td>\n",
       "      <td>No</td>\n",
       "      <td>3641</td>\n",
       "    </tr>\n",
       "    <tr>\n",
       "      <th>Dependents</th>\n",
       "      <td>7043</td>\n",
       "      <td>2</td>\n",
       "      <td>No</td>\n",
       "      <td>4933</td>\n",
       "    </tr>\n",
       "    <tr>\n",
       "      <th>PhoneService</th>\n",
       "      <td>7043</td>\n",
       "      <td>2</td>\n",
       "      <td>Yes</td>\n",
       "      <td>6361</td>\n",
       "    </tr>\n",
       "    <tr>\n",
       "      <th>MultipleLines</th>\n",
       "      <td>7043</td>\n",
       "      <td>3</td>\n",
       "      <td>No</td>\n",
       "      <td>3390</td>\n",
       "    </tr>\n",
       "    <tr>\n",
       "      <th>InternetService</th>\n",
       "      <td>7043</td>\n",
       "      <td>3</td>\n",
       "      <td>Fiber optic</td>\n",
       "      <td>3096</td>\n",
       "    </tr>\n",
       "    <tr>\n",
       "      <th>OnlineSecurity</th>\n",
       "      <td>7043</td>\n",
       "      <td>3</td>\n",
       "      <td>No</td>\n",
       "      <td>3498</td>\n",
       "    </tr>\n",
       "    <tr>\n",
       "      <th>OnlineBackup</th>\n",
       "      <td>7043</td>\n",
       "      <td>3</td>\n",
       "      <td>No</td>\n",
       "      <td>3088</td>\n",
       "    </tr>\n",
       "    <tr>\n",
       "      <th>DeviceProtection</th>\n",
       "      <td>7043</td>\n",
       "      <td>3</td>\n",
       "      <td>No</td>\n",
       "      <td>3095</td>\n",
       "    </tr>\n",
       "    <tr>\n",
       "      <th>TechSupport</th>\n",
       "      <td>7043</td>\n",
       "      <td>3</td>\n",
       "      <td>No</td>\n",
       "      <td>3473</td>\n",
       "    </tr>\n",
       "    <tr>\n",
       "      <th>StreamingTV</th>\n",
       "      <td>7043</td>\n",
       "      <td>3</td>\n",
       "      <td>No</td>\n",
       "      <td>2810</td>\n",
       "    </tr>\n",
       "    <tr>\n",
       "      <th>StreamingMovies</th>\n",
       "      <td>7043</td>\n",
       "      <td>3</td>\n",
       "      <td>No</td>\n",
       "      <td>2785</td>\n",
       "    </tr>\n",
       "    <tr>\n",
       "      <th>Contract</th>\n",
       "      <td>7043</td>\n",
       "      <td>3</td>\n",
       "      <td>Month-to-month</td>\n",
       "      <td>3875</td>\n",
       "    </tr>\n",
       "    <tr>\n",
       "      <th>PaperlessBilling</th>\n",
       "      <td>7043</td>\n",
       "      <td>2</td>\n",
       "      <td>Yes</td>\n",
       "      <td>4171</td>\n",
       "    </tr>\n",
       "    <tr>\n",
       "      <th>PaymentMethod</th>\n",
       "      <td>7043</td>\n",
       "      <td>4</td>\n",
       "      <td>Electronic check</td>\n",
       "      <td>2365</td>\n",
       "    </tr>\n",
       "    <tr>\n",
       "      <th>Churn</th>\n",
       "      <td>7043</td>\n",
       "      <td>2</td>\n",
       "      <td>No</td>\n",
       "      <td>5174</td>\n",
       "    </tr>\n",
       "  </tbody>\n",
       "</table>\n",
       "</div>"
      ],
      "text/plain": [
       "                 count unique               top  freq\n",
       "customerID        7043   7043        7590-VHVEG     1\n",
       "gender            7043      2              Male  3555\n",
       "Partner           7043      2                No  3641\n",
       "Dependents        7043      2                No  4933\n",
       "PhoneService      7043      2               Yes  6361\n",
       "MultipleLines     7043      3                No  3390\n",
       "InternetService   7043      3       Fiber optic  3096\n",
       "OnlineSecurity    7043      3                No  3498\n",
       "OnlineBackup      7043      3                No  3088\n",
       "DeviceProtection  7043      3                No  3095\n",
       "TechSupport       7043      3                No  3473\n",
       "StreamingTV       7043      3                No  2810\n",
       "StreamingMovies   7043      3                No  2785\n",
       "Contract          7043      3    Month-to-month  3875\n",
       "PaperlessBilling  7043      2               Yes  4171\n",
       "PaymentMethod     7043      4  Electronic check  2365\n",
       "Churn             7043      2                No  5174"
      ]
     },
     "execution_count": 9,
     "metadata": {},
     "output_type": "execute_result"
    }
   ],
   "source": [
    "data.describe(include=['O']).T"
   ]
  },
  {
   "cell_type": "markdown",
   "metadata": {},
   "source": [
    "* CustomerID is the unique identifier for each customer. It is not helpful to us for the model building.\n",
    "* There are more male customers than female.\n",
    "* Most of the customers use fiber optic for their internet service connection"
   ]
  },
  {
   "cell_type": "markdown",
   "metadata": {},
   "source": [
    "### Categorical and Numerical Columns"
   ]
  },
  {
   "cell_type": "code",
   "execution_count": 10,
   "metadata": {},
   "outputs": [
    {
     "name": "stdout",
     "output_type": "stream",
     "text": [
      "Categorical columns :  ['customerID', 'gender', 'Partner', 'Dependents', 'PhoneService', 'MultipleLines', 'InternetService', 'OnlineSecurity', 'OnlineBackup', 'DeviceProtection', 'TechSupport', 'StreamingTV', 'StreamingMovies', 'Contract', 'PaperlessBilling', 'PaymentMethod', 'Churn']\n",
      "\n",
      "Numerical columns :  ['SeniorCitizen', 'tenure', 'MonthlyCharges', 'TotalCharges']\n"
     ]
    }
   ],
   "source": [
    "# list of categorical and numerical columns\n",
    "cat_col = data.select_dtypes(include=['object']).columns.to_list()\n",
    "num_col = data.select_dtypes(exclude=['object']).columns.to_list()\n",
    "\n",
    "print('Categorical columns : ',cat_col)\n",
    "print('')\n",
    "print('Numerical columns : ',num_col)"
   ]
  },
  {
   "cell_type": "markdown",
   "metadata": {},
   "source": [
    "### Data Visualization"
   ]
  },
  {
   "cell_type": "code",
   "execution_count": 11,
   "metadata": {},
   "outputs": [
    {
     "name": "stdout",
     "output_type": "stream",
     "text": [
      "Skewness of column tenure : 0.2395397495619829\n",
      "Skewness of column MonthlyCharges : -0.22052443394398033\n",
      "Skewness of column TotalCharges : 0.961642499724251\n"
     ]
    },
    {
     "data": {
      "image/png": "[encoded data removed]",
      "text/plain": [
       "<Figure size 1440x360 with 3 Axes>"
      ]
     },
     "metadata": {
      "needs_background": "light"
     },
     "output_type": "display_data"
    }
   ],
   "source": [
    "fig,axes=plt.subplots(1,3,figsize=(20,5))\n",
    "i=0\n",
    "for col in data[num_col].columns:\n",
    "    if col == 'SeniorCitizen':\n",
    "        continue\n",
    "    sns.histplot(data=data, x=col,ax=axes[i], kde=True)\n",
    "    skewness = data[col].skew()\n",
    "    print('Skewness of column {} : {}'.format(col,skewness))\n",
    "    i+=1"
   ]
  },
  {
   "cell_type": "markdown",
   "metadata": {},
   "source": [
    "Both tenure and MonthlyCharges columns have fairly symmetrical distributions, but TotalCharges has a skewed distribution."
   ]
  },
  {
   "cell_type": "code",
   "execution_count": 12,
   "metadata": {},
   "outputs": [
    {
     "data": {
      "image/png": "[encoded data removed]",
      "text/plain": [
       "<Figure size 2520x2160 with 16 Axes>"
      ]
     },
     "metadata": {
      "needs_background": "light"
     },
     "output_type": "display_data"
    }
   ],
   "source": [
    "fig,axes=plt.subplots(4,4,figsize=(35,30))\n",
    "i=0\n",
    "j=0\n",
    "for col in data1[cat_col].columns:\n",
    "    if col == 'customerID' or col == 'TotalCharges':\n",
    "        continue\n",
    "    if col == 'PaymentMethod':\n",
    "        sns.countplot(data=data1, x=col,ax=axes[i][j])\n",
    "        axes[i][j].tick_params(axis='x', labelrotation=10)\n",
    "    sns.countplot(data=data1, x=col,ax=axes[i][j])\n",
    "    j+=1\n",
    "    if j>3:\n",
    "        j=0\n",
    "        i+=1"
   ]
  },
  {
   "cell_type": "markdown",
   "metadata": {},
   "source": [
    "* There is just a slight difference between the number of male and female customers, and customers with or without partners.\n",
    "* The number of customers without dependent is about twice the number of customers with dependents\n",
    "* Most of the customers are subscribed to phone service\n",
    "* Payment method preferred by the customers is electronic check\n",
    "* The number of churned customers is not even half of the not churned customers"
   ]
  },
  {
   "cell_type": "markdown",
   "metadata": {},
   "source": [
    "---\n",
    "# 5 - Data Preprocessing"
   ]
  },
  {
   "cell_type": "markdown",
   "metadata": {},
   "source": [
    "First, we will drop CustomerID since it is not helpful in the model building."
   ]
  },
  {
   "cell_type": "code",
   "execution_count": 13,
   "metadata": {},
   "outputs": [],
   "source": [
    "data = data.drop(['customerID'],axis=1)"
   ]
  },
  {
   "cell_type": "markdown",
   "metadata": {},
   "source": [
    "## 5.1 - Extract data for model inference"
   ]
  },
  {
   "cell_type": "code",
   "execution_count": 14,
   "metadata": {},
   "outputs": [
    {
     "data": {
      "text/plain": [
       "(15, 20)"
      ]
     },
     "execution_count": 14,
     "metadata": {},
     "output_type": "execute_result"
    }
   ],
   "source": [
    "# Data for model inference\n",
    "data_inf = data.sample(15, random_state=69) # extracting 15 rows randomly\n",
    "data_inf.shape"
   ]
  },
  {
   "cell_type": "code",
   "execution_count": 15,
   "metadata": {},
   "outputs": [],
   "source": [
    "# remove the inference set from the original dataset\n",
    "data_train_test = data.drop(data_inf.index)\n",
    "\n",
    "# resetting index\n",
    "data.reset_index(drop=True, inplace=True)\n",
    "data_inf.reset_index(drop=True, inplace=True)"
   ]
  },
  {
   "cell_type": "markdown",
   "metadata": {},
   "source": [
    "## 5.2 - Split the dataset"
   ]
  },
  {
   "cell_type": "code",
   "execution_count": 16,
   "metadata": {},
   "outputs": [],
   "source": [
    "# Split data into X (features) and y (target)\n",
    "X = data_train_test.drop(['Churn'], axis=1)\n",
    "y = data_train_test['Churn']"
   ]
  },
  {
   "cell_type": "code",
   "execution_count": 17,
   "metadata": {},
   "outputs": [
    {
     "name": "stdout",
     "output_type": "stream",
     "text": [
      "Train set shape: (4427, 19)\n",
      "Test set shape: (2109, 19)\n",
      "Validation set shape: (492, 19)\n"
     ]
    }
   ],
   "source": [
    "# Split data into train and test set\n",
    "X_train, X_test, y_train, y_test = train_test_split(X, y, test_size=0.3, random_state=42, stratify=y) # 70% training and 30% test\n",
    "X_train, X_val, y_train, y_val = train_test_split(X_train, y_train, test_size=0.1, random_state=42, stratify=y_train) # 10% of training set is extracted for validation set\n",
    "print('Train set shape:', X_train.shape)\n",
    "print('Test set shape:', X_test.shape)\n",
    "print('Validation set shape:', X_val.shape)"
   ]
  },
  {
   "cell_type": "markdown",
   "metadata": {},
   "source": [
    "## 5.3 - Handling outlier"
   ]
  },
  {
   "cell_type": "code",
   "execution_count": 18,
   "metadata": {},
   "outputs": [
    {
     "name": "stdout",
     "output_type": "stream",
     "text": [
      "Index(['SeniorCitizen', 'tenure', 'MonthlyCharges', 'TotalCharges'], dtype='object')\n"
     ]
    }
   ],
   "source": [
    "# numerical columns in the dataset\n",
    "num_cols_train = X_train.select_dtypes(include=['int64', 'float64']).columns\n",
    "num_cols_test = X_test.select_dtypes(include=['int64', 'float64']).columns\n",
    "num_cols_val = X_val.select_dtypes(include=['int64', 'float64']).columns\n",
    "print(num_cols_train)"
   ]
  },
  {
   "cell_type": "code",
   "execution_count": 19,
   "metadata": {},
   "outputs": [
    {
     "name": "stdout",
     "output_type": "stream",
     "text": [
      "column X_train SeniorCitizen  skewness is : 1.7739080674124035\n",
      "column X_train tenure  skewness is : 0.22579623426051976\n",
      "column X_train MonthlyCharges  skewness is : -0.2034464804462888\n",
      "column X_train TotalCharges  skewness is : 0.9555886313663317\n"
     ]
    }
   ],
   "source": [
    "# skewness check in X_train\n",
    "for col in num_cols_train:\n",
    "    print('column X_train',col, ' skewness is :', X_train[col].skew())"
   ]
  },
  {
   "cell_type": "code",
   "execution_count": 20,
   "metadata": {},
   "outputs": [
    {
     "name": "stdout",
     "output_type": "stream",
     "text": [
      "column X_test SeniorCitizen  skewness is : 1.942901098752084\n",
      "column X_test tenure  skewness is : 0.252845748991482\n",
      "column X_test MonthlyCharges  skewness is : -0.23342711692572615\n",
      "column X_test TotalCharges  skewness is : 0.9744384199628097\n"
     ]
    }
   ],
   "source": [
    "# skewness check in X_test\n",
    "for col in num_cols_test:\n",
    "    print('column X_test',col, ' skewness is :', X_test[col].skew())"
   ]
  },
  {
   "cell_type": "code",
   "execution_count": 21,
   "metadata": {},
   "outputs": [
    {
     "name": "stdout",
     "output_type": "stream",
     "text": [
      "column X_val SeniorCitizen  skewness is : 1.939789768467475\n",
      "column X_val tenure  skewness is : 0.29655768383819914\n",
      "column X_val MonthlyCharges  skewness is : -0.3314157714049767\n",
      "column X_val TotalCharges  skewness is : 0.9441579164368146\n"
     ]
    }
   ],
   "source": [
    "# skewness check in X_val\n",
    "for col in num_cols_val:\n",
    "    print('column X_val',col, ' skewness is :', X_val[col].skew())"
   ]
  },
  {
   "cell_type": "markdown",
   "metadata": {},
   "source": [
    "* Fairly symmetrical columns : tenure and MonthlyCharges\n",
    "* Skewed column : SeniorCitizen and TotalCharges. But since SeniorCitizen is filled with binary values, we will ignore the outliers in this column."
   ]
  },
  {
   "cell_type": "code",
   "execution_count": 22,
   "metadata": {},
   "outputs": [],
   "source": [
    "# function to find outliers in skewed columns\n",
    "def find_outliers_skew(df, cols):\n",
    "    q1, q3 = np.percentile(df[cols], [25, 75])\n",
    "    iqr = q3 - q1\n",
    "    lower_bound = q1 - (iqr * 1.5)\n",
    "    upper_bound = q3 + (iqr * 1.5)\n",
    "    return df[cols][(df[cols] < lower_bound) | (df[cols] > upper_bound)]\n",
    "\n",
    "#function to find outliers in normal columns\n",
    "def find_outliers_normal(df, cols):\n",
    "    out1 = df[cols].mean() + 3*df[cols].std()\n",
    "    out2 = df[cols].mean() - 3*df[cols].std()\n",
    "    return df[cols][(df[cols] > out1) | (df[cols] < out2)]"
   ]
  },
  {
   "cell_type": "code",
   "execution_count": 23,
   "metadata": {},
   "outputs": [
    {
     "name": "stdout",
     "output_type": "stream",
     "text": [
      "Percentage of outliers in X_train tenure :  0.0\n",
      "Percentage of outliers in X_train MonthlyCharges :  0.0\n",
      "Percentage of outliers in X_train TotalCharges :  0.0\n"
     ]
    }
   ],
   "source": [
    "# X_train outliers\n",
    "# normal columns\n",
    "norm_cols_train = X_train[['tenure', 'MonthlyCharges', 'TotalCharges']].columns\n",
    "\n",
    "for col in norm_cols_train:\n",
    "    percentage = find_outliers_normal(X_train, col).shape[0] / X_train.shape[0] * 100\n",
    "    print(f'Percentage of outliers in X_train {col} : ', percentage)"
   ]
  },
  {
   "cell_type": "code",
   "execution_count": 24,
   "metadata": {},
   "outputs": [
    {
     "name": "stdout",
     "output_type": "stream",
     "text": [
      "Percentage of outliers in X_val tenure :  0.0\n",
      "Percentage of outliers in X_val MonthlyCharges :  0.0\n",
      "Percentage of outliers in X_val TotalCharges :  0.0\n"
     ]
    }
   ],
   "source": [
    "norm_cols_val = X_val[['tenure', 'MonthlyCharges', 'TotalCharges']].columns\n",
    "\n",
    "for col in norm_cols_val:\n",
    "    percentage = find_outliers_normal(X_val, col).shape[0] / X_val.shape[0] * 100\n",
    "    print(f'Percentage of outliers in X_val {col} : ', percentage)"
   ]
  },
  {
   "cell_type": "code",
   "execution_count": 25,
   "metadata": {},
   "outputs": [
    {
     "name": "stdout",
     "output_type": "stream",
     "text": [
      "Percentage of outliers in X_test tenure :  0.0\n",
      "Percentage of outliers in X_test MonthlyCharges :  0.0\n",
      "Percentage of outliers in X_test TotalCharges :  0.0\n"
     ]
    }
   ],
   "source": [
    "norm_cols_test = X_test[['tenure', 'MonthlyCharges', 'TotalCharges']].columns\n",
    "\n",
    "for col in norm_cols_test:\n",
    "    percentage = find_outliers_normal(X_test, col).shape[0] / X_test.shape[0] * 100\n",
    "    print(f'Percentage of outliers in X_test {col} : ', percentage)"
   ]
  },
  {
   "cell_type": "markdown",
   "metadata": {},
   "source": [
    "It turns out that there is no outlier in the dataset"
   ]
  },
  {
   "cell_type": "markdown",
   "metadata": {},
   "source": [
    "## 5.4 - Handling missing values"
   ]
  },
  {
   "cell_type": "code",
   "execution_count": 26,
   "metadata": {},
   "outputs": [
    {
     "name": "stdout",
     "output_type": "stream",
     "text": [
      "Missing values in X_train :  8\n",
      "Missing values in X_test :  3\n",
      "Missing values in X_val :  0\n",
      "Missing values in y_train :  0\n",
      "Missing values in y_test :  0\n",
      "Missing values in y_val :  0\n"
     ]
    }
   ],
   "source": [
    "print('Missing values in X_train : ', X_train.isnull().sum().sum())\n",
    "print('Missing values in X_test : ', X_test.isnull().sum().sum())\n",
    "print('Missing values in X_val : ', X_val.isnull().sum().sum())\n",
    "print('Missing values in y_train : ', y_train.isnull().sum().sum())\n",
    "print('Missing values in y_test : ', y_test.isnull().sum().sum())\n",
    "print('Missing values in y_val : ', y_val.isnull().sum().sum())"
   ]
  },
  {
   "cell_type": "code",
   "execution_count": 27,
   "metadata": {},
   "outputs": [
    {
     "data": {
      "text/plain": [
       "TotalCharges        8\n",
       "DeviceProtection    0\n",
       "MonthlyCharges      0\n",
       "PaymentMethod       0\n",
       "PaperlessBilling    0\n",
       "Contract            0\n",
       "StreamingMovies     0\n",
       "StreamingTV         0\n",
       "TechSupport         0\n",
       "gender              0\n",
       "SeniorCitizen       0\n",
       "OnlineSecurity      0\n",
       "InternetService     0\n",
       "MultipleLines       0\n",
       "PhoneService        0\n",
       "tenure              0\n",
       "Dependents          0\n",
       "Partner             0\n",
       "OnlineBackup        0\n",
       "dtype: int64"
      ]
     },
     "execution_count": 27,
     "metadata": {},
     "output_type": "execute_result"
    }
   ],
   "source": [
    "X_train.isnull().sum().sort_values(ascending=False)"
   ]
  },
  {
   "cell_type": "code",
   "execution_count": 28,
   "metadata": {},
   "outputs": [
    {
     "data": {
      "text/plain": [
       "TotalCharges        3\n",
       "DeviceProtection    0\n",
       "MonthlyCharges      0\n",
       "PaymentMethod       0\n",
       "PaperlessBilling    0\n",
       "Contract            0\n",
       "StreamingMovies     0\n",
       "StreamingTV         0\n",
       "TechSupport         0\n",
       "gender              0\n",
       "SeniorCitizen       0\n",
       "OnlineSecurity      0\n",
       "InternetService     0\n",
       "MultipleLines       0\n",
       "PhoneService        0\n",
       "tenure              0\n",
       "Dependents          0\n",
       "Partner             0\n",
       "OnlineBackup        0\n",
       "dtype: int64"
      ]
     },
     "execution_count": 28,
     "metadata": {},
     "output_type": "execute_result"
    }
   ],
   "source": [
    "X_test.isnull().sum().sort_values(ascending=False)"
   ]
  },
  {
   "cell_type": "markdown",
   "metadata": {},
   "source": [
    "We will just remove the missing values since they are just a few."
   ]
  },
  {
   "cell_type": "code",
   "execution_count": 29,
   "metadata": {},
   "outputs": [],
   "source": [
    "# remove missing values\n",
    "X_train = X_train.dropna()\n",
    "X_test = X_test.dropna()"
   ]
  },
  {
   "cell_type": "code",
   "execution_count": 30,
   "metadata": {},
   "outputs": [],
   "source": [
    "# remove corresponding rows in y_train and y_test\n",
    "y_train = pd.Series(y_train)\n",
    "y_test = pd.Series(y_test)\n",
    "y_train = y_train.loc[X_train.index]\n",
    "y_test = y_test.loc[X_test.index]"
   ]
  },
  {
   "cell_type": "code",
   "execution_count": 31,
   "metadata": {},
   "outputs": [
    {
     "name": "stdout",
     "output_type": "stream",
     "text": [
      "Missing values in X_train :  0\n",
      "Missing values in X_test :  0\n",
      "Missing values in X_val :  0\n",
      "Missing values in y_train :  0\n",
      "Missing values in y_test :  0\n",
      "Missing values in y_val :  0\n"
     ]
    }
   ],
   "source": [
    "print('Missing values in X_train : ', X_train.isnull().sum().sum())\n",
    "print('Missing values in X_test : ', X_test.isnull().sum().sum())\n",
    "print('Missing values in X_val : ', X_val.isnull().sum().sum())\n",
    "print('Missing values in y_train : ', y_train.isnull().sum().sum())\n",
    "print('Missing values in y_test : ', y_test.isnull().sum().sum())\n",
    "print('Missing values in y_val : ', y_val.isnull().sum().sum())"
   ]
  },
  {
   "cell_type": "markdown",
   "metadata": {},
   "source": [
    "## 5.5 - Feature Selection"
   ]
  },
  {
   "cell_type": "code",
   "execution_count": 32,
   "metadata": {},
   "outputs": [
    {
     "name": "stdout",
     "output_type": "stream",
     "text": [
      "Categorical columns :  Index(['gender', 'Partner', 'Dependents', 'PhoneService', 'MultipleLines',\n",
      "       'InternetService', 'OnlineSecurity', 'OnlineBackup', 'DeviceProtection',\n",
      "       'TechSupport', 'StreamingTV', 'StreamingMovies', 'Contract',\n",
      "       'PaperlessBilling', 'PaymentMethod'],\n",
      "      dtype='object')\n",
      " \n",
      "Numerical columns :  Index(['SeniorCitizen', 'tenure', 'MonthlyCharges', 'TotalCharges'], dtype='object')\n"
     ]
    }
   ],
   "source": [
    "# categorical columns \n",
    "catcols = X_train.select_dtypes(include=['object']).columns\n",
    "print('Categorical columns : ',catcols)\n",
    "print(' ')\n",
    "# numerical columns \n",
    "numcols = X_train.select_dtypes(include=['int64', 'float64']).columns\n",
    "print('Numerical columns : ',numcols)"
   ]
  },
  {
   "cell_type": "code",
   "execution_count": 33,
   "metadata": {},
   "outputs": [
    {
     "data": {
      "text/plain": [
       "<AxesSubplot:>"
      ]
     },
     "execution_count": 33,
     "metadata": {},
     "output_type": "execute_result"
    },
    {
     "data": {
      "image/png": "[encoded data removed]",
      "text/plain": [
       "<Figure size 1080x360 with 2 Axes>"
      ]
     },
     "metadata": {
      "needs_background": "light"
     },
     "output_type": "display_data"
    }
   ],
   "source": [
    "# check correlation between numerical columns and target \n",
    "enc = LabelEncoder()\n",
    "\n",
    "df_num = pd.concat([data[numcols], data['Churn']], axis=1)\n",
    "for col in df_num.select_dtypes(include=['object']).columns:\n",
    "    df_num[col] = enc.fit_transform(df_num[col])\n",
    "\n",
    "plt.figure(figsize=(15, 5))\n",
    "sns.heatmap(df_num.corr(), annot=True, cmap='RdYlGn')"
   ]
  },
  {
   "cell_type": "markdown",
   "metadata": {},
   "source": [
    "We can arguably say that all of the numerical columns have some correlation to the target column."
   ]
  },
  {
   "cell_type": "code",
   "execution_count": 34,
   "metadata": {},
   "outputs": [
    {
     "data": {
      "text/plain": [
       "<AxesSubplot:>"
      ]
     },
     "execution_count": 34,
     "metadata": {},
     "output_type": "execute_result"
    },
    {
     "data": {
      "image/png": "[encoded data removed]",
      "text/plain": [
       "<Figure size 1080x360 with 2 Axes>"
      ]
     },
     "metadata": {
      "needs_background": "light"
     },
     "output_type": "display_data"
    }
   ],
   "source": [
    "# check correlation between catgeorical columns and target \n",
    "df_cat = pd.concat([data[catcols], data['Churn']], axis=1)\n",
    "for col in df_cat.select_dtypes(include=['object']).columns:\n",
    "    df_cat[col] = enc.fit_transform(df_cat[col])\n",
    "\n",
    "plt.figure(figsize=(15, 5))\n",
    "sns.heatmap(df_cat.corr(), annot=True, cmap='RdYlGn')"
   ]
  },
  {
   "cell_type": "markdown",
   "metadata": {},
   "source": [
    "Again, we can say that all of the categorical columns have some correlation to the target column."
   ]
  },
  {
   "cell_type": "markdown",
   "metadata": {},
   "source": [
    "## 5.6 - Split between numerical and categorical features"
   ]
  },
  {
   "cell_type": "code",
   "execution_count": 35,
   "metadata": {},
   "outputs": [
    {
     "name": "stdout",
     "output_type": "stream",
     "text": [
      "Numerical Columns :  ['SeniorCitizen', 'tenure', 'MonthlyCharges', 'TotalCharges']\n",
      "Categorical Columns :  ['gender', 'Partner', 'Dependents', 'PhoneService', 'MultipleLines', 'InternetService', 'OnlineSecurity', 'OnlineBackup', 'DeviceProtection', 'TechSupport', 'StreamingTV', 'StreamingMovies', 'Contract', 'PaperlessBilling', 'PaymentMethod']\n"
     ]
    }
   ],
   "source": [
    "num_columns = X_train.select_dtypes(include=np.number).columns.tolist()\n",
    "cat_columns = X_train.select_dtypes(include=['object']).columns.tolist()\n",
    "print('Numerical Columns : ', num_columns)\n",
    "print('Categorical Columns : ', cat_columns)"
   ]
  },
  {
   "cell_type": "code",
   "execution_count": 36,
   "metadata": {},
   "outputs": [],
   "source": [
    "# Split Train-Set and Test-Set based on Column Type (Numerical/Categorical)\n",
    "X_train_num = X_train[num_columns]\n",
    "X_train_cat = X_train[cat_columns]\n",
    "\n",
    "X_val_num = X_val[num_columns]\n",
    "X_val_cat = X_val[cat_columns]\n",
    "\n",
    "X_test_num = X_test[num_columns]\n",
    "X_test_cat = X_test[cat_columns]"
   ]
  },
  {
   "cell_type": "markdown",
   "metadata": {},
   "source": [
    "## 5.7 - Feature scaling"
   ]
  },
  {
   "cell_type": "code",
   "execution_count": 37,
   "metadata": {},
   "outputs": [],
   "source": [
    "# Feature Scaling using MinMaxScaler\n",
    "scaler = MinMaxScaler()\n",
    "scaler.fit(X_train_num)\n",
    "\n",
    "X_train_num_scaled = scaler.transform(X_train_num)\n",
    "X_val_num_scaled = scaler.transform(X_val_num)\n",
    "X_test_num_scaled = scaler.transform(X_test_num)"
   ]
  },
  {
   "cell_type": "code",
   "execution_count": 38,
   "metadata": {},
   "outputs": [],
   "source": [
    "# save scaler\n",
    "with open('scaler.pkl', 'wb') as f:\n",
    "    pickle.dump(scaler, f)"
   ]
  },
  {
   "cell_type": "code",
   "execution_count": 39,
   "metadata": {},
   "outputs": [],
   "source": [
    "# converting back to dataframe\n",
    "X_train_num_scaled = pd.DataFrame(X_train_num_scaled, columns=X_train_num.columns)\n",
    "X_val_num_scaled = pd.DataFrame(X_val_num_scaled, columns=X_val_num.columns)\n",
    "X_test_num_scaled = pd.DataFrame(X_test_num_scaled, columns=X_test_num.columns)"
   ]
  },
  {
   "cell_type": "markdown",
   "metadata": {},
   "source": [
    "## 5.8 - Feature encoding"
   ]
  },
  {
   "cell_type": "code",
   "execution_count": 40,
   "metadata": {},
   "outputs": [],
   "source": [
    "unique_val = pd.unique(X_train_cat.values.ravel()) # get all unique values\n",
    "\n",
    "ohe = OneHotEncoder(categories=[unique_val]*X_train_cat.shape[1], sparse=False, handle_unknown='ignore', drop='first') # drop first to avoid dummy variable trap\n",
    "\n",
    "ohe.fit(X_train_cat)\n",
    "\n",
    "X_train_cat_ohe = ohe.transform(X_train_cat)\n",
    "X_val_cat_ohe = ohe.transform(X_val_cat)\n",
    "X_test_cat_ohe = ohe.transform(X_test_cat)"
   ]
  },
  {
   "cell_type": "code",
   "execution_count": 41,
   "metadata": {},
   "outputs": [],
   "source": [
    "# save ohe\n",
    "with open('ohe.pkl', 'wb') as f:\n",
    "    pickle.dump(ohe, f)"
   ]
  },
  {
   "cell_type": "code",
   "execution_count": 42,
   "metadata": {},
   "outputs": [],
   "source": [
    "# convert back to dataframe\n",
    "X_train_cat_ohe = pd.DataFrame(X_train_cat_ohe)\n",
    "X_val_cat_ohe = pd.DataFrame(X_val_cat_ohe)\n",
    "X_test_cat_ohe = pd.DataFrame(X_test_cat_ohe)"
   ]
  },
  {
   "cell_type": "markdown",
   "metadata": {},
   "source": [
    "## 5.9 - Target encoding"
   ]
  },
  {
   "cell_type": "code",
   "execution_count": 43,
   "metadata": {},
   "outputs": [],
   "source": [
    "enc = LabelEncoder()\n",
    "y_train = enc.fit_transform(y_train)\n",
    "y_val = enc.transform(y_val)\n",
    "y_test = enc.transform(y_test)"
   ]
  },
  {
   "cell_type": "markdown",
   "metadata": {},
   "source": [
    "## 5.10 - Concatenate all"
   ]
  },
  {
   "cell_type": "code",
   "execution_count": 44,
   "metadata": {},
   "outputs": [],
   "source": [
    "# concatenate all\n",
    "X_train_final = pd.concat([X_train_num_scaled, X_train_cat_ohe], axis=1)\n",
    "X_val_final = pd.concat([X_val_num_scaled, X_val_cat_ohe], axis=1)\n",
    "X_test_final = pd.concat([X_test_num_scaled, X_test_cat_ohe], axis=1)"
   ]
  },
  {
   "cell_type": "markdown",
   "metadata": {},
   "source": [
    "## 5.11 - Dimensionality reduction"
   ]
  },
  {
   "cell_type": "code",
   "execution_count": 45,
   "metadata": {},
   "outputs": [
    {
     "data": {
      "text/plain": [
       "(4419, 214)"
      ]
     },
     "execution_count": 45,
     "metadata": {},
     "output_type": "execute_result"
    }
   ],
   "source": [
    "X_train_final.shape"
   ]
  },
  {
   "cell_type": "markdown",
   "metadata": {},
   "source": [
    "As we can see above, our training set has 214 features. It is definitely not good for the model building. So, we will do dimensionality reduction with PCA."
   ]
  },
  {
   "cell_type": "markdown",
   "metadata": {},
   "source": [
    "### 5.11.1 - PCA"
   ]
  },
  {
   "cell_type": "code",
   "execution_count": 46,
   "metadata": {},
   "outputs": [
    {
     "data": {
      "text/html": [
       "<style>#sk-container-id-1 {color: black;background-color: white;}#sk-container-id-1 pre{padding: 0;}#sk-container-id-1 div.sk-toggleable {background-color: white;}#sk-container-id-1 label.sk-toggleable__label {cursor: pointer;display: block;width: 100%;margin-bottom: 0;padding: 0.3em;box-sizing: border-box;text-align: center;}#sk-container-id-1 label.sk-toggleable__label-arrow:before {content: \"▸\";float: left;margin-right: 0.25em;color: #696969;}#sk-container-id-1 label.sk-toggleable__label-arrow:hover:before {color: black;}#sk-container-id-1 div.sk-estimator:hover label.sk-toggleable__label-arrow:before {color: black;}#sk-container-id-1 div.sk-toggleable__content {max-height: 0;max-width: 0;overflow: hidden;text-align: left;background-color: #f0f8ff;}#sk-container-id-1 div.sk-toggleable__content pre {margin: 0.2em;color: black;border-radius: 0.25em;background-color: #f0f8ff;}#sk-container-id-1 input.sk-toggleable__control:checked~div.sk-toggleable__content {max-height: 200px;max-width: 100%;overflow: auto;}#sk-container-id-1 input.sk-toggleable__control:checked~label.sk-toggleable__label-arrow:before {content: \"▾\";}#sk-container-id-1 div.sk-estimator input.sk-toggleable__control:checked~label.sk-toggleable__label {background-color: #d4ebff;}#sk-container-id-1 div.sk-label input.sk-toggleable__control:checked~label.sk-toggleable__label {background-color: #d4ebff;}#sk-container-id-1 input.sk-hidden--visually {border: 0;clip: rect(1px 1px 1px 1px);clip: rect(1px, 1px, 1px, 1px);height: 1px;margin: -1px;overflow: hidden;padding: 0;position: absolute;width: 1px;}#sk-container-id-1 div.sk-estimator {font-family: monospace;background-color: #f0f8ff;border: 1px dotted black;border-radius: 0.25em;box-sizing: border-box;margin-bottom: 0.5em;}#sk-container-id-1 div.sk-estimator:hover {background-color: #d4ebff;}#sk-container-id-1 div.sk-parallel-item::after {content: \"\";width: 100%;border-bottom: 1px solid gray;flex-grow: 1;}#sk-container-id-1 div.sk-label:hover label.sk-toggleable__label {background-color: #d4ebff;}#sk-container-id-1 div.sk-serial::before {content: \"\";position: absolute;border-left: 1px solid gray;box-sizing: border-box;top: 0;bottom: 0;left: 50%;z-index: 0;}#sk-container-id-1 div.sk-serial {display: flex;flex-direction: column;align-items: center;background-color: white;padding-right: 0.2em;padding-left: 0.2em;position: relative;}#sk-container-id-1 div.sk-item {position: relative;z-index: 1;}#sk-container-id-1 div.sk-parallel {display: flex;align-items: stretch;justify-content: center;background-color: white;position: relative;}#sk-container-id-1 div.sk-item::before, #sk-container-id-1 div.sk-parallel-item::before {content: \"\";position: absolute;border-left: 1px solid gray;box-sizing: border-box;top: 0;bottom: 0;left: 50%;z-index: -1;}#sk-container-id-1 div.sk-parallel-item {display: flex;flex-direction: column;z-index: 1;position: relative;background-color: white;}#sk-container-id-1 div.sk-parallel-item:first-child::after {align-self: flex-end;width: 50%;}#sk-container-id-1 div.sk-parallel-item:last-child::after {align-self: flex-start;width: 50%;}#sk-container-id-1 div.sk-parallel-item:only-child::after {width: 0;}#sk-container-id-1 div.sk-dashed-wrapped {border: 1px dashed gray;margin: 0 0.4em 0.5em 0.4em;box-sizing: border-box;padding-bottom: 0.4em;background-color: white;}#sk-container-id-1 div.sk-label label {font-family: monospace;font-weight: bold;display: inline-block;line-height: 1.2em;}#sk-container-id-1 div.sk-label-container {text-align: center;}#sk-container-id-1 div.sk-container {/* jupyter's `normalize.less` sets `[hidden] { display: none; }` but bootstrap.min.css set `[hidden] { display: none !important; }` so we also need the `!important` here to be able to override the default hidden behavior on the sphinx rendered scikit-learn.org. See: https://github.com/scikit-learn/scikit-learn/issues/21755 */display: inline-block !important;position: relative;}#sk-container-id-1 div.sk-text-repr-fallback {display: none;}</style><div id=\"sk-container-id-1\" class=\"sk-top-container\"><div class=\"sk-text-repr-fallback\"><pre>PCA()</pre><b>In a Jupyter environment, please rerun this cell to show the HTML representation or trust the notebook. <br />On GitHub, the HTML representation is unable to render, please try loading this page with nbviewer.org.</b></div><div class=\"sk-container\" hidden><div class=\"sk-item\"><div class=\"sk-estimator sk-toggleable\"><input class=\"sk-toggleable__control sk-hidden--visually\" id=\"sk-estimator-id-1\" type=\"checkbox\" checked><label for=\"sk-estimator-id-1\" class=\"sk-toggleable__label sk-toggleable__label-arrow\">PCA</label><div class=\"sk-toggleable__content\"><pre>PCA()</pre></div></div></div></div></div>"
      ],
      "text/plain": [
       "PCA()"
      ]
     },
     "execution_count": 46,
     "metadata": {},
     "output_type": "execute_result"
    }
   ],
   "source": [
    "pca = PCA()\n",
    "pca.fit(X_train_final)"
   ]
  },
  {
   "cell_type": "code",
   "execution_count": 48,
   "metadata": {},
   "outputs": [
    {
     "data": {
      "image/png": "[encoded data removed]",
      "text/plain": [
       "<Figure size 864x360 with 1 Axes>"
      ]
     },
     "metadata": {
      "needs_background": "light"
     },
     "output_type": "display_data"
    }
   ],
   "source": [
    "plt.figure(figsize=(12,5))\n",
    "plt.plot(range(1, 215), pca.explained_variance_ratio_.cumsum(), marker='o', linestyle='--', )\n",
    "plt.title('PCA Captured Variance')\n",
    "plt.xlabel('# Principal Components')\n",
    "plt.ylabel('Captured Variance')\n",
    "plt.show()"
   ]
  },
  {
   "cell_type": "markdown",
   "metadata": {},
   "source": [
    "In order to capture about 95% of the variance, we will use 18 number of principal components."
   ]
  },
  {
   "cell_type": "code",
   "execution_count": 49,
   "metadata": {},
   "outputs": [
    {
     "data": {
      "text/html": [
       "<style>#sk-container-id-2 {color: black;background-color: white;}#sk-container-id-2 pre{padding: 0;}#sk-container-id-2 div.sk-toggleable {background-color: white;}#sk-container-id-2 label.sk-toggleable__label {cursor: pointer;display: block;width: 100%;margin-bottom: 0;padding: 0.3em;box-sizing: border-box;text-align: center;}#sk-container-id-2 label.sk-toggleable__label-arrow:before {content: \"▸\";float: left;margin-right: 0.25em;color: #696969;}#sk-container-id-2 label.sk-toggleable__label-arrow:hover:before {color: black;}#sk-container-id-2 div.sk-estimator:hover label.sk-toggleable__label-arrow:before {color: black;}#sk-container-id-2 div.sk-toggleable__content {max-height: 0;max-width: 0;overflow: hidden;text-align: left;background-color: #f0f8ff;}#sk-container-id-2 div.sk-toggleable__content pre {margin: 0.2em;color: black;border-radius: 0.25em;background-color: #f0f8ff;}#sk-container-id-2 input.sk-toggleable__control:checked~div.sk-toggleable__content {max-height: 200px;max-width: 100%;overflow: auto;}#sk-container-id-2 input.sk-toggleable__control:checked~label.sk-toggleable__label-arrow:before {content: \"▾\";}#sk-container-id-2 div.sk-estimator input.sk-toggleable__control:checked~label.sk-toggleable__label {background-color: #d4ebff;}#sk-container-id-2 div.sk-label input.sk-toggleable__control:checked~label.sk-toggleable__label {background-color: #d4ebff;}#sk-container-id-2 input.sk-hidden--visually {border: 0;clip: rect(1px 1px 1px 1px);clip: rect(1px, 1px, 1px, 1px);height: 1px;margin: -1px;overflow: hidden;padding: 0;position: absolute;width: 1px;}#sk-container-id-2 div.sk-estimator {font-family: monospace;background-color: #f0f8ff;border: 1px dotted black;border-radius: 0.25em;box-sizing: border-box;margin-bottom: 0.5em;}#sk-container-id-2 div.sk-estimator:hover {background-color: #d4ebff;}#sk-container-id-2 div.sk-parallel-item::after {content: \"\";width: 100%;border-bottom: 1px solid gray;flex-grow: 1;}#sk-container-id-2 div.sk-label:hover label.sk-toggleable__label {background-color: #d4ebff;}#sk-container-id-2 div.sk-serial::before {content: \"\";position: absolute;border-left: 1px solid gray;box-sizing: border-box;top: 0;bottom: 0;left: 50%;z-index: 0;}#sk-container-id-2 div.sk-serial {display: flex;flex-direction: column;align-items: center;background-color: white;padding-right: 0.2em;padding-left: 0.2em;position: relative;}#sk-container-id-2 div.sk-item {position: relative;z-index: 1;}#sk-container-id-2 div.sk-parallel {display: flex;align-items: stretch;justify-content: center;background-color: white;position: relative;}#sk-container-id-2 div.sk-item::before, #sk-container-id-2 div.sk-parallel-item::before {content: \"\";position: absolute;border-left: 1px solid gray;box-sizing: border-box;top: 0;bottom: 0;left: 50%;z-index: -1;}#sk-container-id-2 div.sk-parallel-item {display: flex;flex-direction: column;z-index: 1;position: relative;background-color: white;}#sk-container-id-2 div.sk-parallel-item:first-child::after {align-self: flex-end;width: 50%;}#sk-container-id-2 div.sk-parallel-item:last-child::after {align-self: flex-start;width: 50%;}#sk-container-id-2 div.sk-parallel-item:only-child::after {width: 0;}#sk-container-id-2 div.sk-dashed-wrapped {border: 1px dashed gray;margin: 0 0.4em 0.5em 0.4em;box-sizing: border-box;padding-bottom: 0.4em;background-color: white;}#sk-container-id-2 div.sk-label label {font-family: monospace;font-weight: bold;display: inline-block;line-height: 1.2em;}#sk-container-id-2 div.sk-label-container {text-align: center;}#sk-container-id-2 div.sk-container {/* jupyter's `normalize.less` sets `[hidden] { display: none; }` but bootstrap.min.css set `[hidden] { display: none !important; }` so we also need the `!important` here to be able to override the default hidden behavior on the sphinx rendered scikit-learn.org. See: https://github.com/scikit-learn/scikit-learn/issues/21755 */display: inline-block !important;position: relative;}#sk-container-id-2 div.sk-text-repr-fallback {display: none;}</style><div id=\"sk-container-id-2\" class=\"sk-top-container\"><div class=\"sk-text-repr-fallback\"><pre>PCA(n_components=18)</pre><b>In a Jupyter environment, please rerun this cell to show the HTML representation or trust the notebook. <br />On GitHub, the HTML representation is unable to render, please try loading this page with nbviewer.org.</b></div><div class=\"sk-container\" hidden><div class=\"sk-item\"><div class=\"sk-estimator sk-toggleable\"><input class=\"sk-toggleable__control sk-hidden--visually\" id=\"sk-estimator-id-2\" type=\"checkbox\" checked><label for=\"sk-estimator-id-2\" class=\"sk-toggleable__label sk-toggleable__label-arrow\">PCA</label><div class=\"sk-toggleable__content\"><pre>PCA(n_components=18)</pre></div></div></div></div></div>"
      ],
      "text/plain": [
       "PCA(n_components=18)"
      ]
     },
     "execution_count": 49,
     "metadata": {},
     "output_type": "execute_result"
    }
   ],
   "source": [
    "pca18 = PCA(n_components=18)\n",
    "pca18.fit(X_train_final)"
   ]
  },
  {
   "cell_type": "code",
   "execution_count": 81,
   "metadata": {},
   "outputs": [],
   "source": [
    "# save PCA\n",
    "with open('pca18.pkl', 'wb') as f:\n",
    "    pickle.dump(pca18, f)"
   ]
  },
  {
   "cell_type": "code",
   "execution_count": 50,
   "metadata": {},
   "outputs": [
    {
     "data": {
      "text/plain": [
       "array([0.24859297, 0.1370448 , 0.08646217, 0.06260238, 0.04535053,\n",
       "       0.04290836, 0.04047314, 0.03552744, 0.03265806, 0.03045522,\n",
       "       0.02914648, 0.02826505, 0.02675258, 0.02562708, 0.02513849,\n",
       "       0.02481954, 0.02218974, 0.01864829])"
      ]
     },
     "execution_count": 50,
     "metadata": {},
     "output_type": "execute_result"
    }
   ],
   "source": [
    "pca18.explained_variance_ratio_"
   ]
  },
  {
   "cell_type": "code",
   "execution_count": 51,
   "metadata": {},
   "outputs": [],
   "source": [
    "pca18_train = pca18.transform(X_train_final)\n",
    "pca18_val = pca18.transform(X_val_final)\n",
    "pca18_test = pca18.transform(X_test_final)"
   ]
  },
  {
   "cell_type": "code",
   "execution_count": 80,
   "metadata": {},
   "outputs": [
    {
     "data": {
      "text/plain": [
       "array([[-0.97070306, -1.29959277, -0.54774326, ..., -0.52241518,\n",
       "         0.01012072, -0.29343307],\n",
       "       [-0.48547849, -0.68182354,  1.0663125 , ..., -0.4734952 ,\n",
       "        -0.8745342 ,  0.66084482],\n",
       "       [-0.87387427,  1.57998361, -1.06492867, ..., -0.62644933,\n",
       "        -0.43427972,  0.20448381],\n",
       "       ...,\n",
       "       [-0.96535963, -1.13903289, -0.4705652 , ...,  0.01082222,\n",
       "        -0.74925952,  0.02746217],\n",
       "       [-0.2790605 ,  0.61711366,  0.8868758 , ...,  0.67902326,\n",
       "         0.75837436,  0.25983223],\n",
       "       [-0.04185909,  0.70894549,  2.64550499, ...,  0.16712092,\n",
       "        -0.56840808, -0.48622965]])"
      ]
     },
     "execution_count": 80,
     "metadata": {},
     "output_type": "execute_result"
    }
   ],
   "source": [
    "pca18_test"
   ]
  },
  {
   "cell_type": "code",
   "execution_count": 52,
   "metadata": {},
   "outputs": [
    {
     "data": {
      "text/html": [
       "<div>\n",
       "<style scoped>\n",
       "    .dataframe tbody tr th:only-of-type {\n",
       "        vertical-align: middle;\n",
       "    }\n",
       "\n",
       "    .dataframe tbody tr th {\n",
       "        vertical-align: top;\n",
       "    }\n",
       "\n",
       "    .dataframe thead th {\n",
       "        text-align: right;\n",
       "    }\n",
       "</style>\n",
       "<table border=\"1\" class=\"dataframe\">\n",
       "  <thead>\n",
       "    <tr style=\"text-align: right;\">\n",
       "      <th></th>\n",
       "      <th>PCA_1</th>\n",
       "      <th>PCA_2</th>\n",
       "      <th>PCA_3</th>\n",
       "      <th>PCA_4</th>\n",
       "      <th>PCA_5</th>\n",
       "      <th>PCA_6</th>\n",
       "      <th>PCA_7</th>\n",
       "      <th>PCA_8</th>\n",
       "      <th>PCA_9</th>\n",
       "      <th>PCA_10</th>\n",
       "      <th>PCA_11</th>\n",
       "      <th>PCA_12</th>\n",
       "      <th>PCA_13</th>\n",
       "      <th>PCA_14</th>\n",
       "      <th>PCA_15</th>\n",
       "      <th>PCA_16</th>\n",
       "      <th>PCA_17</th>\n",
       "      <th>PCA_18</th>\n",
       "    </tr>\n",
       "  </thead>\n",
       "  <tbody>\n",
       "    <tr>\n",
       "      <th>0</th>\n",
       "      <td>3.064905</td>\n",
       "      <td>0.227169</td>\n",
       "      <td>0.226015</td>\n",
       "      <td>-0.819756</td>\n",
       "      <td>0.343968</td>\n",
       "      <td>0.244835</td>\n",
       "      <td>-0.153850</td>\n",
       "      <td>0.090167</td>\n",
       "      <td>-0.108307</td>\n",
       "      <td>-0.233356</td>\n",
       "      <td>0.409485</td>\n",
       "      <td>0.059784</td>\n",
       "      <td>-0.353307</td>\n",
       "      <td>-0.011641</td>\n",
       "      <td>-0.092692</td>\n",
       "      <td>-0.190414</td>\n",
       "      <td>0.176222</td>\n",
       "      <td>0.447618</td>\n",
       "    </tr>\n",
       "    <tr>\n",
       "      <th>1</th>\n",
       "      <td>-0.384337</td>\n",
       "      <td>-1.137178</td>\n",
       "      <td>1.192571</td>\n",
       "      <td>0.341521</td>\n",
       "      <td>-0.270717</td>\n",
       "      <td>0.615384</td>\n",
       "      <td>-0.396772</td>\n",
       "      <td>-0.191434</td>\n",
       "      <td>0.264193</td>\n",
       "      <td>-0.083850</td>\n",
       "      <td>-0.582997</td>\n",
       "      <td>-0.758739</td>\n",
       "      <td>1.464070</td>\n",
       "      <td>-0.030819</td>\n",
       "      <td>-0.366872</td>\n",
       "      <td>-0.111336</td>\n",
       "      <td>-0.546995</td>\n",
       "      <td>0.541597</td>\n",
       "    </tr>\n",
       "    <tr>\n",
       "      <th>2</th>\n",
       "      <td>2.976078</td>\n",
       "      <td>0.367497</td>\n",
       "      <td>0.169316</td>\n",
       "      <td>-0.811806</td>\n",
       "      <td>0.238667</td>\n",
       "      <td>0.245625</td>\n",
       "      <td>-0.118757</td>\n",
       "      <td>0.015474</td>\n",
       "      <td>0.046100</td>\n",
       "      <td>-0.285794</td>\n",
       "      <td>0.450817</td>\n",
       "      <td>-0.218339</td>\n",
       "      <td>-0.262305</td>\n",
       "      <td>0.368149</td>\n",
       "      <td>0.734985</td>\n",
       "      <td>-0.173515</td>\n",
       "      <td>-0.477264</td>\n",
       "      <td>-0.079894</td>\n",
       "    </tr>\n",
       "    <tr>\n",
       "      <th>3</th>\n",
       "      <td>-1.311578</td>\n",
       "      <td>-0.632957</td>\n",
       "      <td>-1.158527</td>\n",
       "      <td>0.263725</td>\n",
       "      <td>0.148600</td>\n",
       "      <td>0.242691</td>\n",
       "      <td>0.389302</td>\n",
       "      <td>-0.331322</td>\n",
       "      <td>0.718014</td>\n",
       "      <td>0.233382</td>\n",
       "      <td>-0.262580</td>\n",
       "      <td>1.058916</td>\n",
       "      <td>0.034086</td>\n",
       "      <td>0.696636</td>\n",
       "      <td>-0.308159</td>\n",
       "      <td>0.171450</td>\n",
       "      <td>-0.205247</td>\n",
       "      <td>0.195939</td>\n",
       "    </tr>\n",
       "    <tr>\n",
       "      <th>4</th>\n",
       "      <td>-0.180399</td>\n",
       "      <td>2.120163</td>\n",
       "      <td>1.369221</td>\n",
       "      <td>1.154296</td>\n",
       "      <td>0.467301</td>\n",
       "      <td>0.406343</td>\n",
       "      <td>0.653127</td>\n",
       "      <td>0.631825</td>\n",
       "      <td>0.075642</td>\n",
       "      <td>0.330586</td>\n",
       "      <td>-0.920256</td>\n",
       "      <td>-0.462995</td>\n",
       "      <td>-0.544454</td>\n",
       "      <td>-0.281859</td>\n",
       "      <td>-0.322541</td>\n",
       "      <td>-0.506805</td>\n",
       "      <td>-0.155967</td>\n",
       "      <td>-0.413898</td>\n",
       "    </tr>\n",
       "  </tbody>\n",
       "</table>\n",
       "</div>"
      ],
      "text/plain": [
       "      PCA_1     PCA_2     PCA_3     PCA_4     PCA_5     PCA_6     PCA_7  \\\n",
       "0  3.064905  0.227169  0.226015 -0.819756  0.343968  0.244835 -0.153850   \n",
       "1 -0.384337 -1.137178  1.192571  0.341521 -0.270717  0.615384 -0.396772   \n",
       "2  2.976078  0.367497  0.169316 -0.811806  0.238667  0.245625 -0.118757   \n",
       "3 -1.311578 -0.632957 -1.158527  0.263725  0.148600  0.242691  0.389302   \n",
       "4 -0.180399  2.120163  1.369221  1.154296  0.467301  0.406343  0.653127   \n",
       "\n",
       "      PCA_8     PCA_9    PCA_10    PCA_11    PCA_12    PCA_13    PCA_14  \\\n",
       "0  0.090167 -0.108307 -0.233356  0.409485  0.059784 -0.353307 -0.011641   \n",
       "1 -0.191434  0.264193 -0.083850 -0.582997 -0.758739  1.464070 -0.030819   \n",
       "2  0.015474  0.046100 -0.285794  0.450817 -0.218339 -0.262305  0.368149   \n",
       "3 -0.331322  0.718014  0.233382 -0.262580  1.058916  0.034086  0.696636   \n",
       "4  0.631825  0.075642  0.330586 -0.920256 -0.462995 -0.544454 -0.281859   \n",
       "\n",
       "     PCA_15    PCA_16    PCA_17    PCA_18  \n",
       "0 -0.092692 -0.190414  0.176222  0.447618  \n",
       "1 -0.366872 -0.111336 -0.546995  0.541597  \n",
       "2  0.734985 -0.173515 -0.477264 -0.079894  \n",
       "3 -0.308159  0.171450 -0.205247  0.195939  \n",
       "4 -0.322541 -0.506805 -0.155967 -0.413898  "
      ]
     },
     "execution_count": 52,
     "metadata": {},
     "output_type": "execute_result"
    }
   ],
   "source": [
    "pca18_train_df = pd.DataFrame(pca18_train, columns=['PCA_'+str(i) for i in range(1,19)])\n",
    "pca18_train_df.head()"
   ]
  },
  {
   "cell_type": "markdown",
   "metadata": {},
   "source": [
    "## 5.12 - Oversampling"
   ]
  },
  {
   "cell_type": "code",
   "execution_count": 53,
   "metadata": {},
   "outputs": [
    {
     "data": {
      "text/plain": [
       "Churn\n",
       "0        3245\n",
       "1        1174\n",
       "dtype: int64"
      ]
     },
     "execution_count": 53,
     "metadata": {},
     "output_type": "execute_result"
    }
   ],
   "source": [
    "y_train_df = pd.DataFrame(y_train, columns=['Churn'])\n",
    "y_train_df.value_counts()"
   ]
  },
  {
   "cell_type": "markdown",
   "metadata": {},
   "source": [
    "We can see that the target is a little bit imbalanced. We will do oversampling to balance the dataset."
   ]
  },
  {
   "cell_type": "code",
   "execution_count": 54,
   "metadata": {},
   "outputs": [
    {
     "data": {
      "text/plain": [
       "Churn\n",
       "0        3245\n",
       "1        3245\n",
       "dtype: int64"
      ]
     },
     "execution_count": 54,
     "metadata": {},
     "output_type": "execute_result"
    }
   ],
   "source": [
    "# SMOTE\n",
    "from imblearn.over_sampling import SMOTE\n",
    "X_resampled, y_resampled = SMOTE(sampling_strategy='minority', random_state=42, k_neighbors=3).fit_resample(pca18_train_df, y_train_df) # Minority Class will have same the same number as the majority class\n",
    "# X_resampled, y_resampled = SMOTE(sampling_strategy={\"Fraud\":1000}).fit_resample(X, y) # Minority Class will have 1000 data\n",
    "X_resampled = pd.DataFrame(X_resampled, columns=pca18_train_df.columns)\n",
    "y_resampled.value_counts()"
   ]
  },
  {
   "cell_type": "markdown",
   "metadata": {},
   "source": [
    "---\n",
    "# 6 - Model Definition"
   ]
  },
  {
   "cell_type": "markdown",
   "metadata": {},
   "source": [
    "## Model 1"
   ]
  },
  {
   "cell_type": "code",
   "execution_count": 55,
   "metadata": {},
   "outputs": [],
   "source": [
    "# Sequential API\n",
    "model = Sequential()\n",
    "model.add(InputLayer(input_shape=(18,)))\n",
    "model.add(Dense(24, activation='relu', kernel_initializer='glorot_normal')) \n",
    "model.add(BatchNormalization()) \n",
    "model.add(Dropout(0.3))\n",
    "model.add(Dense(18, activation='relu'))  \n",
    "model.add(Dropout(0.3))\n",
    "model.add(Dense(6, activation='relu'))  \n",
    "model.add(BatchNormalization())\n",
    "model.add(Dropout(0.3))\n",
    "model.add(Dense(1, activation='sigmoid'))  \n",
    "\n",
    "# compile\n",
    "model.compile(loss='binary_crossentropy', \n",
    "              optimizer = tf.keras.optimizers.Adam(lr=0.001),           \n",
    "              metrics =['accuracy'])"
   ]
  },
  {
   "cell_type": "markdown",
   "metadata": {},
   "source": [
    "## Model 2"
   ]
  },
  {
   "cell_type": "code",
   "execution_count": 56,
   "metadata": {},
   "outputs": [],
   "source": [
    "# Functional API\n",
    "data_in = Input(shape=(18,))\n",
    "hidden_1 = Dense(24, activation='relu')(data_in)   \n",
    "hidden_drop_1 = Dropout(0.3)(hidden_1)\n",
    "hidden_2 = Dense(4, activation='relu')(hidden_drop_1)  \n",
    "hidden_drop_2 = Dropout(0.3)(hidden_2)\n",
    "out = Dense(1, activation='sigmoid')(hidden_drop_2)    \n",
    "\n",
    "model2 = Model(inputs=data_in, outputs=out)\n",
    "\n",
    "# compile\n",
    "model2.compile(loss='binary_crossentropy',\n",
    "              optimizer = tf.keras.optimizers.Adam(lr=0.001),           \n",
    "              metrics =['accuracy'])"
   ]
  },
  {
   "cell_type": "markdown",
   "metadata": {},
   "source": [
    "---\n",
    "# 7 - Model Training"
   ]
  },
  {
   "cell_type": "code",
   "execution_count": 57,
   "metadata": {},
   "outputs": [],
   "source": [
    "# setting number of epoch and callback for early stopping\n",
    "num_epoch = 100\n",
    "stop_early = tf.keras.callbacks.EarlyStopping(monitor='val_loss', patience=5)  # early stopping set after 5 epochs"
   ]
  },
  {
   "cell_type": "markdown",
   "metadata": {},
   "source": [
    "## Model 1"
   ]
  },
  {
   "cell_type": "code",
   "execution_count": 58,
   "metadata": {},
   "outputs": [
    {
     "name": "stdout",
     "output_type": "stream",
     "text": [
      "Epoch 1/100\n",
      "203/203 [==============================] - 3s 5ms/step - loss: 0.6610 - accuracy: 0.6439 - val_loss: 0.6326 - val_accuracy: 0.6321\n",
      "Epoch 2/100\n",
      "203/203 [==============================] - 0s 2ms/step - loss: 0.5692 - accuracy: 0.7210 - val_loss: 0.5625 - val_accuracy: 0.6931\n",
      "Epoch 3/100\n",
      "203/203 [==============================] - 0s 2ms/step - loss: 0.5513 - accuracy: 0.7324 - val_loss: 0.5418 - val_accuracy: 0.7053\n",
      "Epoch 4/100\n",
      "203/203 [==============================] - 0s 2ms/step - loss: 0.5480 - accuracy: 0.7370 - val_loss: 0.5326 - val_accuracy: 0.7154\n",
      "Epoch 5/100\n",
      "203/203 [==============================] - 0s 2ms/step - loss: 0.5349 - accuracy: 0.7441 - val_loss: 0.5396 - val_accuracy: 0.7053\n",
      "Epoch 6/100\n",
      "203/203 [==============================] - 0s 2ms/step - loss: 0.5299 - accuracy: 0.7487 - val_loss: 0.5432 - val_accuracy: 0.7053\n",
      "Epoch 7/100\n",
      "203/203 [==============================] - 1s 3ms/step - loss: 0.5255 - accuracy: 0.7532 - val_loss: 0.5401 - val_accuracy: 0.7114\n",
      "Epoch 8/100\n",
      "203/203 [==============================] - 0s 2ms/step - loss: 0.5192 - accuracy: 0.7542 - val_loss: 0.5329 - val_accuracy: 0.7154\n",
      "Epoch 9/100\n",
      "203/203 [==============================] - 1s 3ms/step - loss: 0.5174 - accuracy: 0.7539 - val_loss: 0.5343 - val_accuracy: 0.7114\n"
     ]
    }
   ],
   "source": [
    "history = model.fit(X_resampled, y_resampled, epochs=num_epoch, callbacks=[stop_early], validation_data=(pca18_val, y_val)) "
   ]
  },
  {
   "cell_type": "markdown",
   "metadata": {},
   "source": [
    "## Model 2"
   ]
  },
  {
   "cell_type": "code",
   "execution_count": 59,
   "metadata": {},
   "outputs": [
    {
     "name": "stdout",
     "output_type": "stream",
     "text": [
      "Epoch 1/100\n",
      "203/203 [==============================] - 1s 3ms/step - loss: 0.6288 - accuracy: 0.6231 - val_loss: 0.5864 - val_accuracy: 0.6707\n",
      "Epoch 2/100\n",
      "203/203 [==============================] - 0s 2ms/step - loss: 0.5660 - accuracy: 0.6915 - val_loss: 0.5581 - val_accuracy: 0.6951\n",
      "Epoch 3/100\n",
      "203/203 [==============================] - 0s 2ms/step - loss: 0.5494 - accuracy: 0.7233 - val_loss: 0.5607 - val_accuracy: 0.6890\n",
      "Epoch 4/100\n",
      "203/203 [==============================] - 0s 2ms/step - loss: 0.5372 - accuracy: 0.7291 - val_loss: 0.5344 - val_accuracy: 0.7093\n",
      "Epoch 5/100\n",
      "203/203 [==============================] - 0s 2ms/step - loss: 0.5286 - accuracy: 0.7356 - val_loss: 0.5285 - val_accuracy: 0.7134\n",
      "Epoch 6/100\n",
      "203/203 [==============================] - 0s 2ms/step - loss: 0.5256 - accuracy: 0.7348 - val_loss: 0.5438 - val_accuracy: 0.6951\n",
      "Epoch 7/100\n",
      "203/203 [==============================] - 0s 2ms/step - loss: 0.5242 - accuracy: 0.7407 - val_loss: 0.5418 - val_accuracy: 0.6972\n",
      "Epoch 8/100\n",
      "203/203 [==============================] - 0s 2ms/step - loss: 0.5260 - accuracy: 0.7390 - val_loss: 0.5365 - val_accuracy: 0.7012\n",
      "Epoch 9/100\n",
      "203/203 [==============================] - 0s 2ms/step - loss: 0.5274 - accuracy: 0.7385 - val_loss: 0.5346 - val_accuracy: 0.7073\n",
      "Epoch 10/100\n",
      "203/203 [==============================] - 0s 2ms/step - loss: 0.5191 - accuracy: 0.7391 - val_loss: 0.5364 - val_accuracy: 0.7053\n"
     ]
    }
   ],
   "source": [
    "history2 = model2.fit(X_resampled, y_resampled, epochs=num_epoch, callbacks=[stop_early], validation_data=(pca18_val, y_val)) "
   ]
  },
  {
   "cell_type": "markdown",
   "metadata": {},
   "source": [
    "---\n",
    "# 8 - Model Evaluation"
   ]
  },
  {
   "cell_type": "markdown",
   "metadata": {},
   "source": [
    "## Model 1"
   ]
  },
  {
   "cell_type": "markdown",
   "metadata": {},
   "source": [
    "Model 1 architecture is summarized as follows:"
   ]
  },
  {
   "cell_type": "code",
   "execution_count": 60,
   "metadata": {},
   "outputs": [
    {
     "data": {
      "image/png": "[encoded data removed]",
      "text/plain": [
       "<IPython.core.display.Image object>"
      ]
     },
     "execution_count": 60,
     "metadata": {},
     "output_type": "execute_result"
    }
   ],
   "source": [
    "tf.keras.utils.plot_model(model, show_shapes=True)"
   ]
  },
  {
   "cell_type": "code",
   "execution_count": 61,
   "metadata": {},
   "outputs": [
    {
     "data": {
      "text/html": [
       "<div>\n",
       "<style scoped>\n",
       "    .dataframe tbody tr th:only-of-type {\n",
       "        vertical-align: middle;\n",
       "    }\n",
       "\n",
       "    .dataframe tbody tr th {\n",
       "        vertical-align: top;\n",
       "    }\n",
       "\n",
       "    .dataframe thead th {\n",
       "        text-align: right;\n",
       "    }\n",
       "</style>\n",
       "<table border=\"1\" class=\"dataframe\">\n",
       "  <thead>\n",
       "    <tr style=\"text-align: right;\">\n",
       "      <th></th>\n",
       "      <th>loss</th>\n",
       "      <th>accuracy</th>\n",
       "      <th>val_loss</th>\n",
       "      <th>val_accuracy</th>\n",
       "    </tr>\n",
       "  </thead>\n",
       "  <tbody>\n",
       "    <tr>\n",
       "      <th>4</th>\n",
       "      <td>0.534857</td>\n",
       "      <td>0.744068</td>\n",
       "      <td>0.539598</td>\n",
       "      <td>0.705285</td>\n",
       "    </tr>\n",
       "    <tr>\n",
       "      <th>5</th>\n",
       "      <td>0.529902</td>\n",
       "      <td>0.748690</td>\n",
       "      <td>0.543172</td>\n",
       "      <td>0.705285</td>\n",
       "    </tr>\n",
       "    <tr>\n",
       "      <th>6</th>\n",
       "      <td>0.525487</td>\n",
       "      <td>0.753159</td>\n",
       "      <td>0.540050</td>\n",
       "      <td>0.711382</td>\n",
       "    </tr>\n",
       "    <tr>\n",
       "      <th>7</th>\n",
       "      <td>0.519163</td>\n",
       "      <td>0.754237</td>\n",
       "      <td>0.532858</td>\n",
       "      <td>0.715447</td>\n",
       "    </tr>\n",
       "    <tr>\n",
       "      <th>8</th>\n",
       "      <td>0.517439</td>\n",
       "      <td>0.753929</td>\n",
       "      <td>0.534307</td>\n",
       "      <td>0.711382</td>\n",
       "    </tr>\n",
       "  </tbody>\n",
       "</table>\n",
       "</div>"
      ],
      "text/plain": [
       "       loss  accuracy  val_loss  val_accuracy\n",
       "4  0.534857  0.744068  0.539598      0.705285\n",
       "5  0.529902  0.748690  0.543172      0.705285\n",
       "6  0.525487  0.753159  0.540050      0.711382\n",
       "7  0.519163  0.754237  0.532858      0.715447\n",
       "8  0.517439  0.753929  0.534307      0.711382"
      ]
     },
     "execution_count": 61,
     "metadata": {},
     "output_type": "execute_result"
    }
   ],
   "source": [
    "metrics = pd.DataFrame(history.history)\n",
    "metrics.tail()"
   ]
  },
  {
   "cell_type": "code",
   "execution_count": 62,
   "metadata": {},
   "outputs": [
    {
     "data": {
      "image/png": "[encoded data removed]",
      "text/plain": [
       "<Figure size 432x288 with 1 Axes>"
      ]
     },
     "metadata": {
      "needs_background": "light"
     },
     "output_type": "display_data"
    }
   ],
   "source": [
    "metrics[['loss', 'val_loss']].plot();"
   ]
  },
  {
   "cell_type": "markdown",
   "metadata": {},
   "source": [
    "Model 1 is overfitted. Loss in training is decreasing but loss in validation is increasing."
   ]
  },
  {
   "cell_type": "code",
   "execution_count": 63,
   "metadata": {},
   "outputs": [
    {
     "data": {
      "text/plain": [
       "(2106, 1)"
      ]
     },
     "execution_count": 63,
     "metadata": {},
     "output_type": "execute_result"
    }
   ],
   "source": [
    "y_pred = model.predict(pca18_test)\n",
    "y_pred = np.where(y_pred >= 0.5,1,0)  \n",
    "y_pred.shape"
   ]
  },
  {
   "cell_type": "code",
   "execution_count": 64,
   "metadata": {},
   "outputs": [
    {
     "name": "stdout",
     "output_type": "stream",
     "text": [
      "              precision    recall  f1-score   support\n",
      "\n",
      "           0       0.91      0.69      0.78      1546\n",
      "           1       0.49      0.82      0.61       560\n",
      "\n",
      "    accuracy                           0.72      2106\n",
      "   macro avg       0.70      0.75      0.70      2106\n",
      "weighted avg       0.80      0.72      0.74      2106\n",
      "\n"
     ]
    }
   ],
   "source": [
    "print(classification_report(y_test, y_pred))"
   ]
  },
  {
   "cell_type": "markdown",
   "metadata": {},
   "source": [
    "Overall, model 1 has accuracy of 73% and weighted f1-score of 74%. It has high precision score when considering 0 as the positive class (91%), but low precision when considering 1 as the positive class (49%). It means that the model has higher False Positives. A situation where the model predicts a customer will leave the company but the actual value is that the customer will stay."
   ]
  },
  {
   "cell_type": "markdown",
   "metadata": {},
   "source": [
    "## Model 2"
   ]
  },
  {
   "cell_type": "markdown",
   "metadata": {},
   "source": [
    "Model 2 architecture is summarized as follows:"
   ]
  },
  {
   "cell_type": "code",
   "execution_count": 65,
   "metadata": {},
   "outputs": [
    {
     "data": {
      "image/png": "[encoded data removed]",
      "text/plain": [
       "<IPython.core.display.Image object>"
      ]
     },
     "execution_count": 65,
     "metadata": {},
     "output_type": "execute_result"
    }
   ],
   "source": [
    "tf.keras.utils.plot_model(model2, show_shapes=True)"
   ]
  },
  {
   "cell_type": "code",
   "execution_count": 66,
   "metadata": {},
   "outputs": [
    {
     "data": {
      "text/html": [
       "<div>\n",
       "<style scoped>\n",
       "    .dataframe tbody tr th:only-of-type {\n",
       "        vertical-align: middle;\n",
       "    }\n",
       "\n",
       "    .dataframe tbody tr th {\n",
       "        vertical-align: top;\n",
       "    }\n",
       "\n",
       "    .dataframe thead th {\n",
       "        text-align: right;\n",
       "    }\n",
       "</style>\n",
       "<table border=\"1\" class=\"dataframe\">\n",
       "  <thead>\n",
       "    <tr style=\"text-align: right;\">\n",
       "      <th></th>\n",
       "      <th>loss</th>\n",
       "      <th>accuracy</th>\n",
       "      <th>val_loss</th>\n",
       "      <th>val_accuracy</th>\n",
       "    </tr>\n",
       "  </thead>\n",
       "  <tbody>\n",
       "    <tr>\n",
       "      <th>5</th>\n",
       "      <td>0.525645</td>\n",
       "      <td>0.734823</td>\n",
       "      <td>0.543773</td>\n",
       "      <td>0.695122</td>\n",
       "    </tr>\n",
       "    <tr>\n",
       "      <th>6</th>\n",
       "      <td>0.524179</td>\n",
       "      <td>0.740678</td>\n",
       "      <td>0.541787</td>\n",
       "      <td>0.697154</td>\n",
       "    </tr>\n",
       "    <tr>\n",
       "      <th>7</th>\n",
       "      <td>0.525994</td>\n",
       "      <td>0.738983</td>\n",
       "      <td>0.536520</td>\n",
       "      <td>0.701219</td>\n",
       "    </tr>\n",
       "    <tr>\n",
       "      <th>8</th>\n",
       "      <td>0.527362</td>\n",
       "      <td>0.738521</td>\n",
       "      <td>0.534588</td>\n",
       "      <td>0.707317</td>\n",
       "    </tr>\n",
       "    <tr>\n",
       "      <th>9</th>\n",
       "      <td>0.519052</td>\n",
       "      <td>0.739137</td>\n",
       "      <td>0.536351</td>\n",
       "      <td>0.705285</td>\n",
       "    </tr>\n",
       "  </tbody>\n",
       "</table>\n",
       "</div>"
      ],
      "text/plain": [
       "       loss  accuracy  val_loss  val_accuracy\n",
       "5  0.525645  0.734823  0.543773      0.695122\n",
       "6  0.524179  0.740678  0.541787      0.697154\n",
       "7  0.525994  0.738983  0.536520      0.701219\n",
       "8  0.527362  0.738521  0.534588      0.707317\n",
       "9  0.519052  0.739137  0.536351      0.705285"
      ]
     },
     "execution_count": 66,
     "metadata": {},
     "output_type": "execute_result"
    }
   ],
   "source": [
    "metrics = pd.DataFrame(history2.history)\n",
    "metrics.tail()"
   ]
  },
  {
   "cell_type": "code",
   "execution_count": 67,
   "metadata": {},
   "outputs": [
    {
     "data": {
      "image/png": "[encoded data removed]",
      "text/plain": [
       "<Figure size 432x288 with 1 Axes>"
      ]
     },
     "metadata": {
      "needs_background": "light"
     },
     "output_type": "display_data"
    }
   ],
   "source": [
    "metrics[['loss', 'val_loss']].plot();"
   ]
  },
  {
   "cell_type": "markdown",
   "metadata": {},
   "source": [
    "Model 2 is also overfitted. The loss in trainig and validation are not moving in the same direction."
   ]
  },
  {
   "cell_type": "code",
   "execution_count": 68,
   "metadata": {},
   "outputs": [
    {
     "data": {
      "text/plain": [
       "(2106, 1)"
      ]
     },
     "execution_count": 68,
     "metadata": {},
     "output_type": "execute_result"
    }
   ],
   "source": [
    "y_pred = model2.predict(pca18_test)\n",
    "y_pred = np.where(y_pred >= 0.5,1,0) \n",
    "y_pred.shape"
   ]
  },
  {
   "cell_type": "code",
   "execution_count": 69,
   "metadata": {},
   "outputs": [
    {
     "name": "stdout",
     "output_type": "stream",
     "text": [
      "              precision    recall  f1-score   support\n",
      "\n",
      "           0       0.91      0.69      0.78      1546\n",
      "           1       0.48      0.80      0.60       560\n",
      "\n",
      "    accuracy                           0.72      2106\n",
      "   macro avg       0.69      0.75      0.69      2106\n",
      "weighted avg       0.79      0.72      0.74      2106\n",
      "\n"
     ]
    }
   ],
   "source": [
    "print(classification_report(y_test, y_pred))"
   ]
  },
  {
   "cell_type": "markdown",
   "metadata": {},
   "source": [
    "Similar situation with model 1. It has high precision score when considering 0 as the positive class (91%), but low precision when considering 1 as the positive class (49%).\n",
    "\n",
    "The only difference is that model 2 has a slightly lower accuracy with 72%."
   ]
  },
  {
   "cell_type": "markdown",
   "metadata": {},
   "source": [
    "## Model 1 vs Model 2"
   ]
  },
  {
   "cell_type": "code",
   "execution_count": 70,
   "metadata": {},
   "outputs": [
    {
     "name": "stdout",
     "output_type": "stream",
     "text": [
      "66/66 [==============================] - 0s 1ms/step - loss: 0.5020 - accuracy: 0.7227\n",
      "66/66 [==============================] - 0s 1ms/step - loss: 0.5012 - accuracy: 0.7194\n",
      "Model 1 Loss: 0.502\n",
      "Model 1 Accuracy: 0.723\n",
      "\n",
      "Model 2 Loss: 0.501\n",
      "Model 2 Accuracy: 0.719\n"
     ]
    }
   ],
   "source": [
    "eval_dict = model.evaluate(pca18_test, y_test, return_dict=True)\n",
    "eval_dict2 = model2.evaluate(pca18_test, y_test, return_dict=True)\n",
    "print('Model 1 Loss: {}'.format(np.around(eval_dict['loss'], decimals=3)))\n",
    "print('Model 1 Accuracy: {}'.format(np.around(eval_dict['accuracy'], decimals=3)))\n",
    "print('')\n",
    "print('Model 2 Loss: {}'.format(np.around(eval_dict2['loss'], decimals=3)))\n",
    "print('Model 2 Accuracy: {}'.format(np.around(eval_dict2['accuracy'], decimals=3)))"
   ]
  },
  {
   "cell_type": "markdown",
   "metadata": {},
   "source": [
    "There is just a tiny bit difference between the two models. Model 1 has slightly better accuracy but it also has a higher loss."
   ]
  },
  {
   "cell_type": "markdown",
   "metadata": {},
   "source": [
    "## Model improvement"
   ]
  },
  {
   "cell_type": "markdown",
   "metadata": {},
   "source": [
    "We will create a new model by tuning 4 hyperparameters : \n",
    "* number of hidden layers : 3 to 4 \n",
    "* number of neurons in each layer : from 2 to 26 with step of 8 \n",
    "* dropout percentage : 0.3 to 0.5 with step of 0.1\n",
    "* learning rate of the optimizer : 0.01, 0.001, and 0.0001"
   ]
  },
  {
   "cell_type": "code",
   "execution_count": 71,
   "metadata": {},
   "outputs": [],
   "source": [
    "# model builder function\n",
    "def build_model(hp):\n",
    "    \n",
    "    model = Sequential()\n",
    "    model.add(InputLayer(input_shape=(18,)))\n",
    "    \n",
    "    # Tune the number of hidden layers and units in each.\n",
    "    # Number of hidden layers: 3 - 4\n",
    "    # Number of Units: 32 - 512 with stepsize of 32\n",
    "    for i in range(1, hp.Int(\"num_layers\", 3, 5)):\n",
    "        model.add(\n",
    "            Dense(\n",
    "                units=hp.Int(\"units_\" + str(i), min_value=2, max_value=26, step=8),\n",
    "                activation=\"relu\")\n",
    "            )\n",
    "        \n",
    "        # Tune dropout layer with values from 0.3 - 0.5 with stepsize of 0.1.\n",
    "        model.add(Dropout(hp.Float(\"dropout_\" + str(i), 0.3, 0.5, step=0.1)))\n",
    "    \n",
    "    # Add output layer.\n",
    "    model.add(Dense(units=1, activation=\"sigmoid\"))\n",
    "    \n",
    "    # Tune learning rate for Adam optimizer with values from 0.01, 0.001, or 0.0001\n",
    "    hp_learning_rate = hp.Choice(\"learning_rate\", values=[1e-2, 1e-3, 1e-4])\n",
    "    \n",
    "    # Define optimizer, loss, and metrics\n",
    "    model.compile(optimizer= tf.keras.optimizers.Adam(learning_rate=hp_learning_rate),\n",
    "                  loss='binary_crossentropy',\n",
    "                  metrics=[\"accuracy\"])\n",
    "    \n",
    "    return model"
   ]
  },
  {
   "cell_type": "code",
   "execution_count": 72,
   "metadata": {},
   "outputs": [],
   "source": [
    "# Initiate the tuner\n",
    "tuner = kt.Hyperband(build_model,\n",
    "                     objective=\"val_accuracy\",\n",
    "                     max_epochs=100,\n",
    "                     factor=3,\n",
    "                     hyperband_iterations=3,\n",
    "                     directory=\"kt_dir\",\n",
    "                     project_name=\"kt_hyperband\", overwrite=True)"
   ]
  },
  {
   "cell_type": "code",
   "execution_count": 73,
   "metadata": {},
   "outputs": [
    {
     "name": "stdout",
     "output_type": "stream",
     "text": [
      "Search space summary\n",
      "Default search space size: 6\n",
      "num_layers (Int)\n",
      "{'default': None, 'conditions': [], 'min_value': 3, 'max_value': 5, 'step': 1, 'sampling': None}\n",
      "units_1 (Int)\n",
      "{'default': None, 'conditions': [], 'min_value': 2, 'max_value': 26, 'step': 8, 'sampling': None}\n",
      "dropout_1 (Float)\n",
      "{'default': 0.3, 'conditions': [], 'min_value': 0.3, 'max_value': 0.5, 'step': 0.1, 'sampling': None}\n",
      "units_2 (Int)\n",
      "{'default': None, 'conditions': [], 'min_value': 2, 'max_value': 26, 'step': 8, 'sampling': None}\n",
      "dropout_2 (Float)\n",
      "{'default': 0.3, 'conditions': [], 'min_value': 0.3, 'max_value': 0.5, 'step': 0.1, 'sampling': None}\n",
      "learning_rate (Choice)\n",
      "{'default': 0.01, 'conditions': [], 'values': [0.01, 0.001, 0.0001], 'ordered': True}\n"
     ]
    }
   ],
   "source": [
    "# Display search space summary\n",
    "tuner.search_space_summary()"
   ]
  },
  {
   "cell_type": "code",
   "execution_count": 74,
   "metadata": {},
   "outputs": [],
   "source": [
    "num_epoch = 100\n",
    "stop_early = tf.keras.callbacks.EarlyStopping(monitor='val_loss', patience=5) "
   ]
  },
  {
   "cell_type": "code",
   "execution_count": 76,
   "metadata": {},
   "outputs": [
    {
     "name": "stdout",
     "output_type": "stream",
     "text": [
      "Trial 508 Complete [00h 00m 27s]\n",
      "val_accuracy: 0.7337398529052734\n",
      "\n",
      "Best val_accuracy So Far: 0.8109756112098694\n",
      "Total elapsed time: 02h 26m 14s\n",
      "\n",
      "Search: Running Trial #509\n",
      "\n",
      "Hyperparameter    |Value             |Best Value So Far \n",
      "num_layers        |4                 |4                 \n",
      "units_1           |18                |2                 \n",
      "dropout_1         |0.4               |0.5               \n",
      "units_2           |10                |18                \n",
      "dropout_2         |0.4               |0.4               \n",
      "learning_rate     |0.01              |0.01              \n",
      "units_3           |10                |2                 \n",
      "dropout_3         |0.5               |0.4               \n",
      "units_4           |18                |26                \n",
      "dropout_4         |0.4               |0.4               \n",
      "tuner/epochs      |100               |2                 \n",
      "tuner/initial_e...|0                 |0                 \n",
      "tuner/bracket     |0                 |4                 \n",
      "tuner/round       |0                 |0                 \n",
      "\n",
      "Epoch 1/100\n",
      "203/203 [==============================] - 1s 3ms/step - loss: 0.6175 - accuracy: 0.6630 - val_loss: 0.5572 - val_accuracy: 0.6504\n",
      "Epoch 2/100\n",
      "203/203 [==============================] - 0s 2ms/step - loss: 0.5503 - accuracy: 0.7328 - val_loss: 0.5553 - val_accuracy: 0.6850\n"
     ]
    },
    {
     "ename": "UnknownError",
     "evalue": "Failed to rename: kt_dir\\kt_hyperband\\trial_b217790de2489ced6facac9ccab53da1\\checkpoints\\epoch_0\\checkpoint.tmp4848215c4eac44809ce9444c33e37ed5 to: kt_dir\\kt_hyperband\\trial_b217790de2489ced6facac9ccab53da1\\checkpoints\\epoch_0\\checkpoint : Access is denied.\r\n; Input/output error",
     "output_type": "error",
     "traceback": [
      "\u001b[1;31m---------------------------------------------------------------------------\u001b[0m",
      "\u001b[1;31mUnknownError\u001b[0m                              Traceback (most recent call last)",
      "\u001b[1;32mc:\\Users\\Naufal\\Documents\\hacktiv8\\p2--m1--heroku\\deployment\\frontend\\h8dsft_Milestone1P2_Naufal_Indriatmoko.ipynb Cell 135'\u001b[0m in \u001b[0;36m<cell line: 2>\u001b[1;34m()\u001b[0m\n\u001b[0;32m      <a href='vscode-notebook-cell:/c%3A/Users/Naufal/Documents/hacktiv8/p2--m1--heroku/deployment/frontend/h8dsft_Milestone1P2_Naufal_Indriatmoko.ipynb#ch0000134?line=0'>1</a>\u001b[0m \u001b[39m# start the tuning\u001b[39;00m\n\u001b[1;32m----> <a href='vscode-notebook-cell:/c%3A/Users/Naufal/Documents/hacktiv8/p2--m1--heroku/deployment/frontend/h8dsft_Milestone1P2_Naufal_Indriatmoko.ipynb#ch0000134?line=1'>2</a>\u001b[0m tuner\u001b[39m.\u001b[39;49msearch(X_resampled, y_resampled, epochs\u001b[39m=\u001b[39;49mnum_epoch, callbacks\u001b[39m=\u001b[39;49m[stop_early], validation_data\u001b[39m=\u001b[39;49m(pca18_val, y_val))\n",
      "File \u001b[1;32mc:\\Users\\Naufal\\anaconda3\\envs\\ml_envi\\lib\\site-packages\\keras_tuner\\engine\\base_tuner.py:179\u001b[0m, in \u001b[0;36mBaseTuner.search\u001b[1;34m(self, *fit_args, **fit_kwargs)\u001b[0m\n\u001b[0;32m    176\u001b[0m     \u001b[39mcontinue\u001b[39;00m\n\u001b[0;32m    178\u001b[0m \u001b[39mself\u001b[39m\u001b[39m.\u001b[39mon_trial_begin(trial)\n\u001b[1;32m--> 179\u001b[0m results \u001b[39m=\u001b[39m \u001b[39mself\u001b[39m\u001b[39m.\u001b[39mrun_trial(trial, \u001b[39m*\u001b[39mfit_args, \u001b[39m*\u001b[39m\u001b[39m*\u001b[39mfit_kwargs)\n\u001b[0;32m    180\u001b[0m \u001b[39m# `results` is None indicates user updated oracle in `run_trial()`.\u001b[39;00m\n\u001b[0;32m    181\u001b[0m \u001b[39mif\u001b[39;00m results \u001b[39mis\u001b[39;00m \u001b[39mNone\u001b[39;00m:\n",
      "File \u001b[1;32mc:\\Users\\Naufal\\anaconda3\\envs\\ml_envi\\lib\\site-packages\\keras_tuner\\tuners\\hyperband.py:376\u001b[0m, in \u001b[0;36mHyperband.run_trial\u001b[1;34m(self, trial, *fit_args, **fit_kwargs)\u001b[0m\n\u001b[0;32m    374\u001b[0m     fit_kwargs[\u001b[39m\"\u001b[39m\u001b[39mepochs\u001b[39m\u001b[39m\"\u001b[39m] \u001b[39m=\u001b[39m hp\u001b[39m.\u001b[39mvalues[\u001b[39m\"\u001b[39m\u001b[39mtuner/epochs\u001b[39m\u001b[39m\"\u001b[39m]\n\u001b[0;32m    375\u001b[0m     fit_kwargs[\u001b[39m\"\u001b[39m\u001b[39minitial_epoch\u001b[39m\u001b[39m\"\u001b[39m] \u001b[39m=\u001b[39m hp\u001b[39m.\u001b[39mvalues[\u001b[39m\"\u001b[39m\u001b[39mtuner/initial_epoch\u001b[39m\u001b[39m\"\u001b[39m]\n\u001b[1;32m--> 376\u001b[0m \u001b[39mreturn\u001b[39;00m \u001b[39msuper\u001b[39m(Hyperband, \u001b[39mself\u001b[39m)\u001b[39m.\u001b[39mrun_trial(trial, \u001b[39m*\u001b[39mfit_args, \u001b[39m*\u001b[39m\u001b[39m*\u001b[39mfit_kwargs)\n",
      "File \u001b[1;32mc:\\Users\\Naufal\\anaconda3\\envs\\ml_envi\\lib\\site-packages\\keras_tuner\\engine\\tuner.py:304\u001b[0m, in \u001b[0;36mTuner.run_trial\u001b[1;34m(self, trial, *args, **kwargs)\u001b[0m\n\u001b[0;32m    302\u001b[0m callbacks\u001b[39m.\u001b[39mappend(model_checkpoint)\n\u001b[0;32m    303\u001b[0m copied_kwargs[\u001b[39m\"\u001b[39m\u001b[39mcallbacks\u001b[39m\u001b[39m\"\u001b[39m] \u001b[39m=\u001b[39m callbacks\n\u001b[1;32m--> 304\u001b[0m obj_value \u001b[39m=\u001b[39m \u001b[39mself\u001b[39m\u001b[39m.\u001b[39m_build_and_fit_model(trial, \u001b[39m*\u001b[39margs, \u001b[39m*\u001b[39m\u001b[39m*\u001b[39mcopied_kwargs)\n\u001b[0;32m    306\u001b[0m \u001b[39m# objective left unspecified,\u001b[39;00m\n\u001b[0;32m    307\u001b[0m \u001b[39m# and objective value is not a single float.\u001b[39;00m\n\u001b[0;32m    308\u001b[0m \u001b[39mif\u001b[39;00m (\n\u001b[0;32m    309\u001b[0m     \u001b[39mnot\u001b[39;00m \u001b[39misinstance\u001b[39m(obj_value, (\u001b[39mint\u001b[39m, \u001b[39mfloat\u001b[39m))\n\u001b[0;32m    310\u001b[0m     \u001b[39mand\u001b[39;00m \u001b[39mself\u001b[39m\u001b[39m.\u001b[39moracle\u001b[39m.\u001b[39mobjective\u001b[39m.\u001b[39mname \u001b[39m==\u001b[39m \u001b[39m\"\u001b[39m\u001b[39mdefault_objective\u001b[39m\u001b[39m\"\u001b[39m\n\u001b[0;32m    311\u001b[0m ):\n",
      "File \u001b[1;32mc:\\Users\\Naufal\\anaconda3\\envs\\ml_envi\\lib\\site-packages\\keras_tuner\\engine\\tuner.py:234\u001b[0m, in \u001b[0;36mTuner._build_and_fit_model\u001b[1;34m(self, trial, *args, **kwargs)\u001b[0m\n\u001b[0;32m    232\u001b[0m hp \u001b[39m=\u001b[39m trial\u001b[39m.\u001b[39mhyperparameters\n\u001b[0;32m    233\u001b[0m model \u001b[39m=\u001b[39m \u001b[39mself\u001b[39m\u001b[39m.\u001b[39m_try_build(hp)\n\u001b[1;32m--> 234\u001b[0m \u001b[39mreturn\u001b[39;00m \u001b[39mself\u001b[39m\u001b[39m.\u001b[39mhypermodel\u001b[39m.\u001b[39mfit(hp, model, \u001b[39m*\u001b[39margs, \u001b[39m*\u001b[39m\u001b[39m*\u001b[39mkwargs)\n",
      "File \u001b[1;32mc:\\Users\\Naufal\\anaconda3\\envs\\ml_envi\\lib\\site-packages\\keras_tuner\\engine\\hypermodel.py:137\u001b[0m, in \u001b[0;36mHyperModel.fit\u001b[1;34m(self, hp, model, *args, **kwargs)\u001b[0m\n\u001b[0;32m    113\u001b[0m \u001b[39mdef\u001b[39;00m \u001b[39mfit\u001b[39m(\u001b[39mself\u001b[39m, hp, model, \u001b[39m*\u001b[39margs, \u001b[39m*\u001b[39m\u001b[39m*\u001b[39mkwargs):\n\u001b[0;32m    114\u001b[0m     \u001b[39m\"\"\"Train the model.\u001b[39;00m\n\u001b[0;32m    115\u001b[0m \n\u001b[0;32m    116\u001b[0m \u001b[39m    Args:\u001b[39;00m\n\u001b[1;32m   (...)\u001b[0m\n\u001b[0;32m    135\u001b[0m \u001b[39m        If return a float, it should be the `objective` value.\u001b[39;00m\n\u001b[0;32m    136\u001b[0m \u001b[39m    \"\"\"\u001b[39;00m\n\u001b[1;32m--> 137\u001b[0m     \u001b[39mreturn\u001b[39;00m model\u001b[39m.\u001b[39mfit(\u001b[39m*\u001b[39margs, \u001b[39m*\u001b[39m\u001b[39m*\u001b[39mkwargs)\n",
      "File \u001b[1;32mc:\\Users\\Naufal\\anaconda3\\envs\\ml_envi\\lib\\site-packages\\keras\\engine\\training.py:1230\u001b[0m, in \u001b[0;36mModel.fit\u001b[1;34m(self, x, y, batch_size, epochs, verbose, callbacks, validation_split, validation_data, shuffle, class_weight, sample_weight, initial_epoch, steps_per_epoch, validation_steps, validation_batch_size, validation_freq, max_queue_size, workers, use_multiprocessing)\u001b[0m\n\u001b[0;32m   1227\u001b[0m   val_logs \u001b[39m=\u001b[39m {\u001b[39m'\u001b[39m\u001b[39mval_\u001b[39m\u001b[39m'\u001b[39m \u001b[39m+\u001b[39m name: val \u001b[39mfor\u001b[39;00m name, val \u001b[39min\u001b[39;00m val_logs\u001b[39m.\u001b[39mitems()}\n\u001b[0;32m   1228\u001b[0m   epoch_logs\u001b[39m.\u001b[39mupdate(val_logs)\n\u001b[1;32m-> 1230\u001b[0m callbacks\u001b[39m.\u001b[39;49mon_epoch_end(epoch, epoch_logs)\n\u001b[0;32m   1231\u001b[0m training_logs \u001b[39m=\u001b[39m epoch_logs\n\u001b[0;32m   1232\u001b[0m \u001b[39mif\u001b[39;00m \u001b[39mself\u001b[39m\u001b[39m.\u001b[39mstop_training:\n",
      "File \u001b[1;32mc:\\Users\\Naufal\\anaconda3\\envs\\ml_envi\\lib\\site-packages\\keras\\callbacks.py:413\u001b[0m, in \u001b[0;36mCallbackList.on_epoch_end\u001b[1;34m(self, epoch, logs)\u001b[0m\n\u001b[0;32m    411\u001b[0m logs \u001b[39m=\u001b[39m \u001b[39mself\u001b[39m\u001b[39m.\u001b[39m_process_logs(logs)\n\u001b[0;32m    412\u001b[0m \u001b[39mfor\u001b[39;00m callback \u001b[39min\u001b[39;00m \u001b[39mself\u001b[39m\u001b[39m.\u001b[39mcallbacks:\n\u001b[1;32m--> 413\u001b[0m   callback\u001b[39m.\u001b[39;49mon_epoch_end(epoch, logs)\n",
      "File \u001b[1;32mc:\\Users\\Naufal\\anaconda3\\envs\\ml_envi\\lib\\site-packages\\keras\\callbacks.py:1368\u001b[0m, in \u001b[0;36mModelCheckpoint.on_epoch_end\u001b[1;34m(self, epoch, logs)\u001b[0m\n\u001b[0;32m   1366\u001b[0m \u001b[39m# pylint: disable=protected-access\u001b[39;00m\n\u001b[0;32m   1367\u001b[0m \u001b[39mif\u001b[39;00m \u001b[39mself\u001b[39m\u001b[39m.\u001b[39msave_freq \u001b[39m==\u001b[39m \u001b[39m'\u001b[39m\u001b[39mepoch\u001b[39m\u001b[39m'\u001b[39m:\n\u001b[1;32m-> 1368\u001b[0m   \u001b[39mself\u001b[39;49m\u001b[39m.\u001b[39;49m_save_model(epoch\u001b[39m=\u001b[39;49mepoch, batch\u001b[39m=\u001b[39;49m\u001b[39mNone\u001b[39;49;00m, logs\u001b[39m=\u001b[39;49mlogs)\n",
      "File \u001b[1;32mc:\\Users\\Naufal\\anaconda3\\envs\\ml_envi\\lib\\site-packages\\keras\\callbacks.py:1419\u001b[0m, in \u001b[0;36mModelCheckpoint._save_model\u001b[1;34m(self, epoch, batch, logs)\u001b[0m\n\u001b[0;32m   1417\u001b[0m \u001b[39mself\u001b[39m\u001b[39m.\u001b[39mbest \u001b[39m=\u001b[39m current\n\u001b[0;32m   1418\u001b[0m \u001b[39mif\u001b[39;00m \u001b[39mself\u001b[39m\u001b[39m.\u001b[39msave_weights_only:\n\u001b[1;32m-> 1419\u001b[0m   \u001b[39mself\u001b[39;49m\u001b[39m.\u001b[39;49mmodel\u001b[39m.\u001b[39;49msave_weights(\n\u001b[0;32m   1420\u001b[0m       filepath, overwrite\u001b[39m=\u001b[39;49m\u001b[39mTrue\u001b[39;49;00m, options\u001b[39m=\u001b[39;49m\u001b[39mself\u001b[39;49m\u001b[39m.\u001b[39;49m_options)\n\u001b[0;32m   1421\u001b[0m \u001b[39melse\u001b[39;00m:\n\u001b[0;32m   1422\u001b[0m   \u001b[39mself\u001b[39m\u001b[39m.\u001b[39mmodel\u001b[39m.\u001b[39msave(filepath, overwrite\u001b[39m=\u001b[39m\u001b[39mTrue\u001b[39;00m, options\u001b[39m=\u001b[39m\u001b[39mself\u001b[39m\u001b[39m.\u001b[39m_options)\n",
      "File \u001b[1;32mc:\\Users\\Naufal\\anaconda3\\envs\\ml_envi\\lib\\site-packages\\keras\\engine\\training.py:2260\u001b[0m, in \u001b[0;36mModel.save_weights\u001b[1;34m(self, filepath, overwrite, save_format, options)\u001b[0m\n\u001b[0;32m   2258\u001b[0m \u001b[39mself\u001b[39m\u001b[39m.\u001b[39m_trackable_saver\u001b[39m.\u001b[39msave(filepath, session\u001b[39m=\u001b[39msession, options\u001b[39m=\u001b[39moptions)\n\u001b[0;32m   2259\u001b[0m \u001b[39m# Record this checkpoint so it's visible from tf.train.latest_checkpoint.\u001b[39;00m\n\u001b[1;32m-> 2260\u001b[0m tf\u001b[39m.\u001b[39;49m__internal__\u001b[39m.\u001b[39;49mtrain\u001b[39m.\u001b[39;49mupdate_checkpoint_state(\n\u001b[0;32m   2261\u001b[0m     save_dir\u001b[39m=\u001b[39;49mos\u001b[39m.\u001b[39;49mpath\u001b[39m.\u001b[39;49mdirname(filepath),\n\u001b[0;32m   2262\u001b[0m     model_checkpoint_path\u001b[39m=\u001b[39;49mfilepath,\n\u001b[0;32m   2263\u001b[0m     save_relative_paths\u001b[39m=\u001b[39;49m\u001b[39mTrue\u001b[39;49;00m,\n\u001b[0;32m   2264\u001b[0m     all_model_checkpoint_paths\u001b[39m=\u001b[39;49m[filepath])\n",
      "File \u001b[1;32mc:\\Users\\Naufal\\anaconda3\\envs\\ml_envi\\lib\\site-packages\\tensorflow\\python\\training\\checkpoint_management.py:248\u001b[0m, in \u001b[0;36mupdate_checkpoint_state_internal\u001b[1;34m(save_dir, model_checkpoint_path, all_model_checkpoint_paths, latest_filename, save_relative_paths, all_model_checkpoint_timestamps, last_preserved_timestamp)\u001b[0m\n\u001b[0;32m    242\u001b[0m   \u001b[39mraise\u001b[39;00m \u001b[39mRuntimeError\u001b[39;00m(\u001b[39m\"\u001b[39m\u001b[39mSave path \u001b[39m\u001b[39m'\u001b[39m\u001b[39m%s\u001b[39;00m\u001b[39m'\u001b[39m\u001b[39m conflicts with path used for \u001b[39m\u001b[39m\"\u001b[39m\n\u001b[0;32m    243\u001b[0m                      \u001b[39m\"\u001b[39m\u001b[39mcheckpoint state.  Please use a different save path.\u001b[39m\u001b[39m\"\u001b[39m \u001b[39m%\u001b[39m\n\u001b[0;32m    244\u001b[0m                      model_checkpoint_path)\n\u001b[0;32m    246\u001b[0m \u001b[39m# Preventing potential read/write race condition by *atomically* writing to a\u001b[39;00m\n\u001b[0;32m    247\u001b[0m \u001b[39m# file.\u001b[39;00m\n\u001b[1;32m--> 248\u001b[0m file_io\u001b[39m.\u001b[39;49matomic_write_string_to_file(coord_checkpoint_filename,\n\u001b[0;32m    249\u001b[0m                                     text_format\u001b[39m.\u001b[39;49mMessageToString(ckpt))\n",
      "File \u001b[1;32mc:\\Users\\Naufal\\anaconda3\\envs\\ml_envi\\lib\\site-packages\\tensorflow\\python\\lib\\io\\file_io.py:648\u001b[0m, in \u001b[0;36matomic_write_string_to_file\u001b[1;34m(filename, contents, overwrite)\u001b[0m\n\u001b[0;32m    646\u001b[0m write_string_to_file(temp_pathname, contents)\n\u001b[0;32m    647\u001b[0m \u001b[39mtry\u001b[39;00m:\n\u001b[1;32m--> 648\u001b[0m   rename(temp_pathname, filename, overwrite)\n\u001b[0;32m    649\u001b[0m \u001b[39mexcept\u001b[39;00m errors\u001b[39m.\u001b[39mOpError:\n\u001b[0;32m    650\u001b[0m   delete_file(temp_pathname)\n",
      "File \u001b[1;32mc:\\Users\\Naufal\\anaconda3\\envs\\ml_envi\\lib\\site-packages\\tensorflow\\python\\lib\\io\\file_io.py:607\u001b[0m, in \u001b[0;36mrename\u001b[1;34m(oldname, newname, overwrite)\u001b[0m\n\u001b[0;32m    594\u001b[0m \u001b[39m@tf_export\u001b[39m(v1\u001b[39m=\u001b[39m[\u001b[39m\"\u001b[39m\u001b[39mgfile.Rename\u001b[39m\u001b[39m\"\u001b[39m])\n\u001b[0;32m    595\u001b[0m \u001b[39mdef\u001b[39;00m \u001b[39mrename\u001b[39m(oldname, newname, overwrite\u001b[39m=\u001b[39m\u001b[39mFalse\u001b[39;00m):\n\u001b[0;32m    596\u001b[0m   \u001b[39m\"\"\"Rename or move a file / directory.\u001b[39;00m\n\u001b[0;32m    597\u001b[0m \n\u001b[0;32m    598\u001b[0m \u001b[39m  Args:\u001b[39;00m\n\u001b[1;32m   (...)\u001b[0m\n\u001b[0;32m    605\u001b[0m \u001b[39m    errors.OpError: If the operation fails.\u001b[39;00m\n\u001b[0;32m    606\u001b[0m \u001b[39m  \"\"\"\u001b[39;00m\n\u001b[1;32m--> 607\u001b[0m   rename_v2(oldname, newname, overwrite)\n",
      "File \u001b[1;32mc:\\Users\\Naufal\\anaconda3\\envs\\ml_envi\\lib\\site-packages\\tensorflow\\python\\lib\\io\\file_io.py:623\u001b[0m, in \u001b[0;36mrename_v2\u001b[1;34m(src, dst, overwrite)\u001b[0m\n\u001b[0;32m    610\u001b[0m \u001b[39m@tf_export\u001b[39m(\u001b[39m\"\u001b[39m\u001b[39mio.gfile.rename\u001b[39m\u001b[39m\"\u001b[39m)\n\u001b[0;32m    611\u001b[0m \u001b[39mdef\u001b[39;00m \u001b[39mrename_v2\u001b[39m(src, dst, overwrite\u001b[39m=\u001b[39m\u001b[39mFalse\u001b[39;00m):\n\u001b[0;32m    612\u001b[0m   \u001b[39m\"\"\"Rename or move a file / directory.\u001b[39;00m\n\u001b[0;32m    613\u001b[0m \n\u001b[0;32m    614\u001b[0m \u001b[39m  Args:\u001b[39;00m\n\u001b[1;32m   (...)\u001b[0m\n\u001b[0;32m    621\u001b[0m \u001b[39m    errors.OpError: If the operation fails.\u001b[39;00m\n\u001b[0;32m    622\u001b[0m \u001b[39m  \"\"\"\u001b[39;00m\n\u001b[1;32m--> 623\u001b[0m   _pywrap_file_io\u001b[39m.\u001b[39;49mRenameFile(\n\u001b[0;32m    624\u001b[0m       compat\u001b[39m.\u001b[39;49mpath_to_bytes(src), compat\u001b[39m.\u001b[39;49mpath_to_bytes(dst), overwrite)\n",
      "\u001b[1;31mUnknownError\u001b[0m: Failed to rename: kt_dir\\kt_hyperband\\trial_b217790de2489ced6facac9ccab53da1\\checkpoints\\epoch_0\\checkpoint.tmp4848215c4eac44809ce9444c33e37ed5 to: kt_dir\\kt_hyperband\\trial_b217790de2489ced6facac9ccab53da1\\checkpoints\\epoch_0\\checkpoint : Access is denied.\r\n; Input/output error"
     ]
    }
   ],
   "source": [
    "# start the tuning\n",
    "tuner.search(X_resampled, y_resampled, epochs=num_epoch, callbacks=[stop_early], validation_data=(pca18_val, y_val)) "
   ]
  },
  {
   "cell_type": "markdown",
   "metadata": {},
   "source": [
    "note: tuning took about 98 minutes"
   ]
  },
  {
   "cell_type": "code",
   "execution_count": null,
   "metadata": {},
   "outputs": [
    {
     "name": "stdout",
     "output_type": "stream",
     "text": [
      "{'num_layers': 4, 'units_1': 18, 'dropout_1': 0.3, 'units_2': 2, 'dropout_2': 0.4, 'learning_rate': 0.01, 'units_3': 18, 'dropout_3': 0.3, 'units_4': 2, 'dropout_4': 0.3, 'tuner/epochs': 34, 'tuner/initial_epoch': 12, 'tuner/bracket': 4, 'tuner/round': 3, 'tuner/trial_id': '3aa72b50ab7e3ed9e5e8b6e2c9ca268c'}\n"
     ]
    }
   ],
   "source": [
    "# Get the optimal hyperparameters from the results\n",
    "best_hp=tuner.get_best_hyperparameters()[0]\n",
    "print(best_hp.values)"
   ]
  },
  {
   "cell_type": "markdown",
   "metadata": {},
   "source": [
    "The optimal hyperparameters are:\n",
    "* number of hidden layers = 4\n",
    "* number of neurons in the first hidden layer = 18\n",
    "* number of neurons in the second hidden layer = 2\n",
    "* number of neurons in the third hidden layer = 18\n",
    "* number of neurons in the fourth hidden layer = 2\n",
    "* dropout percentage = 0.3 and 0.4 in the last dropout\n",
    "* learning rate of the optimizer = 0.01"
   ]
  },
  {
   "cell_type": "code",
   "execution_count": null,
   "metadata": {},
   "outputs": [
    {
     "name": "stdout",
     "output_type": "stream",
     "text": [
      "Epoch 1/100\n",
      "203/203 [==============================] - 1s 3ms/step - loss: 0.6265 - accuracy: 0.6786 - val_loss: 0.5602 - val_accuracy: 0.7744\n",
      "Epoch 2/100\n",
      "203/203 [==============================] - 0s 2ms/step - loss: 0.5978 - accuracy: 0.7023 - val_loss: 0.5550 - val_accuracy: 0.7724\n",
      "Epoch 3/100\n",
      "203/203 [==============================] - 0s 1ms/step - loss: 0.5942 - accuracy: 0.7116 - val_loss: 0.5473 - val_accuracy: 0.7520\n",
      "Epoch 4/100\n",
      "203/203 [==============================] - 0s 1ms/step - loss: 0.5859 - accuracy: 0.7211 - val_loss: 0.5390 - val_accuracy: 0.7622\n",
      "Epoch 5/100\n",
      "203/203 [==============================] - 0s 1ms/step - loss: 0.5820 - accuracy: 0.7254 - val_loss: 0.5288 - val_accuracy: 0.7520\n",
      "Epoch 6/100\n",
      "203/203 [==============================] - 0s 1ms/step - loss: 0.5841 - accuracy: 0.7293 - val_loss: 0.5668 - val_accuracy: 0.7378\n",
      "Epoch 7/100\n",
      "203/203 [==============================] - 0s 1ms/step - loss: 0.5912 - accuracy: 0.7205 - val_loss: 0.5473 - val_accuracy: 0.7520\n",
      "Epoch 8/100\n",
      "203/203 [==============================] - 0s 1ms/step - loss: 0.5803 - accuracy: 0.7290 - val_loss: 0.5464 - val_accuracy: 0.7622\n",
      "Epoch 9/100\n",
      "203/203 [==============================] - 0s 1ms/step - loss: 0.5834 - accuracy: 0.7260 - val_loss: 0.5289 - val_accuracy: 0.7703\n",
      "Epoch 10/100\n",
      "203/203 [==============================] - 0s 1ms/step - loss: 0.5870 - accuracy: 0.7263 - val_loss: 0.5595 - val_accuracy: 0.7500\n"
     ]
    },
    {
     "data": {
      "text/plain": [
       "<keras.callbacks.History at 0x252bf764130>"
      ]
     },
     "execution_count": 81,
     "metadata": {},
     "output_type": "execute_result"
    }
   ],
   "source": [
    "# Build a model based on the optimal hyperparameters\n",
    "tuned_model = tuner.hypermodel.build(best_hp)\n",
    "\n",
    "# Train the hypertuned model\n",
    "tuned_model.fit(X_resampled, y_resampled, epochs=num_epoch, callbacks=[stop_early], validation_data=(pca18_val, y_val)) "
   ]
  },
  {
   "cell_type": "code",
   "execution_count": null,
   "metadata": {},
   "outputs": [
    {
     "data": {
      "image/png": "[encoded data removed]",
      "text/plain": [
       "<IPython.core.display.Image object>"
      ]
     },
     "execution_count": 84,
     "metadata": {},
     "output_type": "execute_result"
    }
   ],
   "source": [
    "tf.keras.utils.plot_model(tuned_model, show_shapes=True)"
   ]
  },
  {
   "cell_type": "code",
   "execution_count": null,
   "metadata": {},
   "outputs": [
    {
     "name": "stdout",
     "output_type": "stream",
     "text": [
      "66/66 [==============================] - 0s 723us/step - loss: 0.5546 - accuracy: 0.7441\n",
      "Tuned model Loss: 0.555\n",
      "Tuned model Accuracy: 0.744\n"
     ]
    }
   ],
   "source": [
    "eval_dict = tuned_model.evaluate(pca18_test, y_test, return_dict=True)\n",
    "print('Tuned model Loss: {}'.format(np.around(eval_dict['loss'], decimals=3)))\n",
    "print('Tuned model Accuracy: {}'.format(np.around(eval_dict['accuracy'], decimals=3)))"
   ]
  },
  {
   "cell_type": "markdown",
   "metadata": {},
   "source": [
    "The tuned model has significantly better accuracy than the previous two models, 74% compared to 72.5% and 72.1%."
   ]
  },
  {
   "cell_type": "markdown",
   "metadata": {},
   "source": [
    "---\n",
    "# 9 - Model Saving"
   ]
  },
  {
   "cell_type": "code",
   "execution_count": null,
   "metadata": {},
   "outputs": [],
   "source": [
    "tuned_model.save('tuned_model.h5')"
   ]
  },
  {
   "cell_type": "code",
   "execution_count": 77,
   "metadata": {},
   "outputs": [],
   "source": [
    "# model.save('model1.h5')"
   ]
  },
  {
   "cell_type": "markdown",
   "metadata": {},
   "source": [
    "---\n",
    "# 10 - Model Inference"
   ]
  },
  {
   "cell_type": "code",
   "execution_count": null,
   "metadata": {},
   "outputs": [
    {
     "name": "stdout",
     "output_type": "stream",
     "text": [
      "Data inference shape :  (15, 20)\n"
     ]
    },
    {
     "data": {
      "text/html": [
       "<div>\n",
       "<style scoped>\n",
       "    .dataframe tbody tr th:only-of-type {\n",
       "        vertical-align: middle;\n",
       "    }\n",
       "\n",
       "    .dataframe tbody tr th {\n",
       "        vertical-align: top;\n",
       "    }\n",
       "\n",
       "    .dataframe thead th {\n",
       "        text-align: right;\n",
       "    }\n",
       "</style>\n",
       "<table border=\"1\" class=\"dataframe\">\n",
       "  <thead>\n",
       "    <tr style=\"text-align: right;\">\n",
       "      <th></th>\n",
       "      <th>gender</th>\n",
       "      <th>SeniorCitizen</th>\n",
       "      <th>Partner</th>\n",
       "      <th>Dependents</th>\n",
       "      <th>tenure</th>\n",
       "      <th>PhoneService</th>\n",
       "      <th>MultipleLines</th>\n",
       "      <th>InternetService</th>\n",
       "      <th>OnlineSecurity</th>\n",
       "      <th>OnlineBackup</th>\n",
       "      <th>DeviceProtection</th>\n",
       "      <th>TechSupport</th>\n",
       "      <th>StreamingTV</th>\n",
       "      <th>StreamingMovies</th>\n",
       "      <th>Contract</th>\n",
       "      <th>PaperlessBilling</th>\n",
       "      <th>PaymentMethod</th>\n",
       "      <th>MonthlyCharges</th>\n",
       "      <th>TotalCharges</th>\n",
       "      <th>Churn</th>\n",
       "    </tr>\n",
       "  </thead>\n",
       "  <tbody>\n",
       "    <tr>\n",
       "      <th>0</th>\n",
       "      <td>Female</td>\n",
       "      <td>0</td>\n",
       "      <td>Yes</td>\n",
       "      <td>Yes</td>\n",
       "      <td>18</td>\n",
       "      <td>Yes</td>\n",
       "      <td>Yes</td>\n",
       "      <td>No</td>\n",
       "      <td>No internet service</td>\n",
       "      <td>No internet service</td>\n",
       "      <td>No internet service</td>\n",
       "      <td>No internet service</td>\n",
       "      <td>No internet service</td>\n",
       "      <td>No internet service</td>\n",
       "      <td>Two year</td>\n",
       "      <td>Yes</td>\n",
       "      <td>Credit card (automatic)</td>\n",
       "      <td>24.65</td>\n",
       "      <td>471.35</td>\n",
       "      <td>No</td>\n",
       "    </tr>\n",
       "    <tr>\n",
       "      <th>1</th>\n",
       "      <td>Female</td>\n",
       "      <td>0</td>\n",
       "      <td>Yes</td>\n",
       "      <td>Yes</td>\n",
       "      <td>25</td>\n",
       "      <td>Yes</td>\n",
       "      <td>No</td>\n",
       "      <td>No</td>\n",
       "      <td>No internet service</td>\n",
       "      <td>No internet service</td>\n",
       "      <td>No internet service</td>\n",
       "      <td>No internet service</td>\n",
       "      <td>No internet service</td>\n",
       "      <td>No internet service</td>\n",
       "      <td>Two year</td>\n",
       "      <td>No</td>\n",
       "      <td>Mailed check</td>\n",
       "      <td>20.10</td>\n",
       "      <td>486.05</td>\n",
       "      <td>No</td>\n",
       "    </tr>\n",
       "    <tr>\n",
       "      <th>2</th>\n",
       "      <td>Male</td>\n",
       "      <td>0</td>\n",
       "      <td>No</td>\n",
       "      <td>Yes</td>\n",
       "      <td>1</td>\n",
       "      <td>Yes</td>\n",
       "      <td>No</td>\n",
       "      <td>DSL</td>\n",
       "      <td>Yes</td>\n",
       "      <td>Yes</td>\n",
       "      <td>No</td>\n",
       "      <td>Yes</td>\n",
       "      <td>No</td>\n",
       "      <td>Yes</td>\n",
       "      <td>Month-to-month</td>\n",
       "      <td>Yes</td>\n",
       "      <td>Bank transfer (automatic)</td>\n",
       "      <td>70.45</td>\n",
       "      <td>70.45</td>\n",
       "      <td>No</td>\n",
       "    </tr>\n",
       "    <tr>\n",
       "      <th>3</th>\n",
       "      <td>Female</td>\n",
       "      <td>0</td>\n",
       "      <td>Yes</td>\n",
       "      <td>Yes</td>\n",
       "      <td>63</td>\n",
       "      <td>Yes</td>\n",
       "      <td>No</td>\n",
       "      <td>No</td>\n",
       "      <td>No internet service</td>\n",
       "      <td>No internet service</td>\n",
       "      <td>No internet service</td>\n",
       "      <td>No internet service</td>\n",
       "      <td>No internet service</td>\n",
       "      <td>No internet service</td>\n",
       "      <td>Two year</td>\n",
       "      <td>No</td>\n",
       "      <td>Electronic check</td>\n",
       "      <td>19.35</td>\n",
       "      <td>1263.85</td>\n",
       "      <td>No</td>\n",
       "    </tr>\n",
       "    <tr>\n",
       "      <th>4</th>\n",
       "      <td>Male</td>\n",
       "      <td>0</td>\n",
       "      <td>No</td>\n",
       "      <td>No</td>\n",
       "      <td>10</td>\n",
       "      <td>Yes</td>\n",
       "      <td>No</td>\n",
       "      <td>No</td>\n",
       "      <td>No internet service</td>\n",
       "      <td>No internet service</td>\n",
       "      <td>No internet service</td>\n",
       "      <td>No internet service</td>\n",
       "      <td>No internet service</td>\n",
       "      <td>No internet service</td>\n",
       "      <td>One year</td>\n",
       "      <td>No</td>\n",
       "      <td>Mailed check</td>\n",
       "      <td>20.35</td>\n",
       "      <td>176.30</td>\n",
       "      <td>No</td>\n",
       "    </tr>\n",
       "  </tbody>\n",
       "</table>\n",
       "</div>"
      ],
      "text/plain": [
       "   gender  SeniorCitizen Partner Dependents  tenure PhoneService  \\\n",
       "0  Female              0     Yes        Yes      18          Yes   \n",
       "1  Female              0     Yes        Yes      25          Yes   \n",
       "2    Male              0      No        Yes       1          Yes   \n",
       "3  Female              0     Yes        Yes      63          Yes   \n",
       "4    Male              0      No         No      10          Yes   \n",
       "\n",
       "  MultipleLines InternetService       OnlineSecurity         OnlineBackup  \\\n",
       "0           Yes              No  No internet service  No internet service   \n",
       "1            No              No  No internet service  No internet service   \n",
       "2            No             DSL                  Yes                  Yes   \n",
       "3            No              No  No internet service  No internet service   \n",
       "4            No              No  No internet service  No internet service   \n",
       "\n",
       "      DeviceProtection          TechSupport          StreamingTV  \\\n",
       "0  No internet service  No internet service  No internet service   \n",
       "1  No internet service  No internet service  No internet service   \n",
       "2                   No                  Yes                   No   \n",
       "3  No internet service  No internet service  No internet service   \n",
       "4  No internet service  No internet service  No internet service   \n",
       "\n",
       "       StreamingMovies        Contract PaperlessBilling  \\\n",
       "0  No internet service        Two year              Yes   \n",
       "1  No internet service        Two year               No   \n",
       "2                  Yes  Month-to-month              Yes   \n",
       "3  No internet service        Two year               No   \n",
       "4  No internet service        One year               No   \n",
       "\n",
       "               PaymentMethod  MonthlyCharges  TotalCharges Churn  \n",
       "0    Credit card (automatic)           24.65        471.35    No  \n",
       "1               Mailed check           20.10        486.05    No  \n",
       "2  Bank transfer (automatic)           70.45         70.45    No  \n",
       "3           Electronic check           19.35       1263.85    No  \n",
       "4               Mailed check           20.35        176.30    No  "
      ]
     },
     "execution_count": 85,
     "metadata": {},
     "output_type": "execute_result"
    }
   ],
   "source": [
    "print('Data inference shape : ',data_inf.shape)\n",
    "data_inf.head()"
   ]
  },
  {
   "cell_type": "code",
   "execution_count": null,
   "metadata": {},
   "outputs": [
    {
     "data": {
      "text/plain": [
       "0"
      ]
     },
     "execution_count": 86,
     "metadata": {},
     "output_type": "execute_result"
    }
   ],
   "source": [
    "data_inf.isnull().sum().sum()"
   ]
  },
  {
   "cell_type": "code",
   "execution_count": null,
   "metadata": {},
   "outputs": [],
   "source": [
    "# Split between Numerical Columns and Categorical Columns\n",
    "data_inf_num = data_inf[num_columns]\n",
    "data_inf_cat = data_inf[cat_columns]"
   ]
  },
  {
   "cell_type": "code",
   "execution_count": null,
   "metadata": {},
   "outputs": [],
   "source": [
    "# feature scaling\n",
    "data_inf_num_scaled = scaler.transform(data_inf_num)"
   ]
  },
  {
   "cell_type": "code",
   "execution_count": null,
   "metadata": {},
   "outputs": [],
   "source": [
    "# converting back to dataframe\n",
    "data_inf_num_scaled = pd.DataFrame(data_inf_num_scaled, columns=data_inf_num.columns)"
   ]
  },
  {
   "cell_type": "code",
   "execution_count": null,
   "metadata": {},
   "outputs": [],
   "source": [
    "# feature encoding\n",
    "data_inf_cat_ohe = ohe.transform(data_inf_cat)"
   ]
  },
  {
   "cell_type": "code",
   "execution_count": null,
   "metadata": {},
   "outputs": [],
   "source": [
    "# convert back to dataframe\n",
    "data_inf_cat_ohe = pd.DataFrame(data_inf_cat_ohe)\n",
    "\n",
    "#get column names\n",
    "data_inf_cat_ohe.columns = ohe.get_feature_names_out(input_features=data_inf_cat.columns)"
   ]
  },
  {
   "cell_type": "code",
   "execution_count": null,
   "metadata": {},
   "outputs": [],
   "source": [
    "# concatenate all columns\n",
    "data_inf_final = pd.concat([data_inf_num_scaled, data_inf_cat_ohe], axis=1)"
   ]
  },
  {
   "cell_type": "code",
   "execution_count": null,
   "metadata": {},
   "outputs": [
    {
     "name": "stdout",
     "output_type": "stream",
     "text": [
      "Data inference shape :  (15, 214)\n"
     ]
    },
    {
     "data": {
      "text/html": [
       "<div>\n",
       "<style scoped>\n",
       "    .dataframe tbody tr th:only-of-type {\n",
       "        vertical-align: middle;\n",
       "    }\n",
       "\n",
       "    .dataframe tbody tr th {\n",
       "        vertical-align: top;\n",
       "    }\n",
       "\n",
       "    .dataframe thead th {\n",
       "        text-align: right;\n",
       "    }\n",
       "</style>\n",
       "<table border=\"1\" class=\"dataframe\">\n",
       "  <thead>\n",
       "    <tr style=\"text-align: right;\">\n",
       "      <th></th>\n",
       "      <th>SeniorCitizen</th>\n",
       "      <th>tenure</th>\n",
       "      <th>MonthlyCharges</th>\n",
       "      <th>TotalCharges</th>\n",
       "      <th>gender_Yes</th>\n",
       "      <th>gender_No</th>\n",
       "      <th>gender_No internet service</th>\n",
       "      <th>gender_Two year</th>\n",
       "      <th>gender_Mailed check</th>\n",
       "      <th>gender_Female</th>\n",
       "      <th>gender_DSL</th>\n",
       "      <th>gender_One year</th>\n",
       "      <th>gender_Bank transfer (automatic)</th>\n",
       "      <th>gender_Credit card (automatic)</th>\n",
       "      <th>gender_Fiber optic</th>\n",
       "      <th>gender_Month-to-month</th>\n",
       "      <th>gender_Electronic check</th>\n",
       "      <th>gender_No phone service</th>\n",
       "      <th>Partner_Yes</th>\n",
       "      <th>Partner_No</th>\n",
       "      <th>Partner_No internet service</th>\n",
       "      <th>Partner_Two year</th>\n",
       "      <th>Partner_Mailed check</th>\n",
       "      <th>Partner_Female</th>\n",
       "      <th>Partner_DSL</th>\n",
       "      <th>Partner_One year</th>\n",
       "      <th>Partner_Bank transfer (automatic)</th>\n",
       "      <th>Partner_Credit card (automatic)</th>\n",
       "      <th>Partner_Fiber optic</th>\n",
       "      <th>Partner_Month-to-month</th>\n",
       "      <th>Partner_Electronic check</th>\n",
       "      <th>Partner_No phone service</th>\n",
       "      <th>Dependents_Yes</th>\n",
       "      <th>Dependents_No</th>\n",
       "      <th>Dependents_No internet service</th>\n",
       "      <th>Dependents_Two year</th>\n",
       "      <th>Dependents_Mailed check</th>\n",
       "      <th>Dependents_Female</th>\n",
       "      <th>Dependents_DSL</th>\n",
       "      <th>Dependents_One year</th>\n",
       "      <th>Dependents_Bank transfer (automatic)</th>\n",
       "      <th>Dependents_Credit card (automatic)</th>\n",
       "      <th>Dependents_Fiber optic</th>\n",
       "      <th>Dependents_Month-to-month</th>\n",
       "      <th>Dependents_Electronic check</th>\n",
       "      <th>Dependents_No phone service</th>\n",
       "      <th>PhoneService_Yes</th>\n",
       "      <th>PhoneService_No</th>\n",
       "      <th>PhoneService_No internet service</th>\n",
       "      <th>PhoneService_Two year</th>\n",
       "      <th>PhoneService_Mailed check</th>\n",
       "      <th>PhoneService_Female</th>\n",
       "      <th>PhoneService_DSL</th>\n",
       "      <th>PhoneService_One year</th>\n",
       "      <th>PhoneService_Bank transfer (automatic)</th>\n",
       "      <th>PhoneService_Credit card (automatic)</th>\n",
       "      <th>PhoneService_Fiber optic</th>\n",
       "      <th>PhoneService_Month-to-month</th>\n",
       "      <th>PhoneService_Electronic check</th>\n",
       "      <th>PhoneService_No phone service</th>\n",
       "      <th>MultipleLines_Yes</th>\n",
       "      <th>MultipleLines_No</th>\n",
       "      <th>MultipleLines_No internet service</th>\n",
       "      <th>MultipleLines_Two year</th>\n",
       "      <th>MultipleLines_Mailed check</th>\n",
       "      <th>MultipleLines_Female</th>\n",
       "      <th>MultipleLines_DSL</th>\n",
       "      <th>MultipleLines_One year</th>\n",
       "      <th>MultipleLines_Bank transfer (automatic)</th>\n",
       "      <th>MultipleLines_Credit card (automatic)</th>\n",
       "      <th>MultipleLines_Fiber optic</th>\n",
       "      <th>MultipleLines_Month-to-month</th>\n",
       "      <th>MultipleLines_Electronic check</th>\n",
       "      <th>MultipleLines_No phone service</th>\n",
       "      <th>InternetService_Yes</th>\n",
       "      <th>InternetService_No</th>\n",
       "      <th>InternetService_No internet service</th>\n",
       "      <th>InternetService_Two year</th>\n",
       "      <th>InternetService_Mailed check</th>\n",
       "      <th>InternetService_Female</th>\n",
       "      <th>InternetService_DSL</th>\n",
       "      <th>InternetService_One year</th>\n",
       "      <th>InternetService_Bank transfer (automatic)</th>\n",
       "      <th>InternetService_Credit card (automatic)</th>\n",
       "      <th>InternetService_Fiber optic</th>\n",
       "      <th>InternetService_Month-to-month</th>\n",
       "      <th>InternetService_Electronic check</th>\n",
       "      <th>InternetService_No phone service</th>\n",
       "      <th>OnlineSecurity_Yes</th>\n",
       "      <th>OnlineSecurity_No</th>\n",
       "      <th>OnlineSecurity_No internet service</th>\n",
       "      <th>OnlineSecurity_Two year</th>\n",
       "      <th>OnlineSecurity_Mailed check</th>\n",
       "      <th>OnlineSecurity_Female</th>\n",
       "      <th>OnlineSecurity_DSL</th>\n",
       "      <th>OnlineSecurity_One year</th>\n",
       "      <th>OnlineSecurity_Bank transfer (automatic)</th>\n",
       "      <th>OnlineSecurity_Credit card (automatic)</th>\n",
       "      <th>OnlineSecurity_Fiber optic</th>\n",
       "      <th>OnlineSecurity_Month-to-month</th>\n",
       "      <th>OnlineSecurity_Electronic check</th>\n",
       "      <th>OnlineSecurity_No phone service</th>\n",
       "      <th>OnlineBackup_Yes</th>\n",
       "      <th>OnlineBackup_No</th>\n",
       "      <th>OnlineBackup_No internet service</th>\n",
       "      <th>OnlineBackup_Two year</th>\n",
       "      <th>OnlineBackup_Mailed check</th>\n",
       "      <th>OnlineBackup_Female</th>\n",
       "      <th>OnlineBackup_DSL</th>\n",
       "      <th>OnlineBackup_One year</th>\n",
       "      <th>OnlineBackup_Bank transfer (automatic)</th>\n",
       "      <th>OnlineBackup_Credit card (automatic)</th>\n",
       "      <th>OnlineBackup_Fiber optic</th>\n",
       "      <th>OnlineBackup_Month-to-month</th>\n",
       "      <th>OnlineBackup_Electronic check</th>\n",
       "      <th>OnlineBackup_No phone service</th>\n",
       "      <th>DeviceProtection_Yes</th>\n",
       "      <th>DeviceProtection_No</th>\n",
       "      <th>DeviceProtection_No internet service</th>\n",
       "      <th>DeviceProtection_Two year</th>\n",
       "      <th>DeviceProtection_Mailed check</th>\n",
       "      <th>DeviceProtection_Female</th>\n",
       "      <th>DeviceProtection_DSL</th>\n",
       "      <th>DeviceProtection_One year</th>\n",
       "      <th>DeviceProtection_Bank transfer (automatic)</th>\n",
       "      <th>DeviceProtection_Credit card (automatic)</th>\n",
       "      <th>DeviceProtection_Fiber optic</th>\n",
       "      <th>DeviceProtection_Month-to-month</th>\n",
       "      <th>DeviceProtection_Electronic check</th>\n",
       "      <th>DeviceProtection_No phone service</th>\n",
       "      <th>TechSupport_Yes</th>\n",
       "      <th>TechSupport_No</th>\n",
       "      <th>TechSupport_No internet service</th>\n",
       "      <th>TechSupport_Two year</th>\n",
       "      <th>TechSupport_Mailed check</th>\n",
       "      <th>TechSupport_Female</th>\n",
       "      <th>TechSupport_DSL</th>\n",
       "      <th>TechSupport_One year</th>\n",
       "      <th>TechSupport_Bank transfer (automatic)</th>\n",
       "      <th>TechSupport_Credit card (automatic)</th>\n",
       "      <th>TechSupport_Fiber optic</th>\n",
       "      <th>TechSupport_Month-to-month</th>\n",
       "      <th>TechSupport_Electronic check</th>\n",
       "      <th>TechSupport_No phone service</th>\n",
       "      <th>StreamingTV_Yes</th>\n",
       "      <th>StreamingTV_No</th>\n",
       "      <th>StreamingTV_No internet service</th>\n",
       "      <th>StreamingTV_Two year</th>\n",
       "      <th>StreamingTV_Mailed check</th>\n",
       "      <th>StreamingTV_Female</th>\n",
       "      <th>StreamingTV_DSL</th>\n",
       "      <th>StreamingTV_One year</th>\n",
       "      <th>StreamingTV_Bank transfer (automatic)</th>\n",
       "      <th>StreamingTV_Credit card (automatic)</th>\n",
       "      <th>StreamingTV_Fiber optic</th>\n",
       "      <th>StreamingTV_Month-to-month</th>\n",
       "      <th>StreamingTV_Electronic check</th>\n",
       "      <th>StreamingTV_No phone service</th>\n",
       "      <th>StreamingMovies_Yes</th>\n",
       "      <th>StreamingMovies_No</th>\n",
       "      <th>StreamingMovies_No internet service</th>\n",
       "      <th>StreamingMovies_Two year</th>\n",
       "      <th>StreamingMovies_Mailed check</th>\n",
       "      <th>StreamingMovies_Female</th>\n",
       "      <th>StreamingMovies_DSL</th>\n",
       "      <th>StreamingMovies_One year</th>\n",
       "      <th>StreamingMovies_Bank transfer (automatic)</th>\n",
       "      <th>StreamingMovies_Credit card (automatic)</th>\n",
       "      <th>StreamingMovies_Fiber optic</th>\n",
       "      <th>StreamingMovies_Month-to-month</th>\n",
       "      <th>StreamingMovies_Electronic check</th>\n",
       "      <th>StreamingMovies_No phone service</th>\n",
       "      <th>Contract_Yes</th>\n",
       "      <th>Contract_No</th>\n",
       "      <th>Contract_No internet service</th>\n",
       "      <th>Contract_Two year</th>\n",
       "      <th>Contract_Mailed check</th>\n",
       "      <th>Contract_Female</th>\n",
       "      <th>Contract_DSL</th>\n",
       "      <th>Contract_One year</th>\n",
       "      <th>Contract_Bank transfer (automatic)</th>\n",
       "      <th>Contract_Credit card (automatic)</th>\n",
       "      <th>Contract_Fiber optic</th>\n",
       "      <th>Contract_Month-to-month</th>\n",
       "      <th>Contract_Electronic check</th>\n",
       "      <th>Contract_No phone service</th>\n",
       "      <th>PaperlessBilling_Yes</th>\n",
       "      <th>PaperlessBilling_No</th>\n",
       "      <th>PaperlessBilling_No internet service</th>\n",
       "      <th>PaperlessBilling_Two year</th>\n",
       "      <th>PaperlessBilling_Mailed check</th>\n",
       "      <th>PaperlessBilling_Female</th>\n",
       "      <th>PaperlessBilling_DSL</th>\n",
       "      <th>PaperlessBilling_One year</th>\n",
       "      <th>PaperlessBilling_Bank transfer (automatic)</th>\n",
       "      <th>PaperlessBilling_Credit card (automatic)</th>\n",
       "      <th>PaperlessBilling_Fiber optic</th>\n",
       "      <th>PaperlessBilling_Month-to-month</th>\n",
       "      <th>PaperlessBilling_Electronic check</th>\n",
       "      <th>PaperlessBilling_No phone service</th>\n",
       "      <th>PaymentMethod_Yes</th>\n",
       "      <th>PaymentMethod_No</th>\n",
       "      <th>PaymentMethod_No internet service</th>\n",
       "      <th>PaymentMethod_Two year</th>\n",
       "      <th>PaymentMethod_Mailed check</th>\n",
       "      <th>PaymentMethod_Female</th>\n",
       "      <th>PaymentMethod_DSL</th>\n",
       "      <th>PaymentMethod_One year</th>\n",
       "      <th>PaymentMethod_Bank transfer (automatic)</th>\n",
       "      <th>PaymentMethod_Credit card (automatic)</th>\n",
       "      <th>PaymentMethod_Fiber optic</th>\n",
       "      <th>PaymentMethod_Month-to-month</th>\n",
       "      <th>PaymentMethod_Electronic check</th>\n",
       "      <th>PaymentMethod_No phone service</th>\n",
       "    </tr>\n",
       "  </thead>\n",
       "  <tbody>\n",
       "    <tr>\n",
       "      <th>0</th>\n",
       "      <td>0.0</td>\n",
       "      <td>0.239437</td>\n",
       "      <td>0.063682</td>\n",
       "      <td>0.052216</td>\n",
       "      <td>0.0</td>\n",
       "      <td>0.0</td>\n",
       "      <td>0.0</td>\n",
       "      <td>0.0</td>\n",
       "      <td>0.0</td>\n",
       "      <td>1.0</td>\n",
       "      <td>0.0</td>\n",
       "      <td>0.0</td>\n",
       "      <td>0.0</td>\n",
       "      <td>0.0</td>\n",
       "      <td>0.0</td>\n",
       "      <td>0.0</td>\n",
       "      <td>0.0</td>\n",
       "      <td>0.0</td>\n",
       "      <td>1.0</td>\n",
       "      <td>0.0</td>\n",
       "      <td>0.0</td>\n",
       "      <td>0.0</td>\n",
       "      <td>0.0</td>\n",
       "      <td>0.0</td>\n",
       "      <td>0.0</td>\n",
       "      <td>0.0</td>\n",
       "      <td>0.0</td>\n",
       "      <td>0.0</td>\n",
       "      <td>0.0</td>\n",
       "      <td>0.0</td>\n",
       "      <td>0.0</td>\n",
       "      <td>0.0</td>\n",
       "      <td>1.0</td>\n",
       "      <td>0.0</td>\n",
       "      <td>0.0</td>\n",
       "      <td>0.0</td>\n",
       "      <td>0.0</td>\n",
       "      <td>0.0</td>\n",
       "      <td>0.0</td>\n",
       "      <td>0.0</td>\n",
       "      <td>0.0</td>\n",
       "      <td>0.0</td>\n",
       "      <td>0.0</td>\n",
       "      <td>0.0</td>\n",
       "      <td>0.0</td>\n",
       "      <td>0.0</td>\n",
       "      <td>1.0</td>\n",
       "      <td>0.0</td>\n",
       "      <td>0.0</td>\n",
       "      <td>0.0</td>\n",
       "      <td>0.0</td>\n",
       "      <td>0.0</td>\n",
       "      <td>0.0</td>\n",
       "      <td>0.0</td>\n",
       "      <td>0.0</td>\n",
       "      <td>0.0</td>\n",
       "      <td>0.0</td>\n",
       "      <td>0.0</td>\n",
       "      <td>0.0</td>\n",
       "      <td>0.0</td>\n",
       "      <td>1.0</td>\n",
       "      <td>0.0</td>\n",
       "      <td>0.0</td>\n",
       "      <td>0.0</td>\n",
       "      <td>0.0</td>\n",
       "      <td>0.0</td>\n",
       "      <td>0.0</td>\n",
       "      <td>0.0</td>\n",
       "      <td>0.0</td>\n",
       "      <td>0.0</td>\n",
       "      <td>0.0</td>\n",
       "      <td>0.0</td>\n",
       "      <td>0.0</td>\n",
       "      <td>0.0</td>\n",
       "      <td>0.0</td>\n",
       "      <td>1.0</td>\n",
       "      <td>0.0</td>\n",
       "      <td>0.0</td>\n",
       "      <td>0.0</td>\n",
       "      <td>0.0</td>\n",
       "      <td>0.0</td>\n",
       "      <td>0.0</td>\n",
       "      <td>0.0</td>\n",
       "      <td>0.0</td>\n",
       "      <td>0.0</td>\n",
       "      <td>0.0</td>\n",
       "      <td>0.0</td>\n",
       "      <td>0.0</td>\n",
       "      <td>0.0</td>\n",
       "      <td>0.0</td>\n",
       "      <td>1.0</td>\n",
       "      <td>0.0</td>\n",
       "      <td>0.0</td>\n",
       "      <td>0.0</td>\n",
       "      <td>0.0</td>\n",
       "      <td>0.0</td>\n",
       "      <td>0.0</td>\n",
       "      <td>0.0</td>\n",
       "      <td>0.0</td>\n",
       "      <td>0.0</td>\n",
       "      <td>0.0</td>\n",
       "      <td>0.0</td>\n",
       "      <td>0.0</td>\n",
       "      <td>0.0</td>\n",
       "      <td>1.0</td>\n",
       "      <td>0.0</td>\n",
       "      <td>0.0</td>\n",
       "      <td>0.0</td>\n",
       "      <td>0.0</td>\n",
       "      <td>0.0</td>\n",
       "      <td>0.0</td>\n",
       "      <td>0.0</td>\n",
       "      <td>0.0</td>\n",
       "      <td>0.0</td>\n",
       "      <td>0.0</td>\n",
       "      <td>0.0</td>\n",
       "      <td>0.0</td>\n",
       "      <td>0.0</td>\n",
       "      <td>1.0</td>\n",
       "      <td>0.0</td>\n",
       "      <td>0.0</td>\n",
       "      <td>0.0</td>\n",
       "      <td>0.0</td>\n",
       "      <td>0.0</td>\n",
       "      <td>0.0</td>\n",
       "      <td>0.0</td>\n",
       "      <td>0.0</td>\n",
       "      <td>0.0</td>\n",
       "      <td>0.0</td>\n",
       "      <td>0.0</td>\n",
       "      <td>0.0</td>\n",
       "      <td>0.0</td>\n",
       "      <td>1.0</td>\n",
       "      <td>0.0</td>\n",
       "      <td>0.0</td>\n",
       "      <td>0.0</td>\n",
       "      <td>0.0</td>\n",
       "      <td>0.0</td>\n",
       "      <td>0.0</td>\n",
       "      <td>0.0</td>\n",
       "      <td>0.0</td>\n",
       "      <td>0.0</td>\n",
       "      <td>0.0</td>\n",
       "      <td>0.0</td>\n",
       "      <td>0.0</td>\n",
       "      <td>0.0</td>\n",
       "      <td>1.0</td>\n",
       "      <td>0.0</td>\n",
       "      <td>0.0</td>\n",
       "      <td>0.0</td>\n",
       "      <td>0.0</td>\n",
       "      <td>0.0</td>\n",
       "      <td>0.0</td>\n",
       "      <td>0.0</td>\n",
       "      <td>0.0</td>\n",
       "      <td>0.0</td>\n",
       "      <td>0.0</td>\n",
       "      <td>0.0</td>\n",
       "      <td>0.0</td>\n",
       "      <td>0.0</td>\n",
       "      <td>1.0</td>\n",
       "      <td>0.0</td>\n",
       "      <td>0.0</td>\n",
       "      <td>0.0</td>\n",
       "      <td>0.0</td>\n",
       "      <td>0.0</td>\n",
       "      <td>0.0</td>\n",
       "      <td>0.0</td>\n",
       "      <td>0.0</td>\n",
       "      <td>0.0</td>\n",
       "      <td>0.0</td>\n",
       "      <td>0.0</td>\n",
       "      <td>0.0</td>\n",
       "      <td>0.0</td>\n",
       "      <td>0.0</td>\n",
       "      <td>1.0</td>\n",
       "      <td>0.0</td>\n",
       "      <td>0.0</td>\n",
       "      <td>0.0</td>\n",
       "      <td>0.0</td>\n",
       "      <td>0.0</td>\n",
       "      <td>0.0</td>\n",
       "      <td>0.0</td>\n",
       "      <td>0.0</td>\n",
       "      <td>0.0</td>\n",
       "      <td>0.0</td>\n",
       "      <td>1.0</td>\n",
       "      <td>0.0</td>\n",
       "      <td>0.0</td>\n",
       "      <td>0.0</td>\n",
       "      <td>0.0</td>\n",
       "      <td>0.0</td>\n",
       "      <td>0.0</td>\n",
       "      <td>0.0</td>\n",
       "      <td>0.0</td>\n",
       "      <td>0.0</td>\n",
       "      <td>0.0</td>\n",
       "      <td>0.0</td>\n",
       "      <td>0.0</td>\n",
       "      <td>0.0</td>\n",
       "      <td>0.0</td>\n",
       "      <td>0.0</td>\n",
       "      <td>0.0</td>\n",
       "      <td>0.0</td>\n",
       "      <td>0.0</td>\n",
       "      <td>0.0</td>\n",
       "      <td>0.0</td>\n",
       "      <td>0.0</td>\n",
       "      <td>0.0</td>\n",
       "      <td>1.0</td>\n",
       "      <td>0.0</td>\n",
       "      <td>0.0</td>\n",
       "      <td>0.0</td>\n",
       "      <td>0.0</td>\n",
       "    </tr>\n",
       "    <tr>\n",
       "      <th>1</th>\n",
       "      <td>0.0</td>\n",
       "      <td>0.338028</td>\n",
       "      <td>0.018408</td>\n",
       "      <td>0.053912</td>\n",
       "      <td>0.0</td>\n",
       "      <td>0.0</td>\n",
       "      <td>0.0</td>\n",
       "      <td>0.0</td>\n",
       "      <td>0.0</td>\n",
       "      <td>1.0</td>\n",
       "      <td>0.0</td>\n",
       "      <td>0.0</td>\n",
       "      <td>0.0</td>\n",
       "      <td>0.0</td>\n",
       "      <td>0.0</td>\n",
       "      <td>0.0</td>\n",
       "      <td>0.0</td>\n",
       "      <td>0.0</td>\n",
       "      <td>1.0</td>\n",
       "      <td>0.0</td>\n",
       "      <td>0.0</td>\n",
       "      <td>0.0</td>\n",
       "      <td>0.0</td>\n",
       "      <td>0.0</td>\n",
       "      <td>0.0</td>\n",
       "      <td>0.0</td>\n",
       "      <td>0.0</td>\n",
       "      <td>0.0</td>\n",
       "      <td>0.0</td>\n",
       "      <td>0.0</td>\n",
       "      <td>0.0</td>\n",
       "      <td>0.0</td>\n",
       "      <td>1.0</td>\n",
       "      <td>0.0</td>\n",
       "      <td>0.0</td>\n",
       "      <td>0.0</td>\n",
       "      <td>0.0</td>\n",
       "      <td>0.0</td>\n",
       "      <td>0.0</td>\n",
       "      <td>0.0</td>\n",
       "      <td>0.0</td>\n",
       "      <td>0.0</td>\n",
       "      <td>0.0</td>\n",
       "      <td>0.0</td>\n",
       "      <td>0.0</td>\n",
       "      <td>0.0</td>\n",
       "      <td>1.0</td>\n",
       "      <td>0.0</td>\n",
       "      <td>0.0</td>\n",
       "      <td>0.0</td>\n",
       "      <td>0.0</td>\n",
       "      <td>0.0</td>\n",
       "      <td>0.0</td>\n",
       "      <td>0.0</td>\n",
       "      <td>0.0</td>\n",
       "      <td>0.0</td>\n",
       "      <td>0.0</td>\n",
       "      <td>0.0</td>\n",
       "      <td>0.0</td>\n",
       "      <td>0.0</td>\n",
       "      <td>0.0</td>\n",
       "      <td>1.0</td>\n",
       "      <td>0.0</td>\n",
       "      <td>0.0</td>\n",
       "      <td>0.0</td>\n",
       "      <td>0.0</td>\n",
       "      <td>0.0</td>\n",
       "      <td>0.0</td>\n",
       "      <td>0.0</td>\n",
       "      <td>0.0</td>\n",
       "      <td>0.0</td>\n",
       "      <td>0.0</td>\n",
       "      <td>0.0</td>\n",
       "      <td>0.0</td>\n",
       "      <td>0.0</td>\n",
       "      <td>1.0</td>\n",
       "      <td>0.0</td>\n",
       "      <td>0.0</td>\n",
       "      <td>0.0</td>\n",
       "      <td>0.0</td>\n",
       "      <td>0.0</td>\n",
       "      <td>0.0</td>\n",
       "      <td>0.0</td>\n",
       "      <td>0.0</td>\n",
       "      <td>0.0</td>\n",
       "      <td>0.0</td>\n",
       "      <td>0.0</td>\n",
       "      <td>0.0</td>\n",
       "      <td>0.0</td>\n",
       "      <td>0.0</td>\n",
       "      <td>1.0</td>\n",
       "      <td>0.0</td>\n",
       "      <td>0.0</td>\n",
       "      <td>0.0</td>\n",
       "      <td>0.0</td>\n",
       "      <td>0.0</td>\n",
       "      <td>0.0</td>\n",
       "      <td>0.0</td>\n",
       "      <td>0.0</td>\n",
       "      <td>0.0</td>\n",
       "      <td>0.0</td>\n",
       "      <td>0.0</td>\n",
       "      <td>0.0</td>\n",
       "      <td>0.0</td>\n",
       "      <td>1.0</td>\n",
       "      <td>0.0</td>\n",
       "      <td>0.0</td>\n",
       "      <td>0.0</td>\n",
       "      <td>0.0</td>\n",
       "      <td>0.0</td>\n",
       "      <td>0.0</td>\n",
       "      <td>0.0</td>\n",
       "      <td>0.0</td>\n",
       "      <td>0.0</td>\n",
       "      <td>0.0</td>\n",
       "      <td>0.0</td>\n",
       "      <td>0.0</td>\n",
       "      <td>0.0</td>\n",
       "      <td>1.0</td>\n",
       "      <td>0.0</td>\n",
       "      <td>0.0</td>\n",
       "      <td>0.0</td>\n",
       "      <td>0.0</td>\n",
       "      <td>0.0</td>\n",
       "      <td>0.0</td>\n",
       "      <td>0.0</td>\n",
       "      <td>0.0</td>\n",
       "      <td>0.0</td>\n",
       "      <td>0.0</td>\n",
       "      <td>0.0</td>\n",
       "      <td>0.0</td>\n",
       "      <td>0.0</td>\n",
       "      <td>1.0</td>\n",
       "      <td>0.0</td>\n",
       "      <td>0.0</td>\n",
       "      <td>0.0</td>\n",
       "      <td>0.0</td>\n",
       "      <td>0.0</td>\n",
       "      <td>0.0</td>\n",
       "      <td>0.0</td>\n",
       "      <td>0.0</td>\n",
       "      <td>0.0</td>\n",
       "      <td>0.0</td>\n",
       "      <td>0.0</td>\n",
       "      <td>0.0</td>\n",
       "      <td>0.0</td>\n",
       "      <td>1.0</td>\n",
       "      <td>0.0</td>\n",
       "      <td>0.0</td>\n",
       "      <td>0.0</td>\n",
       "      <td>0.0</td>\n",
       "      <td>0.0</td>\n",
       "      <td>0.0</td>\n",
       "      <td>0.0</td>\n",
       "      <td>0.0</td>\n",
       "      <td>0.0</td>\n",
       "      <td>0.0</td>\n",
       "      <td>0.0</td>\n",
       "      <td>0.0</td>\n",
       "      <td>0.0</td>\n",
       "      <td>1.0</td>\n",
       "      <td>0.0</td>\n",
       "      <td>0.0</td>\n",
       "      <td>0.0</td>\n",
       "      <td>0.0</td>\n",
       "      <td>0.0</td>\n",
       "      <td>0.0</td>\n",
       "      <td>0.0</td>\n",
       "      <td>0.0</td>\n",
       "      <td>0.0</td>\n",
       "      <td>0.0</td>\n",
       "      <td>0.0</td>\n",
       "      <td>0.0</td>\n",
       "      <td>0.0</td>\n",
       "      <td>0.0</td>\n",
       "      <td>1.0</td>\n",
       "      <td>0.0</td>\n",
       "      <td>0.0</td>\n",
       "      <td>0.0</td>\n",
       "      <td>0.0</td>\n",
       "      <td>0.0</td>\n",
       "      <td>0.0</td>\n",
       "      <td>0.0</td>\n",
       "      <td>0.0</td>\n",
       "      <td>0.0</td>\n",
       "      <td>0.0</td>\n",
       "      <td>0.0</td>\n",
       "      <td>1.0</td>\n",
       "      <td>0.0</td>\n",
       "      <td>0.0</td>\n",
       "      <td>0.0</td>\n",
       "      <td>0.0</td>\n",
       "      <td>0.0</td>\n",
       "      <td>0.0</td>\n",
       "      <td>0.0</td>\n",
       "      <td>0.0</td>\n",
       "      <td>0.0</td>\n",
       "      <td>0.0</td>\n",
       "      <td>0.0</td>\n",
       "      <td>0.0</td>\n",
       "      <td>0.0</td>\n",
       "      <td>0.0</td>\n",
       "      <td>0.0</td>\n",
       "      <td>0.0</td>\n",
       "      <td>1.0</td>\n",
       "      <td>0.0</td>\n",
       "      <td>0.0</td>\n",
       "      <td>0.0</td>\n",
       "      <td>0.0</td>\n",
       "      <td>0.0</td>\n",
       "      <td>0.0</td>\n",
       "      <td>0.0</td>\n",
       "      <td>0.0</td>\n",
       "      <td>0.0</td>\n",
       "    </tr>\n",
       "    <tr>\n",
       "      <th>2</th>\n",
       "      <td>0.0</td>\n",
       "      <td>0.000000</td>\n",
       "      <td>0.519403</td>\n",
       "      <td>0.005954</td>\n",
       "      <td>0.0</td>\n",
       "      <td>0.0</td>\n",
       "      <td>0.0</td>\n",
       "      <td>0.0</td>\n",
       "      <td>0.0</td>\n",
       "      <td>0.0</td>\n",
       "      <td>0.0</td>\n",
       "      <td>0.0</td>\n",
       "      <td>0.0</td>\n",
       "      <td>0.0</td>\n",
       "      <td>0.0</td>\n",
       "      <td>0.0</td>\n",
       "      <td>0.0</td>\n",
       "      <td>0.0</td>\n",
       "      <td>0.0</td>\n",
       "      <td>1.0</td>\n",
       "      <td>0.0</td>\n",
       "      <td>0.0</td>\n",
       "      <td>0.0</td>\n",
       "      <td>0.0</td>\n",
       "      <td>0.0</td>\n",
       "      <td>0.0</td>\n",
       "      <td>0.0</td>\n",
       "      <td>0.0</td>\n",
       "      <td>0.0</td>\n",
       "      <td>0.0</td>\n",
       "      <td>0.0</td>\n",
       "      <td>0.0</td>\n",
       "      <td>1.0</td>\n",
       "      <td>0.0</td>\n",
       "      <td>0.0</td>\n",
       "      <td>0.0</td>\n",
       "      <td>0.0</td>\n",
       "      <td>0.0</td>\n",
       "      <td>0.0</td>\n",
       "      <td>0.0</td>\n",
       "      <td>0.0</td>\n",
       "      <td>0.0</td>\n",
       "      <td>0.0</td>\n",
       "      <td>0.0</td>\n",
       "      <td>0.0</td>\n",
       "      <td>0.0</td>\n",
       "      <td>1.0</td>\n",
       "      <td>0.0</td>\n",
       "      <td>0.0</td>\n",
       "      <td>0.0</td>\n",
       "      <td>0.0</td>\n",
       "      <td>0.0</td>\n",
       "      <td>0.0</td>\n",
       "      <td>0.0</td>\n",
       "      <td>0.0</td>\n",
       "      <td>0.0</td>\n",
       "      <td>0.0</td>\n",
       "      <td>0.0</td>\n",
       "      <td>0.0</td>\n",
       "      <td>0.0</td>\n",
       "      <td>0.0</td>\n",
       "      <td>1.0</td>\n",
       "      <td>0.0</td>\n",
       "      <td>0.0</td>\n",
       "      <td>0.0</td>\n",
       "      <td>0.0</td>\n",
       "      <td>0.0</td>\n",
       "      <td>0.0</td>\n",
       "      <td>0.0</td>\n",
       "      <td>0.0</td>\n",
       "      <td>0.0</td>\n",
       "      <td>0.0</td>\n",
       "      <td>0.0</td>\n",
       "      <td>0.0</td>\n",
       "      <td>0.0</td>\n",
       "      <td>0.0</td>\n",
       "      <td>0.0</td>\n",
       "      <td>0.0</td>\n",
       "      <td>0.0</td>\n",
       "      <td>0.0</td>\n",
       "      <td>1.0</td>\n",
       "      <td>0.0</td>\n",
       "      <td>0.0</td>\n",
       "      <td>0.0</td>\n",
       "      <td>0.0</td>\n",
       "      <td>0.0</td>\n",
       "      <td>0.0</td>\n",
       "      <td>0.0</td>\n",
       "      <td>1.0</td>\n",
       "      <td>0.0</td>\n",
       "      <td>0.0</td>\n",
       "      <td>0.0</td>\n",
       "      <td>0.0</td>\n",
       "      <td>0.0</td>\n",
       "      <td>0.0</td>\n",
       "      <td>0.0</td>\n",
       "      <td>0.0</td>\n",
       "      <td>0.0</td>\n",
       "      <td>0.0</td>\n",
       "      <td>0.0</td>\n",
       "      <td>0.0</td>\n",
       "      <td>0.0</td>\n",
       "      <td>1.0</td>\n",
       "      <td>0.0</td>\n",
       "      <td>0.0</td>\n",
       "      <td>0.0</td>\n",
       "      <td>0.0</td>\n",
       "      <td>0.0</td>\n",
       "      <td>0.0</td>\n",
       "      <td>0.0</td>\n",
       "      <td>0.0</td>\n",
       "      <td>0.0</td>\n",
       "      <td>0.0</td>\n",
       "      <td>0.0</td>\n",
       "      <td>0.0</td>\n",
       "      <td>0.0</td>\n",
       "      <td>0.0</td>\n",
       "      <td>1.0</td>\n",
       "      <td>0.0</td>\n",
       "      <td>0.0</td>\n",
       "      <td>0.0</td>\n",
       "      <td>0.0</td>\n",
       "      <td>0.0</td>\n",
       "      <td>0.0</td>\n",
       "      <td>0.0</td>\n",
       "      <td>0.0</td>\n",
       "      <td>0.0</td>\n",
       "      <td>0.0</td>\n",
       "      <td>0.0</td>\n",
       "      <td>0.0</td>\n",
       "      <td>1.0</td>\n",
       "      <td>0.0</td>\n",
       "      <td>0.0</td>\n",
       "      <td>0.0</td>\n",
       "      <td>0.0</td>\n",
       "      <td>0.0</td>\n",
       "      <td>0.0</td>\n",
       "      <td>0.0</td>\n",
       "      <td>0.0</td>\n",
       "      <td>0.0</td>\n",
       "      <td>0.0</td>\n",
       "      <td>0.0</td>\n",
       "      <td>0.0</td>\n",
       "      <td>0.0</td>\n",
       "      <td>0.0</td>\n",
       "      <td>1.0</td>\n",
       "      <td>0.0</td>\n",
       "      <td>0.0</td>\n",
       "      <td>0.0</td>\n",
       "      <td>0.0</td>\n",
       "      <td>0.0</td>\n",
       "      <td>0.0</td>\n",
       "      <td>0.0</td>\n",
       "      <td>0.0</td>\n",
       "      <td>0.0</td>\n",
       "      <td>0.0</td>\n",
       "      <td>0.0</td>\n",
       "      <td>0.0</td>\n",
       "      <td>1.0</td>\n",
       "      <td>0.0</td>\n",
       "      <td>0.0</td>\n",
       "      <td>0.0</td>\n",
       "      <td>0.0</td>\n",
       "      <td>0.0</td>\n",
       "      <td>0.0</td>\n",
       "      <td>0.0</td>\n",
       "      <td>0.0</td>\n",
       "      <td>0.0</td>\n",
       "      <td>0.0</td>\n",
       "      <td>0.0</td>\n",
       "      <td>0.0</td>\n",
       "      <td>0.0</td>\n",
       "      <td>0.0</td>\n",
       "      <td>0.0</td>\n",
       "      <td>0.0</td>\n",
       "      <td>0.0</td>\n",
       "      <td>0.0</td>\n",
       "      <td>0.0</td>\n",
       "      <td>0.0</td>\n",
       "      <td>0.0</td>\n",
       "      <td>0.0</td>\n",
       "      <td>0.0</td>\n",
       "      <td>0.0</td>\n",
       "      <td>1.0</td>\n",
       "      <td>0.0</td>\n",
       "      <td>0.0</td>\n",
       "      <td>1.0</td>\n",
       "      <td>0.0</td>\n",
       "      <td>0.0</td>\n",
       "      <td>0.0</td>\n",
       "      <td>0.0</td>\n",
       "      <td>0.0</td>\n",
       "      <td>0.0</td>\n",
       "      <td>0.0</td>\n",
       "      <td>0.0</td>\n",
       "      <td>0.0</td>\n",
       "      <td>0.0</td>\n",
       "      <td>0.0</td>\n",
       "      <td>0.0</td>\n",
       "      <td>0.0</td>\n",
       "      <td>0.0</td>\n",
       "      <td>0.0</td>\n",
       "      <td>0.0</td>\n",
       "      <td>0.0</td>\n",
       "      <td>0.0</td>\n",
       "      <td>0.0</td>\n",
       "      <td>0.0</td>\n",
       "      <td>0.0</td>\n",
       "      <td>1.0</td>\n",
       "      <td>0.0</td>\n",
       "      <td>0.0</td>\n",
       "      <td>0.0</td>\n",
       "      <td>0.0</td>\n",
       "      <td>0.0</td>\n",
       "    </tr>\n",
       "    <tr>\n",
       "      <th>3</th>\n",
       "      <td>0.0</td>\n",
       "      <td>0.873239</td>\n",
       "      <td>0.010945</td>\n",
       "      <td>0.143666</td>\n",
       "      <td>0.0</td>\n",
       "      <td>0.0</td>\n",
       "      <td>0.0</td>\n",
       "      <td>0.0</td>\n",
       "      <td>0.0</td>\n",
       "      <td>1.0</td>\n",
       "      <td>0.0</td>\n",
       "      <td>0.0</td>\n",
       "      <td>0.0</td>\n",
       "      <td>0.0</td>\n",
       "      <td>0.0</td>\n",
       "      <td>0.0</td>\n",
       "      <td>0.0</td>\n",
       "      <td>0.0</td>\n",
       "      <td>1.0</td>\n",
       "      <td>0.0</td>\n",
       "      <td>0.0</td>\n",
       "      <td>0.0</td>\n",
       "      <td>0.0</td>\n",
       "      <td>0.0</td>\n",
       "      <td>0.0</td>\n",
       "      <td>0.0</td>\n",
       "      <td>0.0</td>\n",
       "      <td>0.0</td>\n",
       "      <td>0.0</td>\n",
       "      <td>0.0</td>\n",
       "      <td>0.0</td>\n",
       "      <td>0.0</td>\n",
       "      <td>1.0</td>\n",
       "      <td>0.0</td>\n",
       "      <td>0.0</td>\n",
       "      <td>0.0</td>\n",
       "      <td>0.0</td>\n",
       "      <td>0.0</td>\n",
       "      <td>0.0</td>\n",
       "      <td>0.0</td>\n",
       "      <td>0.0</td>\n",
       "      <td>0.0</td>\n",
       "      <td>0.0</td>\n",
       "      <td>0.0</td>\n",
       "      <td>0.0</td>\n",
       "      <td>0.0</td>\n",
       "      <td>1.0</td>\n",
       "      <td>0.0</td>\n",
       "      <td>0.0</td>\n",
       "      <td>0.0</td>\n",
       "      <td>0.0</td>\n",
       "      <td>0.0</td>\n",
       "      <td>0.0</td>\n",
       "      <td>0.0</td>\n",
       "      <td>0.0</td>\n",
       "      <td>0.0</td>\n",
       "      <td>0.0</td>\n",
       "      <td>0.0</td>\n",
       "      <td>0.0</td>\n",
       "      <td>0.0</td>\n",
       "      <td>0.0</td>\n",
       "      <td>1.0</td>\n",
       "      <td>0.0</td>\n",
       "      <td>0.0</td>\n",
       "      <td>0.0</td>\n",
       "      <td>0.0</td>\n",
       "      <td>0.0</td>\n",
       "      <td>0.0</td>\n",
       "      <td>0.0</td>\n",
       "      <td>0.0</td>\n",
       "      <td>0.0</td>\n",
       "      <td>0.0</td>\n",
       "      <td>0.0</td>\n",
       "      <td>0.0</td>\n",
       "      <td>0.0</td>\n",
       "      <td>1.0</td>\n",
       "      <td>0.0</td>\n",
       "      <td>0.0</td>\n",
       "      <td>0.0</td>\n",
       "      <td>0.0</td>\n",
       "      <td>0.0</td>\n",
       "      <td>0.0</td>\n",
       "      <td>0.0</td>\n",
       "      <td>0.0</td>\n",
       "      <td>0.0</td>\n",
       "      <td>0.0</td>\n",
       "      <td>0.0</td>\n",
       "      <td>0.0</td>\n",
       "      <td>0.0</td>\n",
       "      <td>0.0</td>\n",
       "      <td>1.0</td>\n",
       "      <td>0.0</td>\n",
       "      <td>0.0</td>\n",
       "      <td>0.0</td>\n",
       "      <td>0.0</td>\n",
       "      <td>0.0</td>\n",
       "      <td>0.0</td>\n",
       "      <td>0.0</td>\n",
       "      <td>0.0</td>\n",
       "      <td>0.0</td>\n",
       "      <td>0.0</td>\n",
       "      <td>0.0</td>\n",
       "      <td>0.0</td>\n",
       "      <td>0.0</td>\n",
       "      <td>1.0</td>\n",
       "      <td>0.0</td>\n",
       "      <td>0.0</td>\n",
       "      <td>0.0</td>\n",
       "      <td>0.0</td>\n",
       "      <td>0.0</td>\n",
       "      <td>0.0</td>\n",
       "      <td>0.0</td>\n",
       "      <td>0.0</td>\n",
       "      <td>0.0</td>\n",
       "      <td>0.0</td>\n",
       "      <td>0.0</td>\n",
       "      <td>0.0</td>\n",
       "      <td>0.0</td>\n",
       "      <td>1.0</td>\n",
       "      <td>0.0</td>\n",
       "      <td>0.0</td>\n",
       "      <td>0.0</td>\n",
       "      <td>0.0</td>\n",
       "      <td>0.0</td>\n",
       "      <td>0.0</td>\n",
       "      <td>0.0</td>\n",
       "      <td>0.0</td>\n",
       "      <td>0.0</td>\n",
       "      <td>0.0</td>\n",
       "      <td>0.0</td>\n",
       "      <td>0.0</td>\n",
       "      <td>0.0</td>\n",
       "      <td>1.0</td>\n",
       "      <td>0.0</td>\n",
       "      <td>0.0</td>\n",
       "      <td>0.0</td>\n",
       "      <td>0.0</td>\n",
       "      <td>0.0</td>\n",
       "      <td>0.0</td>\n",
       "      <td>0.0</td>\n",
       "      <td>0.0</td>\n",
       "      <td>0.0</td>\n",
       "      <td>0.0</td>\n",
       "      <td>0.0</td>\n",
       "      <td>0.0</td>\n",
       "      <td>0.0</td>\n",
       "      <td>1.0</td>\n",
       "      <td>0.0</td>\n",
       "      <td>0.0</td>\n",
       "      <td>0.0</td>\n",
       "      <td>0.0</td>\n",
       "      <td>0.0</td>\n",
       "      <td>0.0</td>\n",
       "      <td>0.0</td>\n",
       "      <td>0.0</td>\n",
       "      <td>0.0</td>\n",
       "      <td>0.0</td>\n",
       "      <td>0.0</td>\n",
       "      <td>0.0</td>\n",
       "      <td>0.0</td>\n",
       "      <td>1.0</td>\n",
       "      <td>0.0</td>\n",
       "      <td>0.0</td>\n",
       "      <td>0.0</td>\n",
       "      <td>0.0</td>\n",
       "      <td>0.0</td>\n",
       "      <td>0.0</td>\n",
       "      <td>0.0</td>\n",
       "      <td>0.0</td>\n",
       "      <td>0.0</td>\n",
       "      <td>0.0</td>\n",
       "      <td>0.0</td>\n",
       "      <td>0.0</td>\n",
       "      <td>0.0</td>\n",
       "      <td>0.0</td>\n",
       "      <td>1.0</td>\n",
       "      <td>0.0</td>\n",
       "      <td>0.0</td>\n",
       "      <td>0.0</td>\n",
       "      <td>0.0</td>\n",
       "      <td>0.0</td>\n",
       "      <td>0.0</td>\n",
       "      <td>0.0</td>\n",
       "      <td>0.0</td>\n",
       "      <td>0.0</td>\n",
       "      <td>0.0</td>\n",
       "      <td>0.0</td>\n",
       "      <td>1.0</td>\n",
       "      <td>0.0</td>\n",
       "      <td>0.0</td>\n",
       "      <td>0.0</td>\n",
       "      <td>0.0</td>\n",
       "      <td>0.0</td>\n",
       "      <td>0.0</td>\n",
       "      <td>0.0</td>\n",
       "      <td>0.0</td>\n",
       "      <td>0.0</td>\n",
       "      <td>0.0</td>\n",
       "      <td>0.0</td>\n",
       "      <td>0.0</td>\n",
       "      <td>0.0</td>\n",
       "      <td>0.0</td>\n",
       "      <td>0.0</td>\n",
       "      <td>0.0</td>\n",
       "      <td>0.0</td>\n",
       "      <td>0.0</td>\n",
       "      <td>0.0</td>\n",
       "      <td>0.0</td>\n",
       "      <td>0.0</td>\n",
       "      <td>0.0</td>\n",
       "      <td>0.0</td>\n",
       "      <td>0.0</td>\n",
       "      <td>1.0</td>\n",
       "      <td>0.0</td>\n",
       "    </tr>\n",
       "    <tr>\n",
       "      <th>4</th>\n",
       "      <td>0.0</td>\n",
       "      <td>0.126761</td>\n",
       "      <td>0.020896</td>\n",
       "      <td>0.018169</td>\n",
       "      <td>0.0</td>\n",
       "      <td>0.0</td>\n",
       "      <td>0.0</td>\n",
       "      <td>0.0</td>\n",
       "      <td>0.0</td>\n",
       "      <td>0.0</td>\n",
       "      <td>0.0</td>\n",
       "      <td>0.0</td>\n",
       "      <td>0.0</td>\n",
       "      <td>0.0</td>\n",
       "      <td>0.0</td>\n",
       "      <td>0.0</td>\n",
       "      <td>0.0</td>\n",
       "      <td>0.0</td>\n",
       "      <td>0.0</td>\n",
       "      <td>1.0</td>\n",
       "      <td>0.0</td>\n",
       "      <td>0.0</td>\n",
       "      <td>0.0</td>\n",
       "      <td>0.0</td>\n",
       "      <td>0.0</td>\n",
       "      <td>0.0</td>\n",
       "      <td>0.0</td>\n",
       "      <td>0.0</td>\n",
       "      <td>0.0</td>\n",
       "      <td>0.0</td>\n",
       "      <td>0.0</td>\n",
       "      <td>0.0</td>\n",
       "      <td>0.0</td>\n",
       "      <td>1.0</td>\n",
       "      <td>0.0</td>\n",
       "      <td>0.0</td>\n",
       "      <td>0.0</td>\n",
       "      <td>0.0</td>\n",
       "      <td>0.0</td>\n",
       "      <td>0.0</td>\n",
       "      <td>0.0</td>\n",
       "      <td>0.0</td>\n",
       "      <td>0.0</td>\n",
       "      <td>0.0</td>\n",
       "      <td>0.0</td>\n",
       "      <td>0.0</td>\n",
       "      <td>1.0</td>\n",
       "      <td>0.0</td>\n",
       "      <td>0.0</td>\n",
       "      <td>0.0</td>\n",
       "      <td>0.0</td>\n",
       "      <td>0.0</td>\n",
       "      <td>0.0</td>\n",
       "      <td>0.0</td>\n",
       "      <td>0.0</td>\n",
       "      <td>0.0</td>\n",
       "      <td>0.0</td>\n",
       "      <td>0.0</td>\n",
       "      <td>0.0</td>\n",
       "      <td>0.0</td>\n",
       "      <td>0.0</td>\n",
       "      <td>1.0</td>\n",
       "      <td>0.0</td>\n",
       "      <td>0.0</td>\n",
       "      <td>0.0</td>\n",
       "      <td>0.0</td>\n",
       "      <td>0.0</td>\n",
       "      <td>0.0</td>\n",
       "      <td>0.0</td>\n",
       "      <td>0.0</td>\n",
       "      <td>0.0</td>\n",
       "      <td>0.0</td>\n",
       "      <td>0.0</td>\n",
       "      <td>0.0</td>\n",
       "      <td>0.0</td>\n",
       "      <td>1.0</td>\n",
       "      <td>0.0</td>\n",
       "      <td>0.0</td>\n",
       "      <td>0.0</td>\n",
       "      <td>0.0</td>\n",
       "      <td>0.0</td>\n",
       "      <td>0.0</td>\n",
       "      <td>0.0</td>\n",
       "      <td>0.0</td>\n",
       "      <td>0.0</td>\n",
       "      <td>0.0</td>\n",
       "      <td>0.0</td>\n",
       "      <td>0.0</td>\n",
       "      <td>0.0</td>\n",
       "      <td>0.0</td>\n",
       "      <td>1.0</td>\n",
       "      <td>0.0</td>\n",
       "      <td>0.0</td>\n",
       "      <td>0.0</td>\n",
       "      <td>0.0</td>\n",
       "      <td>0.0</td>\n",
       "      <td>0.0</td>\n",
       "      <td>0.0</td>\n",
       "      <td>0.0</td>\n",
       "      <td>0.0</td>\n",
       "      <td>0.0</td>\n",
       "      <td>0.0</td>\n",
       "      <td>0.0</td>\n",
       "      <td>0.0</td>\n",
       "      <td>1.0</td>\n",
       "      <td>0.0</td>\n",
       "      <td>0.0</td>\n",
       "      <td>0.0</td>\n",
       "      <td>0.0</td>\n",
       "      <td>0.0</td>\n",
       "      <td>0.0</td>\n",
       "      <td>0.0</td>\n",
       "      <td>0.0</td>\n",
       "      <td>0.0</td>\n",
       "      <td>0.0</td>\n",
       "      <td>0.0</td>\n",
       "      <td>0.0</td>\n",
       "      <td>0.0</td>\n",
       "      <td>1.0</td>\n",
       "      <td>0.0</td>\n",
       "      <td>0.0</td>\n",
       "      <td>0.0</td>\n",
       "      <td>0.0</td>\n",
       "      <td>0.0</td>\n",
       "      <td>0.0</td>\n",
       "      <td>0.0</td>\n",
       "      <td>0.0</td>\n",
       "      <td>0.0</td>\n",
       "      <td>0.0</td>\n",
       "      <td>0.0</td>\n",
       "      <td>0.0</td>\n",
       "      <td>0.0</td>\n",
       "      <td>1.0</td>\n",
       "      <td>0.0</td>\n",
       "      <td>0.0</td>\n",
       "      <td>0.0</td>\n",
       "      <td>0.0</td>\n",
       "      <td>0.0</td>\n",
       "      <td>0.0</td>\n",
       "      <td>0.0</td>\n",
       "      <td>0.0</td>\n",
       "      <td>0.0</td>\n",
       "      <td>0.0</td>\n",
       "      <td>0.0</td>\n",
       "      <td>0.0</td>\n",
       "      <td>0.0</td>\n",
       "      <td>1.0</td>\n",
       "      <td>0.0</td>\n",
       "      <td>0.0</td>\n",
       "      <td>0.0</td>\n",
       "      <td>0.0</td>\n",
       "      <td>0.0</td>\n",
       "      <td>0.0</td>\n",
       "      <td>0.0</td>\n",
       "      <td>0.0</td>\n",
       "      <td>0.0</td>\n",
       "      <td>0.0</td>\n",
       "      <td>0.0</td>\n",
       "      <td>0.0</td>\n",
       "      <td>0.0</td>\n",
       "      <td>1.0</td>\n",
       "      <td>0.0</td>\n",
       "      <td>0.0</td>\n",
       "      <td>0.0</td>\n",
       "      <td>0.0</td>\n",
       "      <td>0.0</td>\n",
       "      <td>0.0</td>\n",
       "      <td>0.0</td>\n",
       "      <td>0.0</td>\n",
       "      <td>0.0</td>\n",
       "      <td>0.0</td>\n",
       "      <td>0.0</td>\n",
       "      <td>0.0</td>\n",
       "      <td>0.0</td>\n",
       "      <td>0.0</td>\n",
       "      <td>0.0</td>\n",
       "      <td>0.0</td>\n",
       "      <td>0.0</td>\n",
       "      <td>0.0</td>\n",
       "      <td>1.0</td>\n",
       "      <td>0.0</td>\n",
       "      <td>0.0</td>\n",
       "      <td>0.0</td>\n",
       "      <td>0.0</td>\n",
       "      <td>0.0</td>\n",
       "      <td>0.0</td>\n",
       "      <td>0.0</td>\n",
       "      <td>1.0</td>\n",
       "      <td>0.0</td>\n",
       "      <td>0.0</td>\n",
       "      <td>0.0</td>\n",
       "      <td>0.0</td>\n",
       "      <td>0.0</td>\n",
       "      <td>0.0</td>\n",
       "      <td>0.0</td>\n",
       "      <td>0.0</td>\n",
       "      <td>0.0</td>\n",
       "      <td>0.0</td>\n",
       "      <td>0.0</td>\n",
       "      <td>0.0</td>\n",
       "      <td>0.0</td>\n",
       "      <td>0.0</td>\n",
       "      <td>0.0</td>\n",
       "      <td>0.0</td>\n",
       "      <td>1.0</td>\n",
       "      <td>0.0</td>\n",
       "      <td>0.0</td>\n",
       "      <td>0.0</td>\n",
       "      <td>0.0</td>\n",
       "      <td>0.0</td>\n",
       "      <td>0.0</td>\n",
       "      <td>0.0</td>\n",
       "      <td>0.0</td>\n",
       "      <td>0.0</td>\n",
       "    </tr>\n",
       "  </tbody>\n",
       "</table>\n",
       "</div>"
      ],
      "text/plain": [
       "   SeniorCitizen    tenure  MonthlyCharges  TotalCharges  gender_Yes  \\\n",
       "0            0.0  0.239437        0.063682      0.052216         0.0   \n",
       "1            0.0  0.338028        0.018408      0.053912         0.0   \n",
       "2            0.0  0.000000        0.519403      0.005954         0.0   \n",
       "3            0.0  0.873239        0.010945      0.143666         0.0   \n",
       "4            0.0  0.126761        0.020896      0.018169         0.0   \n",
       "\n",
       "   gender_No  gender_No internet service  gender_Two year  \\\n",
       "0        0.0                         0.0              0.0   \n",
       "1        0.0                         0.0              0.0   \n",
       "2        0.0                         0.0              0.0   \n",
       "3        0.0                         0.0              0.0   \n",
       "4        0.0                         0.0              0.0   \n",
       "\n",
       "   gender_Mailed check  gender_Female  gender_DSL  gender_One year  \\\n",
       "0                  0.0            1.0         0.0              0.0   \n",
       "1                  0.0            1.0         0.0              0.0   \n",
       "2                  0.0            0.0         0.0              0.0   \n",
       "3                  0.0            1.0         0.0              0.0   \n",
       "4                  0.0            0.0         0.0              0.0   \n",
       "\n",
       "   gender_Bank transfer (automatic)  gender_Credit card (automatic)  \\\n",
       "0                               0.0                             0.0   \n",
       "1                               0.0                             0.0   \n",
       "2                               0.0                             0.0   \n",
       "3                               0.0                             0.0   \n",
       "4                               0.0                             0.0   \n",
       "\n",
       "   gender_Fiber optic  gender_Month-to-month  gender_Electronic check  \\\n",
       "0                 0.0                    0.0                      0.0   \n",
       "1                 0.0                    0.0                      0.0   \n",
       "2                 0.0                    0.0                      0.0   \n",
       "3                 0.0                    0.0                      0.0   \n",
       "4                 0.0                    0.0                      0.0   \n",
       "\n",
       "   gender_No phone service  Partner_Yes  Partner_No  \\\n",
       "0                      0.0          1.0         0.0   \n",
       "1                      0.0          1.0         0.0   \n",
       "2                      0.0          0.0         1.0   \n",
       "3                      0.0          1.0         0.0   \n",
       "4                      0.0          0.0         1.0   \n",
       "\n",
       "   Partner_No internet service  Partner_Two year  Partner_Mailed check  \\\n",
       "0                          0.0               0.0                   0.0   \n",
       "1                          0.0               0.0                   0.0   \n",
       "2                          0.0               0.0                   0.0   \n",
       "3                          0.0               0.0                   0.0   \n",
       "4                          0.0               0.0                   0.0   \n",
       "\n",
       "   Partner_Female  Partner_DSL  Partner_One year  \\\n",
       "0             0.0          0.0               0.0   \n",
       "1             0.0          0.0               0.0   \n",
       "2             0.0          0.0               0.0   \n",
       "3             0.0          0.0               0.0   \n",
       "4             0.0          0.0               0.0   \n",
       "\n",
       "   Partner_Bank transfer (automatic)  Partner_Credit card (automatic)  \\\n",
       "0                                0.0                              0.0   \n",
       "1                                0.0                              0.0   \n",
       "2                                0.0                              0.0   \n",
       "3                                0.0                              0.0   \n",
       "4                                0.0                              0.0   \n",
       "\n",
       "   Partner_Fiber optic  Partner_Month-to-month  Partner_Electronic check  \\\n",
       "0                  0.0                     0.0                       0.0   \n",
       "1                  0.0                     0.0                       0.0   \n",
       "2                  0.0                     0.0                       0.0   \n",
       "3                  0.0                     0.0                       0.0   \n",
       "4                  0.0                     0.0                       0.0   \n",
       "\n",
       "   Partner_No phone service  Dependents_Yes  Dependents_No  \\\n",
       "0                       0.0             1.0            0.0   \n",
       "1                       0.0             1.0            0.0   \n",
       "2                       0.0             1.0            0.0   \n",
       "3                       0.0             1.0            0.0   \n",
       "4                       0.0             0.0            1.0   \n",
       "\n",
       "   Dependents_No internet service  Dependents_Two year  \\\n",
       "0                             0.0                  0.0   \n",
       "1                             0.0                  0.0   \n",
       "2                             0.0                  0.0   \n",
       "3                             0.0                  0.0   \n",
       "4                             0.0                  0.0   \n",
       "\n",
       "   Dependents_Mailed check  Dependents_Female  Dependents_DSL  \\\n",
       "0                      0.0                0.0             0.0   \n",
       "1                      0.0                0.0             0.0   \n",
       "2                      0.0                0.0             0.0   \n",
       "3                      0.0                0.0             0.0   \n",
       "4                      0.0                0.0             0.0   \n",
       "\n",
       "   Dependents_One year  Dependents_Bank transfer (automatic)  \\\n",
       "0                  0.0                                   0.0   \n",
       "1                  0.0                                   0.0   \n",
       "2                  0.0                                   0.0   \n",
       "3                  0.0                                   0.0   \n",
       "4                  0.0                                   0.0   \n",
       "\n",
       "   Dependents_Credit card (automatic)  Dependents_Fiber optic  \\\n",
       "0                                 0.0                     0.0   \n",
       "1                                 0.0                     0.0   \n",
       "2                                 0.0                     0.0   \n",
       "3                                 0.0                     0.0   \n",
       "4                                 0.0                     0.0   \n",
       "\n",
       "   Dependents_Month-to-month  Dependents_Electronic check  \\\n",
       "0                        0.0                          0.0   \n",
       "1                        0.0                          0.0   \n",
       "2                        0.0                          0.0   \n",
       "3                        0.0                          0.0   \n",
       "4                        0.0                          0.0   \n",
       "\n",
       "   Dependents_No phone service  PhoneService_Yes  PhoneService_No  \\\n",
       "0                          0.0               1.0              0.0   \n",
       "1                          0.0               1.0              0.0   \n",
       "2                          0.0               1.0              0.0   \n",
       "3                          0.0               1.0              0.0   \n",
       "4                          0.0               1.0              0.0   \n",
       "\n",
       "   PhoneService_No internet service  PhoneService_Two year  \\\n",
       "0                               0.0                    0.0   \n",
       "1                               0.0                    0.0   \n",
       "2                               0.0                    0.0   \n",
       "3                               0.0                    0.0   \n",
       "4                               0.0                    0.0   \n",
       "\n",
       "   PhoneService_Mailed check  PhoneService_Female  PhoneService_DSL  \\\n",
       "0                        0.0                  0.0               0.0   \n",
       "1                        0.0                  0.0               0.0   \n",
       "2                        0.0                  0.0               0.0   \n",
       "3                        0.0                  0.0               0.0   \n",
       "4                        0.0                  0.0               0.0   \n",
       "\n",
       "   PhoneService_One year  PhoneService_Bank transfer (automatic)  \\\n",
       "0                    0.0                                     0.0   \n",
       "1                    0.0                                     0.0   \n",
       "2                    0.0                                     0.0   \n",
       "3                    0.0                                     0.0   \n",
       "4                    0.0                                     0.0   \n",
       "\n",
       "   PhoneService_Credit card (automatic)  PhoneService_Fiber optic  \\\n",
       "0                                   0.0                       0.0   \n",
       "1                                   0.0                       0.0   \n",
       "2                                   0.0                       0.0   \n",
       "3                                   0.0                       0.0   \n",
       "4                                   0.0                       0.0   \n",
       "\n",
       "   PhoneService_Month-to-month  PhoneService_Electronic check  \\\n",
       "0                          0.0                            0.0   \n",
       "1                          0.0                            0.0   \n",
       "2                          0.0                            0.0   \n",
       "3                          0.0                            0.0   \n",
       "4                          0.0                            0.0   \n",
       "\n",
       "   PhoneService_No phone service  MultipleLines_Yes  MultipleLines_No  \\\n",
       "0                            0.0                1.0               0.0   \n",
       "1                            0.0                0.0               1.0   \n",
       "2                            0.0                0.0               1.0   \n",
       "3                            0.0                0.0               1.0   \n",
       "4                            0.0                0.0               1.0   \n",
       "\n",
       "   MultipleLines_No internet service  MultipleLines_Two year  \\\n",
       "0                                0.0                     0.0   \n",
       "1                                0.0                     0.0   \n",
       "2                                0.0                     0.0   \n",
       "3                                0.0                     0.0   \n",
       "4                                0.0                     0.0   \n",
       "\n",
       "   MultipleLines_Mailed check  MultipleLines_Female  MultipleLines_DSL  \\\n",
       "0                         0.0                   0.0                0.0   \n",
       "1                         0.0                   0.0                0.0   \n",
       "2                         0.0                   0.0                0.0   \n",
       "3                         0.0                   0.0                0.0   \n",
       "4                         0.0                   0.0                0.0   \n",
       "\n",
       "   MultipleLines_One year  MultipleLines_Bank transfer (automatic)  \\\n",
       "0                     0.0                                      0.0   \n",
       "1                     0.0                                      0.0   \n",
       "2                     0.0                                      0.0   \n",
       "3                     0.0                                      0.0   \n",
       "4                     0.0                                      0.0   \n",
       "\n",
       "   MultipleLines_Credit card (automatic)  MultipleLines_Fiber optic  \\\n",
       "0                                    0.0                        0.0   \n",
       "1                                    0.0                        0.0   \n",
       "2                                    0.0                        0.0   \n",
       "3                                    0.0                        0.0   \n",
       "4                                    0.0                        0.0   \n",
       "\n",
       "   MultipleLines_Month-to-month  MultipleLines_Electronic check  \\\n",
       "0                           0.0                             0.0   \n",
       "1                           0.0                             0.0   \n",
       "2                           0.0                             0.0   \n",
       "3                           0.0                             0.0   \n",
       "4                           0.0                             0.0   \n",
       "\n",
       "   MultipleLines_No phone service  InternetService_Yes  InternetService_No  \\\n",
       "0                             0.0                  0.0                 1.0   \n",
       "1                             0.0                  0.0                 1.0   \n",
       "2                             0.0                  0.0                 0.0   \n",
       "3                             0.0                  0.0                 1.0   \n",
       "4                             0.0                  0.0                 1.0   \n",
       "\n",
       "   InternetService_No internet service  InternetService_Two year  \\\n",
       "0                                  0.0                       0.0   \n",
       "1                                  0.0                       0.0   \n",
       "2                                  0.0                       0.0   \n",
       "3                                  0.0                       0.0   \n",
       "4                                  0.0                       0.0   \n",
       "\n",
       "   InternetService_Mailed check  InternetService_Female  InternetService_DSL  \\\n",
       "0                           0.0                     0.0                  0.0   \n",
       "1                           0.0                     0.0                  0.0   \n",
       "2                           0.0                     0.0                  1.0   \n",
       "3                           0.0                     0.0                  0.0   \n",
       "4                           0.0                     0.0                  0.0   \n",
       "\n",
       "   InternetService_One year  InternetService_Bank transfer (automatic)  \\\n",
       "0                       0.0                                        0.0   \n",
       "1                       0.0                                        0.0   \n",
       "2                       0.0                                        0.0   \n",
       "3                       0.0                                        0.0   \n",
       "4                       0.0                                        0.0   \n",
       "\n",
       "   InternetService_Credit card (automatic)  InternetService_Fiber optic  \\\n",
       "0                                      0.0                          0.0   \n",
       "1                                      0.0                          0.0   \n",
       "2                                      0.0                          0.0   \n",
       "3                                      0.0                          0.0   \n",
       "4                                      0.0                          0.0   \n",
       "\n",
       "   InternetService_Month-to-month  InternetService_Electronic check  \\\n",
       "0                             0.0                               0.0   \n",
       "1                             0.0                               0.0   \n",
       "2                             0.0                               0.0   \n",
       "3                             0.0                               0.0   \n",
       "4                             0.0                               0.0   \n",
       "\n",
       "   InternetService_No phone service  OnlineSecurity_Yes  OnlineSecurity_No  \\\n",
       "0                               0.0                 0.0                0.0   \n",
       "1                               0.0                 0.0                0.0   \n",
       "2                               0.0                 1.0                0.0   \n",
       "3                               0.0                 0.0                0.0   \n",
       "4                               0.0                 0.0                0.0   \n",
       "\n",
       "   OnlineSecurity_No internet service  OnlineSecurity_Two year  \\\n",
       "0                                 1.0                      0.0   \n",
       "1                                 1.0                      0.0   \n",
       "2                                 0.0                      0.0   \n",
       "3                                 1.0                      0.0   \n",
       "4                                 1.0                      0.0   \n",
       "\n",
       "   OnlineSecurity_Mailed check  OnlineSecurity_Female  OnlineSecurity_DSL  \\\n",
       "0                          0.0                    0.0                 0.0   \n",
       "1                          0.0                    0.0                 0.0   \n",
       "2                          0.0                    0.0                 0.0   \n",
       "3                          0.0                    0.0                 0.0   \n",
       "4                          0.0                    0.0                 0.0   \n",
       "\n",
       "   OnlineSecurity_One year  OnlineSecurity_Bank transfer (automatic)  \\\n",
       "0                      0.0                                       0.0   \n",
       "1                      0.0                                       0.0   \n",
       "2                      0.0                                       0.0   \n",
       "3                      0.0                                       0.0   \n",
       "4                      0.0                                       0.0   \n",
       "\n",
       "   OnlineSecurity_Credit card (automatic)  OnlineSecurity_Fiber optic  \\\n",
       "0                                     0.0                         0.0   \n",
       "1                                     0.0                         0.0   \n",
       "2                                     0.0                         0.0   \n",
       "3                                     0.0                         0.0   \n",
       "4                                     0.0                         0.0   \n",
       "\n",
       "   OnlineSecurity_Month-to-month  OnlineSecurity_Electronic check  \\\n",
       "0                            0.0                              0.0   \n",
       "1                            0.0                              0.0   \n",
       "2                            0.0                              0.0   \n",
       "3                            0.0                              0.0   \n",
       "4                            0.0                              0.0   \n",
       "\n",
       "   OnlineSecurity_No phone service  OnlineBackup_Yes  OnlineBackup_No  \\\n",
       "0                              0.0               0.0              0.0   \n",
       "1                              0.0               0.0              0.0   \n",
       "2                              0.0               1.0              0.0   \n",
       "3                              0.0               0.0              0.0   \n",
       "4                              0.0               0.0              0.0   \n",
       "\n",
       "   OnlineBackup_No internet service  OnlineBackup_Two year  \\\n",
       "0                               1.0                    0.0   \n",
       "1                               1.0                    0.0   \n",
       "2                               0.0                    0.0   \n",
       "3                               1.0                    0.0   \n",
       "4                               1.0                    0.0   \n",
       "\n",
       "   OnlineBackup_Mailed check  OnlineBackup_Female  OnlineBackup_DSL  \\\n",
       "0                        0.0                  0.0               0.0   \n",
       "1                        0.0                  0.0               0.0   \n",
       "2                        0.0                  0.0               0.0   \n",
       "3                        0.0                  0.0               0.0   \n",
       "4                        0.0                  0.0               0.0   \n",
       "\n",
       "   OnlineBackup_One year  OnlineBackup_Bank transfer (automatic)  \\\n",
       "0                    0.0                                     0.0   \n",
       "1                    0.0                                     0.0   \n",
       "2                    0.0                                     0.0   \n",
       "3                    0.0                                     0.0   \n",
       "4                    0.0                                     0.0   \n",
       "\n",
       "   OnlineBackup_Credit card (automatic)  OnlineBackup_Fiber optic  \\\n",
       "0                                   0.0                       0.0   \n",
       "1                                   0.0                       0.0   \n",
       "2                                   0.0                       0.0   \n",
       "3                                   0.0                       0.0   \n",
       "4                                   0.0                       0.0   \n",
       "\n",
       "   OnlineBackup_Month-to-month  OnlineBackup_Electronic check  \\\n",
       "0                          0.0                            0.0   \n",
       "1                          0.0                            0.0   \n",
       "2                          0.0                            0.0   \n",
       "3                          0.0                            0.0   \n",
       "4                          0.0                            0.0   \n",
       "\n",
       "   OnlineBackup_No phone service  DeviceProtection_Yes  DeviceProtection_No  \\\n",
       "0                            0.0                   0.0                  0.0   \n",
       "1                            0.0                   0.0                  0.0   \n",
       "2                            0.0                   0.0                  1.0   \n",
       "3                            0.0                   0.0                  0.0   \n",
       "4                            0.0                   0.0                  0.0   \n",
       "\n",
       "   DeviceProtection_No internet service  DeviceProtection_Two year  \\\n",
       "0                                   1.0                        0.0   \n",
       "1                                   1.0                        0.0   \n",
       "2                                   0.0                        0.0   \n",
       "3                                   1.0                        0.0   \n",
       "4                                   1.0                        0.0   \n",
       "\n",
       "   DeviceProtection_Mailed check  DeviceProtection_Female  \\\n",
       "0                            0.0                      0.0   \n",
       "1                            0.0                      0.0   \n",
       "2                            0.0                      0.0   \n",
       "3                            0.0                      0.0   \n",
       "4                            0.0                      0.0   \n",
       "\n",
       "   DeviceProtection_DSL  DeviceProtection_One year  \\\n",
       "0                   0.0                        0.0   \n",
       "1                   0.0                        0.0   \n",
       "2                   0.0                        0.0   \n",
       "3                   0.0                        0.0   \n",
       "4                   0.0                        0.0   \n",
       "\n",
       "   DeviceProtection_Bank transfer (automatic)  \\\n",
       "0                                         0.0   \n",
       "1                                         0.0   \n",
       "2                                         0.0   \n",
       "3                                         0.0   \n",
       "4                                         0.0   \n",
       "\n",
       "   DeviceProtection_Credit card (automatic)  DeviceProtection_Fiber optic  \\\n",
       "0                                       0.0                           0.0   \n",
       "1                                       0.0                           0.0   \n",
       "2                                       0.0                           0.0   \n",
       "3                                       0.0                           0.0   \n",
       "4                                       0.0                           0.0   \n",
       "\n",
       "   DeviceProtection_Month-to-month  DeviceProtection_Electronic check  \\\n",
       "0                              0.0                                0.0   \n",
       "1                              0.0                                0.0   \n",
       "2                              0.0                                0.0   \n",
       "3                              0.0                                0.0   \n",
       "4                              0.0                                0.0   \n",
       "\n",
       "   DeviceProtection_No phone service  TechSupport_Yes  TechSupport_No  \\\n",
       "0                                0.0              0.0             0.0   \n",
       "1                                0.0              0.0             0.0   \n",
       "2                                0.0              1.0             0.0   \n",
       "3                                0.0              0.0             0.0   \n",
       "4                                0.0              0.0             0.0   \n",
       "\n",
       "   TechSupport_No internet service  TechSupport_Two year  \\\n",
       "0                              1.0                   0.0   \n",
       "1                              1.0                   0.0   \n",
       "2                              0.0                   0.0   \n",
       "3                              1.0                   0.0   \n",
       "4                              1.0                   0.0   \n",
       "\n",
       "   TechSupport_Mailed check  TechSupport_Female  TechSupport_DSL  \\\n",
       "0                       0.0                 0.0              0.0   \n",
       "1                       0.0                 0.0              0.0   \n",
       "2                       0.0                 0.0              0.0   \n",
       "3                       0.0                 0.0              0.0   \n",
       "4                       0.0                 0.0              0.0   \n",
       "\n",
       "   TechSupport_One year  TechSupport_Bank transfer (automatic)  \\\n",
       "0                   0.0                                    0.0   \n",
       "1                   0.0                                    0.0   \n",
       "2                   0.0                                    0.0   \n",
       "3                   0.0                                    0.0   \n",
       "4                   0.0                                    0.0   \n",
       "\n",
       "   TechSupport_Credit card (automatic)  TechSupport_Fiber optic  \\\n",
       "0                                  0.0                      0.0   \n",
       "1                                  0.0                      0.0   \n",
       "2                                  0.0                      0.0   \n",
       "3                                  0.0                      0.0   \n",
       "4                                  0.0                      0.0   \n",
       "\n",
       "   TechSupport_Month-to-month  TechSupport_Electronic check  \\\n",
       "0                         0.0                           0.0   \n",
       "1                         0.0                           0.0   \n",
       "2                         0.0                           0.0   \n",
       "3                         0.0                           0.0   \n",
       "4                         0.0                           0.0   \n",
       "\n",
       "   TechSupport_No phone service  StreamingTV_Yes  StreamingTV_No  \\\n",
       "0                           0.0              0.0             0.0   \n",
       "1                           0.0              0.0             0.0   \n",
       "2                           0.0              0.0             1.0   \n",
       "3                           0.0              0.0             0.0   \n",
       "4                           0.0              0.0             0.0   \n",
       "\n",
       "   StreamingTV_No internet service  StreamingTV_Two year  \\\n",
       "0                              1.0                   0.0   \n",
       "1                              1.0                   0.0   \n",
       "2                              0.0                   0.0   \n",
       "3                              1.0                   0.0   \n",
       "4                              1.0                   0.0   \n",
       "\n",
       "   StreamingTV_Mailed check  StreamingTV_Female  StreamingTV_DSL  \\\n",
       "0                       0.0                 0.0              0.0   \n",
       "1                       0.0                 0.0              0.0   \n",
       "2                       0.0                 0.0              0.0   \n",
       "3                       0.0                 0.0              0.0   \n",
       "4                       0.0                 0.0              0.0   \n",
       "\n",
       "   StreamingTV_One year  StreamingTV_Bank transfer (automatic)  \\\n",
       "0                   0.0                                    0.0   \n",
       "1                   0.0                                    0.0   \n",
       "2                   0.0                                    0.0   \n",
       "3                   0.0                                    0.0   \n",
       "4                   0.0                                    0.0   \n",
       "\n",
       "   StreamingTV_Credit card (automatic)  StreamingTV_Fiber optic  \\\n",
       "0                                  0.0                      0.0   \n",
       "1                                  0.0                      0.0   \n",
       "2                                  0.0                      0.0   \n",
       "3                                  0.0                      0.0   \n",
       "4                                  0.0                      0.0   \n",
       "\n",
       "   StreamingTV_Month-to-month  StreamingTV_Electronic check  \\\n",
       "0                         0.0                           0.0   \n",
       "1                         0.0                           0.0   \n",
       "2                         0.0                           0.0   \n",
       "3                         0.0                           0.0   \n",
       "4                         0.0                           0.0   \n",
       "\n",
       "   StreamingTV_No phone service  StreamingMovies_Yes  StreamingMovies_No  \\\n",
       "0                           0.0                  0.0                 0.0   \n",
       "1                           0.0                  0.0                 0.0   \n",
       "2                           0.0                  1.0                 0.0   \n",
       "3                           0.0                  0.0                 0.0   \n",
       "4                           0.0                  0.0                 0.0   \n",
       "\n",
       "   StreamingMovies_No internet service  StreamingMovies_Two year  \\\n",
       "0                                  1.0                       0.0   \n",
       "1                                  1.0                       0.0   \n",
       "2                                  0.0                       0.0   \n",
       "3                                  1.0                       0.0   \n",
       "4                                  1.0                       0.0   \n",
       "\n",
       "   StreamingMovies_Mailed check  StreamingMovies_Female  StreamingMovies_DSL  \\\n",
       "0                           0.0                     0.0                  0.0   \n",
       "1                           0.0                     0.0                  0.0   \n",
       "2                           0.0                     0.0                  0.0   \n",
       "3                           0.0                     0.0                  0.0   \n",
       "4                           0.0                     0.0                  0.0   \n",
       "\n",
       "   StreamingMovies_One year  StreamingMovies_Bank transfer (automatic)  \\\n",
       "0                       0.0                                        0.0   \n",
       "1                       0.0                                        0.0   \n",
       "2                       0.0                                        0.0   \n",
       "3                       0.0                                        0.0   \n",
       "4                       0.0                                        0.0   \n",
       "\n",
       "   StreamingMovies_Credit card (automatic)  StreamingMovies_Fiber optic  \\\n",
       "0                                      0.0                          0.0   \n",
       "1                                      0.0                          0.0   \n",
       "2                                      0.0                          0.0   \n",
       "3                                      0.0                          0.0   \n",
       "4                                      0.0                          0.0   \n",
       "\n",
       "   StreamingMovies_Month-to-month  StreamingMovies_Electronic check  \\\n",
       "0                             0.0                               0.0   \n",
       "1                             0.0                               0.0   \n",
       "2                             0.0                               0.0   \n",
       "3                             0.0                               0.0   \n",
       "4                             0.0                               0.0   \n",
       "\n",
       "   StreamingMovies_No phone service  Contract_Yes  Contract_No  \\\n",
       "0                               0.0           0.0          0.0   \n",
       "1                               0.0           0.0          0.0   \n",
       "2                               0.0           0.0          0.0   \n",
       "3                               0.0           0.0          0.0   \n",
       "4                               0.0           0.0          0.0   \n",
       "\n",
       "   Contract_No internet service  Contract_Two year  Contract_Mailed check  \\\n",
       "0                           0.0                1.0                    0.0   \n",
       "1                           0.0                1.0                    0.0   \n",
       "2                           0.0                0.0                    0.0   \n",
       "3                           0.0                1.0                    0.0   \n",
       "4                           0.0                0.0                    0.0   \n",
       "\n",
       "   Contract_Female  Contract_DSL  Contract_One year  \\\n",
       "0              0.0           0.0                0.0   \n",
       "1              0.0           0.0                0.0   \n",
       "2              0.0           0.0                0.0   \n",
       "3              0.0           0.0                0.0   \n",
       "4              0.0           0.0                1.0   \n",
       "\n",
       "   Contract_Bank transfer (automatic)  Contract_Credit card (automatic)  \\\n",
       "0                                 0.0                               0.0   \n",
       "1                                 0.0                               0.0   \n",
       "2                                 0.0                               0.0   \n",
       "3                                 0.0                               0.0   \n",
       "4                                 0.0                               0.0   \n",
       "\n",
       "   Contract_Fiber optic  Contract_Month-to-month  Contract_Electronic check  \\\n",
       "0                   0.0                      0.0                        0.0   \n",
       "1                   0.0                      0.0                        0.0   \n",
       "2                   0.0                      1.0                        0.0   \n",
       "3                   0.0                      0.0                        0.0   \n",
       "4                   0.0                      0.0                        0.0   \n",
       "\n",
       "   Contract_No phone service  PaperlessBilling_Yes  PaperlessBilling_No  \\\n",
       "0                        0.0                   1.0                  0.0   \n",
       "1                        0.0                   0.0                  1.0   \n",
       "2                        0.0                   1.0                  0.0   \n",
       "3                        0.0                   0.0                  1.0   \n",
       "4                        0.0                   0.0                  1.0   \n",
       "\n",
       "   PaperlessBilling_No internet service  PaperlessBilling_Two year  \\\n",
       "0                                   0.0                        0.0   \n",
       "1                                   0.0                        0.0   \n",
       "2                                   0.0                        0.0   \n",
       "3                                   0.0                        0.0   \n",
       "4                                   0.0                        0.0   \n",
       "\n",
       "   PaperlessBilling_Mailed check  PaperlessBilling_Female  \\\n",
       "0                            0.0                      0.0   \n",
       "1                            0.0                      0.0   \n",
       "2                            0.0                      0.0   \n",
       "3                            0.0                      0.0   \n",
       "4                            0.0                      0.0   \n",
       "\n",
       "   PaperlessBilling_DSL  PaperlessBilling_One year  \\\n",
       "0                   0.0                        0.0   \n",
       "1                   0.0                        0.0   \n",
       "2                   0.0                        0.0   \n",
       "3                   0.0                        0.0   \n",
       "4                   0.0                        0.0   \n",
       "\n",
       "   PaperlessBilling_Bank transfer (automatic)  \\\n",
       "0                                         0.0   \n",
       "1                                         0.0   \n",
       "2                                         0.0   \n",
       "3                                         0.0   \n",
       "4                                         0.0   \n",
       "\n",
       "   PaperlessBilling_Credit card (automatic)  PaperlessBilling_Fiber optic  \\\n",
       "0                                       0.0                           0.0   \n",
       "1                                       0.0                           0.0   \n",
       "2                                       0.0                           0.0   \n",
       "3                                       0.0                           0.0   \n",
       "4                                       0.0                           0.0   \n",
       "\n",
       "   PaperlessBilling_Month-to-month  PaperlessBilling_Electronic check  \\\n",
       "0                              0.0                                0.0   \n",
       "1                              0.0                                0.0   \n",
       "2                              0.0                                0.0   \n",
       "3                              0.0                                0.0   \n",
       "4                              0.0                                0.0   \n",
       "\n",
       "   PaperlessBilling_No phone service  PaymentMethod_Yes  PaymentMethod_No  \\\n",
       "0                                0.0                0.0               0.0   \n",
       "1                                0.0                0.0               0.0   \n",
       "2                                0.0                0.0               0.0   \n",
       "3                                0.0                0.0               0.0   \n",
       "4                                0.0                0.0               0.0   \n",
       "\n",
       "   PaymentMethod_No internet service  PaymentMethod_Two year  \\\n",
       "0                                0.0                     0.0   \n",
       "1                                0.0                     0.0   \n",
       "2                                0.0                     0.0   \n",
       "3                                0.0                     0.0   \n",
       "4                                0.0                     0.0   \n",
       "\n",
       "   PaymentMethod_Mailed check  PaymentMethod_Female  PaymentMethod_DSL  \\\n",
       "0                         0.0                   0.0                0.0   \n",
       "1                         1.0                   0.0                0.0   \n",
       "2                         0.0                   0.0                0.0   \n",
       "3                         0.0                   0.0                0.0   \n",
       "4                         1.0                   0.0                0.0   \n",
       "\n",
       "   PaymentMethod_One year  PaymentMethod_Bank transfer (automatic)  \\\n",
       "0                     0.0                                      0.0   \n",
       "1                     0.0                                      0.0   \n",
       "2                     0.0                                      1.0   \n",
       "3                     0.0                                      0.0   \n",
       "4                     0.0                                      0.0   \n",
       "\n",
       "   PaymentMethod_Credit card (automatic)  PaymentMethod_Fiber optic  \\\n",
       "0                                    1.0                        0.0   \n",
       "1                                    0.0                        0.0   \n",
       "2                                    0.0                        0.0   \n",
       "3                                    0.0                        0.0   \n",
       "4                                    0.0                        0.0   \n",
       "\n",
       "   PaymentMethod_Month-to-month  PaymentMethod_Electronic check  \\\n",
       "0                           0.0                             0.0   \n",
       "1                           0.0                             0.0   \n",
       "2                           0.0                             0.0   \n",
       "3                           0.0                             1.0   \n",
       "4                           0.0                             0.0   \n",
       "\n",
       "   PaymentMethod_No phone service  \n",
       "0                             0.0  \n",
       "1                             0.0  \n",
       "2                             0.0  \n",
       "3                             0.0  \n",
       "4                             0.0  "
      ]
     },
     "execution_count": 93,
     "metadata": {},
     "output_type": "execute_result"
    }
   ],
   "source": [
    "print('Data inference shape : ',data_inf_final.shape)\n",
    "data_inf_final.head()"
   ]
  },
  {
   "cell_type": "code",
   "execution_count": null,
   "metadata": {},
   "outputs": [],
   "source": [
    "# dimensionality reduction\n",
    "data_inf_final_pca18 = pca18.transform(data_inf_final)"
   ]
  },
  {
   "cell_type": "code",
   "execution_count": null,
   "metadata": {},
   "outputs": [
    {
     "data": {
      "text/html": [
       "<div>\n",
       "<style scoped>\n",
       "    .dataframe tbody tr th:only-of-type {\n",
       "        vertical-align: middle;\n",
       "    }\n",
       "\n",
       "    .dataframe tbody tr th {\n",
       "        vertical-align: top;\n",
       "    }\n",
       "\n",
       "    .dataframe thead th {\n",
       "        text-align: right;\n",
       "    }\n",
       "</style>\n",
       "<table border=\"1\" class=\"dataframe\">\n",
       "  <thead>\n",
       "    <tr style=\"text-align: right;\">\n",
       "      <th></th>\n",
       "      <th>PCA_1</th>\n",
       "      <th>PCA_2</th>\n",
       "      <th>PCA_3</th>\n",
       "      <th>PCA_4</th>\n",
       "      <th>PCA_5</th>\n",
       "      <th>PCA_6</th>\n",
       "      <th>PCA_7</th>\n",
       "      <th>PCA_8</th>\n",
       "      <th>PCA_9</th>\n",
       "      <th>PCA_10</th>\n",
       "      <th>PCA_11</th>\n",
       "      <th>PCA_12</th>\n",
       "      <th>PCA_13</th>\n",
       "      <th>PCA_14</th>\n",
       "      <th>PCA_15</th>\n",
       "      <th>PCA_16</th>\n",
       "      <th>PCA_17</th>\n",
       "      <th>PCA_18</th>\n",
       "    </tr>\n",
       "  </thead>\n",
       "  <tbody>\n",
       "    <tr>\n",
       "      <th>0</th>\n",
       "      <td>2.433494</td>\n",
       "      <td>0.813975</td>\n",
       "      <td>-0.557431</td>\n",
       "      <td>-0.971321</td>\n",
       "      <td>-0.339032</td>\n",
       "      <td>-0.757018</td>\n",
       "      <td>0.949942</td>\n",
       "      <td>-0.470069</td>\n",
       "      <td>-0.019983</td>\n",
       "      <td>-0.034172</td>\n",
       "      <td>-0.207864</td>\n",
       "      <td>0.452345</td>\n",
       "      <td>0.141267</td>\n",
       "      <td>0.239287</td>\n",
       "      <td>0.806899</td>\n",
       "      <td>0.007792</td>\n",
       "      <td>-0.286414</td>\n",
       "      <td>0.081810</td>\n",
       "    </tr>\n",
       "    <tr>\n",
       "      <th>1</th>\n",
       "      <td>3.060156</td>\n",
       "      <td>0.289950</td>\n",
       "      <td>0.217901</td>\n",
       "      <td>-0.824417</td>\n",
       "      <td>0.296968</td>\n",
       "      <td>0.222880</td>\n",
       "      <td>-0.154919</td>\n",
       "      <td>0.075824</td>\n",
       "      <td>-0.127195</td>\n",
       "      <td>0.045244</td>\n",
       "      <td>-0.454508</td>\n",
       "      <td>0.314839</td>\n",
       "      <td>-0.124569</td>\n",
       "      <td>-0.032390</td>\n",
       "      <td>0.100581</td>\n",
       "      <td>-0.107372</td>\n",
       "      <td>0.159135</td>\n",
       "      <td>0.508607</td>\n",
       "    </tr>\n",
       "    <tr>\n",
       "      <th>2</th>\n",
       "      <td>-0.382558</td>\n",
       "      <td>0.041753</td>\n",
       "      <td>1.100562</td>\n",
       "      <td>0.198637</td>\n",
       "      <td>0.021230</td>\n",
       "      <td>-1.100290</td>\n",
       "      <td>-0.863264</td>\n",
       "      <td>0.037658</td>\n",
       "      <td>-1.176857</td>\n",
       "      <td>0.178953</td>\n",
       "      <td>0.432488</td>\n",
       "      <td>0.477604</td>\n",
       "      <td>-0.218322</td>\n",
       "      <td>0.715916</td>\n",
       "      <td>-1.010077</td>\n",
       "      <td>-0.704818</td>\n",
       "      <td>-0.450224</td>\n",
       "      <td>-0.609276</td>\n",
       "    </tr>\n",
       "    <tr>\n",
       "      <th>3</th>\n",
       "      <td>2.823593</td>\n",
       "      <td>0.411128</td>\n",
       "      <td>-0.036118</td>\n",
       "      <td>-0.912401</td>\n",
       "      <td>0.309227</td>\n",
       "      <td>0.340015</td>\n",
       "      <td>-0.022173</td>\n",
       "      <td>0.223306</td>\n",
       "      <td>-0.048177</td>\n",
       "      <td>0.232612</td>\n",
       "      <td>-0.484785</td>\n",
       "      <td>0.120556</td>\n",
       "      <td>-0.439291</td>\n",
       "      <td>-0.042646</td>\n",
       "      <td>0.142967</td>\n",
       "      <td>0.462542</td>\n",
       "      <td>-0.979252</td>\n",
       "      <td>0.472384</td>\n",
       "    </tr>\n",
       "    <tr>\n",
       "      <th>4</th>\n",
       "      <td>2.792044</td>\n",
       "      <td>-0.722700</td>\n",
       "      <td>-0.212381</td>\n",
       "      <td>0.856656</td>\n",
       "      <td>0.031959</td>\n",
       "      <td>0.222690</td>\n",
       "      <td>-0.305122</td>\n",
       "      <td>0.174869</td>\n",
       "      <td>0.006875</td>\n",
       "      <td>-0.018222</td>\n",
       "      <td>0.536673</td>\n",
       "      <td>-0.325474</td>\n",
       "      <td>0.487461</td>\n",
       "      <td>0.003226</td>\n",
       "      <td>-0.379538</td>\n",
       "      <td>0.522555</td>\n",
       "      <td>0.496151</td>\n",
       "      <td>0.079405</td>\n",
       "    </tr>\n",
       "  </tbody>\n",
       "</table>\n",
       "</div>"
      ],
      "text/plain": [
       "      PCA_1     PCA_2     PCA_3     PCA_4     PCA_5     PCA_6     PCA_7  \\\n",
       "0  2.433494  0.813975 -0.557431 -0.971321 -0.339032 -0.757018  0.949942   \n",
       "1  3.060156  0.289950  0.217901 -0.824417  0.296968  0.222880 -0.154919   \n",
       "2 -0.382558  0.041753  1.100562  0.198637  0.021230 -1.100290 -0.863264   \n",
       "3  2.823593  0.411128 -0.036118 -0.912401  0.309227  0.340015 -0.022173   \n",
       "4  2.792044 -0.722700 -0.212381  0.856656  0.031959  0.222690 -0.305122   \n",
       "\n",
       "      PCA_8     PCA_9    PCA_10    PCA_11    PCA_12    PCA_13    PCA_14  \\\n",
       "0 -0.470069 -0.019983 -0.034172 -0.207864  0.452345  0.141267  0.239287   \n",
       "1  0.075824 -0.127195  0.045244 -0.454508  0.314839 -0.124569 -0.032390   \n",
       "2  0.037658 -1.176857  0.178953  0.432488  0.477604 -0.218322  0.715916   \n",
       "3  0.223306 -0.048177  0.232612 -0.484785  0.120556 -0.439291 -0.042646   \n",
       "4  0.174869  0.006875 -0.018222  0.536673 -0.325474  0.487461  0.003226   \n",
       "\n",
       "     PCA_15    PCA_16    PCA_17    PCA_18  \n",
       "0  0.806899  0.007792 -0.286414  0.081810  \n",
       "1  0.100581 -0.107372  0.159135  0.508607  \n",
       "2 -1.010077 -0.704818 -0.450224 -0.609276  \n",
       "3  0.142967  0.462542 -0.979252  0.472384  \n",
       "4 -0.379538  0.522555  0.496151  0.079405  "
      ]
     },
     "execution_count": 95,
     "metadata": {},
     "output_type": "execute_result"
    }
   ],
   "source": [
    "data_inf_final_pca18_df = pd.DataFrame(data_inf_final_pca18, columns=['PCA_'+str(i) for i in range(1,19)])\n",
    "data_inf_final_pca18_df.head()"
   ]
  },
  {
   "cell_type": "code",
   "execution_count": null,
   "metadata": {},
   "outputs": [],
   "source": [
    "# get prediction\n",
    "y_pred_inf = tuned_model.predict(data_inf_final_pca18)\n",
    "y_pred_inf = np.where(y_pred_inf >= 0.5,1,0)"
   ]
  },
  {
   "cell_type": "code",
   "execution_count": null,
   "metadata": {},
   "outputs": [],
   "source": [
    "# convert to dataframe\n",
    "y_pred_inf_df = pd.DataFrame(y_pred_inf, columns=['Churn-Pred'])"
   ]
  },
  {
   "cell_type": "code",
   "execution_count": null,
   "metadata": {},
   "outputs": [],
   "source": [
    "data_inf1 = data_inf.copy()\n",
    "data_inf1['Churn'] = data_inf1.Churn.replace({0: 'No', 1: 'Yes'})"
   ]
  },
  {
   "cell_type": "code",
   "execution_count": null,
   "metadata": {},
   "outputs": [
    {
     "name": "stdout",
     "output_type": "stream",
     "text": [
      "Model prediction to new data\n"
     ]
    },
    {
     "data": {
      "text/html": [
       "<div>\n",
       "<style scoped>\n",
       "    .dataframe tbody tr th:only-of-type {\n",
       "        vertical-align: middle;\n",
       "    }\n",
       "\n",
       "    .dataframe tbody tr th {\n",
       "        vertical-align: top;\n",
       "    }\n",
       "\n",
       "    .dataframe thead th {\n",
       "        text-align: right;\n",
       "    }\n",
       "</style>\n",
       "<table border=\"1\" class=\"dataframe\">\n",
       "  <thead>\n",
       "    <tr style=\"text-align: right;\">\n",
       "      <th></th>\n",
       "      <th>Churn</th>\n",
       "      <th>Churn-Pred</th>\n",
       "    </tr>\n",
       "  </thead>\n",
       "  <tbody>\n",
       "    <tr>\n",
       "      <th>0</th>\n",
       "      <td>No</td>\n",
       "      <td>0</td>\n",
       "    </tr>\n",
       "    <tr>\n",
       "      <th>1</th>\n",
       "      <td>No</td>\n",
       "      <td>0</td>\n",
       "    </tr>\n",
       "    <tr>\n",
       "      <th>2</th>\n",
       "      <td>No</td>\n",
       "      <td>0</td>\n",
       "    </tr>\n",
       "    <tr>\n",
       "      <th>3</th>\n",
       "      <td>No</td>\n",
       "      <td>0</td>\n",
       "    </tr>\n",
       "    <tr>\n",
       "      <th>4</th>\n",
       "      <td>No</td>\n",
       "      <td>0</td>\n",
       "    </tr>\n",
       "    <tr>\n",
       "      <th>5</th>\n",
       "      <td>No</td>\n",
       "      <td>0</td>\n",
       "    </tr>\n",
       "    <tr>\n",
       "      <th>6</th>\n",
       "      <td>No</td>\n",
       "      <td>0</td>\n",
       "    </tr>\n",
       "    <tr>\n",
       "      <th>7</th>\n",
       "      <td>Yes</td>\n",
       "      <td>1</td>\n",
       "    </tr>\n",
       "    <tr>\n",
       "      <th>8</th>\n",
       "      <td>Yes</td>\n",
       "      <td>0</td>\n",
       "    </tr>\n",
       "    <tr>\n",
       "      <th>9</th>\n",
       "      <td>No</td>\n",
       "      <td>0</td>\n",
       "    </tr>\n",
       "  </tbody>\n",
       "</table>\n",
       "</div>"
      ],
      "text/plain": [
       "  Churn  Churn-Pred\n",
       "0    No           0\n",
       "1    No           0\n",
       "2    No           0\n",
       "3    No           0\n",
       "4    No           0\n",
       "5    No           0\n",
       "6    No           0\n",
       "7   Yes           1\n",
       "8   Yes           0\n",
       "9    No           0"
      ]
     },
     "execution_count": 99,
     "metadata": {},
     "output_type": "execute_result"
    }
   ],
   "source": [
    "# concat prediction with real data \n",
    "print('Model prediction to new data')\n",
    "final_log = pd.concat([data_inf1, y_pred_inf_df], axis=1)\n",
    "final_log[['Churn', 'Churn-Pred']].head(10)"
   ]
  },
  {
   "cell_type": "markdown",
   "metadata": {},
   "source": [
    "The model is able to predict new data. Based on the first 10 predictions as above, the model only gave 1 wrong prediction. In onther word, it has accuracy of 90%."
   ]
  },
  {
   "cell_type": "markdown",
   "metadata": {},
   "source": [
    "---\n",
    "# 11 - Conclusions"
   ]
  },
  {
   "cell_type": "markdown",
   "metadata": {},
   "source": [
    "We have made a model that can predict the churn of the customer based on a dataset with 7043 entries and 21 columns.\n",
    "\n",
    "The dataset does not have any outlier and barely have missing values.\n",
    "\n",
    "Scaler and encoder used were MinMaxScaler and OneHotEncoder.\n",
    "\n",
    "After scaling and encoding, there were 214 features. So, we reduced the dimensionality with PCA. We were able to capture about 95% of the variance with 18 number of principal components.\n",
    "\n",
    "Since the dataset is slightly imbalanced (there are more not churned compared to churned customers), we did oversampling to balance the dataset with SMOTE.\n",
    "\n",
    "We made 3 ANN models. The first model has 3 hidden layers with additional dropout and batch normalization. The second model has only 2 hidden layers and dropouts. The third model was made with Keras Tuner using Hyperband algorithm. It has 4 hidden layers, dropouts, and the learning rate for adam optimizer was 0.001.\n",
    "\n",
    "The third model, named tuned_model, performed the best with accuracy of 74% against test set. Furthermore, it was able to predict new data with only 1 wrong prediction out of 10 predictions.\n",
    "\n",
    "The model can be further improved by tuning more hyperparameters, or by using different feature engineering techniques (e.g. scaler, encoder, PCA, etc.), and so on."
   ]
  }
 ],
 "metadata": {
  "interpreter": {
   "hash": "237f056439537ffe9a92d263e1b51648575942e6a4422a3c816f91e7ce2bc02d"
  },
  "kernelspec": {
   "display_name": "Python 3.9.13 ('ml_envi')",
   "language": "python",
   "name": "python3"
  },
  "language_info": {
   "codemirror_mode": {
    "name": "ipython",
    "version": 3
   },
   "file_extension": ".py",
   "mimetype": "text/x-python",
   "name": "python",
   "nbconvert_exporter": "python",
   "pygments_lexer": "ipython3",
   "version": "3.9.13"
  },
  "orig_nbformat": 4
 },
 "nbformat": 4,
 "nbformat_minor": 2
}
